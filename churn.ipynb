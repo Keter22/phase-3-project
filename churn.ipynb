{
 "cells": [
  {
   "cell_type": "markdown",
   "metadata": {},
   "source": [
    "### BUSINESS UNDERSTANDING "
   ]
  },
  {
   "cell_type": "markdown",
   "metadata": {},
   "source": [
    "##### Problem Statement"
   ]
  },
  {
   "cell_type": "markdown",
   "metadata": {},
   "source": [
    "Syriatel, a telecommunication company in Syria are worried of losing customers recently and it seems to get worse overtime.To try and fix this, the project aims to analyze customer data and create machine learning models to identify those at risk of churning,while keeping focus on the main goal of achieving accurate predictions.By understanding why customers leave, Syriatel can hopefully improve their services and improve on customer retention which in turn will attract new clients by effectively allocating resources based on the predictions."
   ]
  },
  {
   "cell_type": "markdown",
   "metadata": {},
   "source": [
    "#### Objectives"
   ]
  },
  {
   "cell_type": "markdown",
   "metadata": {},
   "source": [
    "1. Find reasons behind churning\n",
    "2. To create models to predict future rate of churning accurately.\n",
    "3. Find solutions to curb churning "
   ]
  },
  {
   "cell_type": "markdown",
   "metadata": {},
   "source": [
    "#### Performance Metric"
   ]
  },
  {
   "cell_type": "markdown",
   "metadata": {},
   "source": [
    "1. To develop prediction model  with recall score which is a key perfomance metrics to ensure the predictions are meaningful.\n",
    "2. To point out on features that significally leads to churning \n",
    "3. Provide solutions to the company which will have an impact on churning and improve on customer retention."
   ]
  },
  {
   "cell_type": "markdown",
   "metadata": {},
   "source": [
    "### DATA UNDERSTANDING"
   ]
  },
  {
   "cell_type": "code",
   "execution_count": 5,
   "metadata": {},
   "outputs": [],
   "source": [
    "# Importing necessary modules and packages\n",
    "\n",
    "#for data analysis and manipulation\n",
    "import pandas as pd\n",
    "import numpy as np\n",
    "\n",
    "#For plotting\n",
    "import matplotlib.pyplot as plt\n",
    "import seaborn as sns\n",
    "import plotly.express as px\n",
    "\n",
    "# Set visualization style\n",
    "sns.set_style(\"darkgrid\")\n",
    "\n",
    "# Display plots in the notebook\n",
    "%matplotlib inline\n",
    "\n",
    "#Modelling and supervised learning\n",
    "from sklearn.preprocessing import MinMaxScaler\n",
    "from sklearn.model_selection import train_test_split, cross_val_score\n",
    "from sklearn.metrics import accuracy_score, f1_score, recall_score, precision_score, roc_curve, roc_auc_score, classification_report, confusion_matrix\n",
    "from sklearn.linear_model import LogisticRegression\n",
    "from sklearn.ensemble import RandomForestClassifier \n",
    "from sklearn.tree import DecisionTreeClassifier\n",
    "from sklearn import tree\n",
    "from sklearn.datasets import make_classification\n",
    "from imblearn.over_sampling import SMOTE, SMOTENC\n",
    "\n",
    "#Model tuning\n",
    "from sklearn.model_selection import GridSearchCV\n",
    "from sklearn.ensemble import RandomForestClassifier\n",
    "\n",
    "\n",
    "# Filter warnings\n",
    "import warnings\n",
    "warnings.filterwarnings(\"ignore\")"
   ]
  },
  {
   "cell_type": "code",
   "execution_count": 6,
   "metadata": {},
   "outputs": [
    {
     "data": {
      "text/html": [
       "<div>\n",
       "<style scoped>\n",
       "    .dataframe tbody tr th:only-of-type {\n",
       "        vertical-align: middle;\n",
       "    }\n",
       "\n",
       "    .dataframe tbody tr th {\n",
       "        vertical-align: top;\n",
       "    }\n",
       "\n",
       "    .dataframe thead th {\n",
       "        text-align: right;\n",
       "    }\n",
       "</style>\n",
       "<table border=\"1\" class=\"dataframe\">\n",
       "  <thead>\n",
       "    <tr style=\"text-align: right;\">\n",
       "      <th></th>\n",
       "      <th>state</th>\n",
       "      <th>account length</th>\n",
       "      <th>area code</th>\n",
       "      <th>phone number</th>\n",
       "      <th>international plan</th>\n",
       "      <th>voice mail plan</th>\n",
       "      <th>number vmail messages</th>\n",
       "      <th>total day minutes</th>\n",
       "      <th>total day calls</th>\n",
       "      <th>total day charge</th>\n",
       "      <th>...</th>\n",
       "      <th>total eve calls</th>\n",
       "      <th>total eve charge</th>\n",
       "      <th>total night minutes</th>\n",
       "      <th>total night calls</th>\n",
       "      <th>total night charge</th>\n",
       "      <th>total intl minutes</th>\n",
       "      <th>total intl calls</th>\n",
       "      <th>total intl charge</th>\n",
       "      <th>customer service calls</th>\n",
       "      <th>churn</th>\n",
       "    </tr>\n",
       "  </thead>\n",
       "  <tbody>\n",
       "    <tr>\n",
       "      <th>0</th>\n",
       "      <td>KS</td>\n",
       "      <td>128</td>\n",
       "      <td>415</td>\n",
       "      <td>382-4657</td>\n",
       "      <td>no</td>\n",
       "      <td>yes</td>\n",
       "      <td>25</td>\n",
       "      <td>265.1</td>\n",
       "      <td>110</td>\n",
       "      <td>45.07</td>\n",
       "      <td>...</td>\n",
       "      <td>99</td>\n",
       "      <td>16.78</td>\n",
       "      <td>244.7</td>\n",
       "      <td>91</td>\n",
       "      <td>11.01</td>\n",
       "      <td>10.0</td>\n",
       "      <td>3</td>\n",
       "      <td>2.70</td>\n",
       "      <td>1</td>\n",
       "      <td>False</td>\n",
       "    </tr>\n",
       "    <tr>\n",
       "      <th>1</th>\n",
       "      <td>OH</td>\n",
       "      <td>107</td>\n",
       "      <td>415</td>\n",
       "      <td>371-7191</td>\n",
       "      <td>no</td>\n",
       "      <td>yes</td>\n",
       "      <td>26</td>\n",
       "      <td>161.6</td>\n",
       "      <td>123</td>\n",
       "      <td>27.47</td>\n",
       "      <td>...</td>\n",
       "      <td>103</td>\n",
       "      <td>16.62</td>\n",
       "      <td>254.4</td>\n",
       "      <td>103</td>\n",
       "      <td>11.45</td>\n",
       "      <td>13.7</td>\n",
       "      <td>3</td>\n",
       "      <td>3.70</td>\n",
       "      <td>1</td>\n",
       "      <td>False</td>\n",
       "    </tr>\n",
       "    <tr>\n",
       "      <th>2</th>\n",
       "      <td>NJ</td>\n",
       "      <td>137</td>\n",
       "      <td>415</td>\n",
       "      <td>358-1921</td>\n",
       "      <td>no</td>\n",
       "      <td>no</td>\n",
       "      <td>0</td>\n",
       "      <td>243.4</td>\n",
       "      <td>114</td>\n",
       "      <td>41.38</td>\n",
       "      <td>...</td>\n",
       "      <td>110</td>\n",
       "      <td>10.30</td>\n",
       "      <td>162.6</td>\n",
       "      <td>104</td>\n",
       "      <td>7.32</td>\n",
       "      <td>12.2</td>\n",
       "      <td>5</td>\n",
       "      <td>3.29</td>\n",
       "      <td>0</td>\n",
       "      <td>False</td>\n",
       "    </tr>\n",
       "    <tr>\n",
       "      <th>3</th>\n",
       "      <td>OH</td>\n",
       "      <td>84</td>\n",
       "      <td>408</td>\n",
       "      <td>375-9999</td>\n",
       "      <td>yes</td>\n",
       "      <td>no</td>\n",
       "      <td>0</td>\n",
       "      <td>299.4</td>\n",
       "      <td>71</td>\n",
       "      <td>50.90</td>\n",
       "      <td>...</td>\n",
       "      <td>88</td>\n",
       "      <td>5.26</td>\n",
       "      <td>196.9</td>\n",
       "      <td>89</td>\n",
       "      <td>8.86</td>\n",
       "      <td>6.6</td>\n",
       "      <td>7</td>\n",
       "      <td>1.78</td>\n",
       "      <td>2</td>\n",
       "      <td>False</td>\n",
       "    </tr>\n",
       "    <tr>\n",
       "      <th>4</th>\n",
       "      <td>OK</td>\n",
       "      <td>75</td>\n",
       "      <td>415</td>\n",
       "      <td>330-6626</td>\n",
       "      <td>yes</td>\n",
       "      <td>no</td>\n",
       "      <td>0</td>\n",
       "      <td>166.7</td>\n",
       "      <td>113</td>\n",
       "      <td>28.34</td>\n",
       "      <td>...</td>\n",
       "      <td>122</td>\n",
       "      <td>12.61</td>\n",
       "      <td>186.9</td>\n",
       "      <td>121</td>\n",
       "      <td>8.41</td>\n",
       "      <td>10.1</td>\n",
       "      <td>3</td>\n",
       "      <td>2.73</td>\n",
       "      <td>3</td>\n",
       "      <td>False</td>\n",
       "    </tr>\n",
       "  </tbody>\n",
       "</table>\n",
       "<p>5 rows × 21 columns</p>\n",
       "</div>"
      ],
      "text/plain": [
       "  state  account length  area code phone number international plan  \\\n",
       "0    KS             128        415     382-4657                 no   \n",
       "1    OH             107        415     371-7191                 no   \n",
       "2    NJ             137        415     358-1921                 no   \n",
       "3    OH              84        408     375-9999                yes   \n",
       "4    OK              75        415     330-6626                yes   \n",
       "\n",
       "  voice mail plan  number vmail messages  total day minutes  total day calls  \\\n",
       "0             yes                     25              265.1              110   \n",
       "1             yes                     26              161.6              123   \n",
       "2              no                      0              243.4              114   \n",
       "3              no                      0              299.4               71   \n",
       "4              no                      0              166.7              113   \n",
       "\n",
       "   total day charge  ...  total eve calls  total eve charge  \\\n",
       "0             45.07  ...               99             16.78   \n",
       "1             27.47  ...              103             16.62   \n",
       "2             41.38  ...              110             10.30   \n",
       "3             50.90  ...               88              5.26   \n",
       "4             28.34  ...              122             12.61   \n",
       "\n",
       "   total night minutes  total night calls  total night charge  \\\n",
       "0                244.7                 91               11.01   \n",
       "1                254.4                103               11.45   \n",
       "2                162.6                104                7.32   \n",
       "3                196.9                 89                8.86   \n",
       "4                186.9                121                8.41   \n",
       "\n",
       "   total intl minutes  total intl calls  total intl charge  \\\n",
       "0                10.0                 3               2.70   \n",
       "1                13.7                 3               3.70   \n",
       "2                12.2                 5               3.29   \n",
       "3                 6.6                 7               1.78   \n",
       "4                10.1                 3               2.73   \n",
       "\n",
       "   customer service calls  churn  \n",
       "0                       1  False  \n",
       "1                       1  False  \n",
       "2                       0  False  \n",
       "3                       2  False  \n",
       "4                       3  False  \n",
       "\n",
       "[5 rows x 21 columns]"
      ]
     },
     "execution_count": 6,
     "metadata": {},
     "output_type": "execute_result"
    }
   ],
   "source": [
    "#load data\n",
    "data = pd.read_csv('churn_telecom.csv')\n",
    "data.head()"
   ]
  },
  {
   "cell_type": "code",
   "execution_count": 7,
   "metadata": {},
   "outputs": [
    {
     "name": "stdout",
     "output_type": "stream",
     "text": [
      "<class 'pandas.core.frame.DataFrame'>\n",
      "RangeIndex: 3333 entries, 0 to 3332\n",
      "Data columns (total 21 columns):\n",
      " #   Column                  Non-Null Count  Dtype  \n",
      "---  ------                  --------------  -----  \n",
      " 0   state                   3333 non-null   object \n",
      " 1   account length          3333 non-null   int64  \n",
      " 2   area code               3333 non-null   int64  \n",
      " 3   phone number            3333 non-null   object \n",
      " 4   international plan      3333 non-null   object \n",
      " 5   voice mail plan         3333 non-null   object \n",
      " 6   number vmail messages   3333 non-null   int64  \n",
      " 7   total day minutes       3333 non-null   float64\n",
      " 8   total day calls         3333 non-null   int64  \n",
      " 9   total day charge        3333 non-null   float64\n",
      " 10  total eve minutes       3333 non-null   float64\n",
      " 11  total eve calls         3333 non-null   int64  \n",
      " 12  total eve charge        3333 non-null   float64\n",
      " 13  total night minutes     3333 non-null   float64\n",
      " 14  total night calls       3333 non-null   int64  \n",
      " 15  total night charge      3333 non-null   float64\n",
      " 16  total intl minutes      3333 non-null   float64\n",
      " 17  total intl calls        3333 non-null   int64  \n",
      " 18  total intl charge       3333 non-null   float64\n",
      " 19  customer service calls  3333 non-null   int64  \n",
      " 20  churn                   3333 non-null   bool   \n",
      "dtypes: bool(1), float64(8), int64(8), object(4)\n",
      "memory usage: 524.2+ KB\n"
     ]
    }
   ],
   "source": [
    "data.info()"
   ]
  },
  {
   "cell_type": "code",
   "execution_count": 8,
   "metadata": {},
   "outputs": [
    {
     "data": {
      "text/html": [
       "<div>\n",
       "<style scoped>\n",
       "    .dataframe tbody tr th:only-of-type {\n",
       "        vertical-align: middle;\n",
       "    }\n",
       "\n",
       "    .dataframe tbody tr th {\n",
       "        vertical-align: top;\n",
       "    }\n",
       "\n",
       "    .dataframe thead th {\n",
       "        text-align: right;\n",
       "    }\n",
       "</style>\n",
       "<table border=\"1\" class=\"dataframe\">\n",
       "  <thead>\n",
       "    <tr style=\"text-align: right;\">\n",
       "      <th></th>\n",
       "      <th>account length</th>\n",
       "      <th>area code</th>\n",
       "      <th>number vmail messages</th>\n",
       "      <th>total day minutes</th>\n",
       "      <th>total day calls</th>\n",
       "      <th>total day charge</th>\n",
       "      <th>total eve minutes</th>\n",
       "      <th>total eve calls</th>\n",
       "      <th>total eve charge</th>\n",
       "      <th>total night minutes</th>\n",
       "      <th>total night calls</th>\n",
       "      <th>total night charge</th>\n",
       "      <th>total intl minutes</th>\n",
       "      <th>total intl calls</th>\n",
       "      <th>total intl charge</th>\n",
       "      <th>customer service calls</th>\n",
       "    </tr>\n",
       "  </thead>\n",
       "  <tbody>\n",
       "    <tr>\n",
       "      <th>count</th>\n",
       "      <td>3333.000000</td>\n",
       "      <td>3333.000000</td>\n",
       "      <td>3333.000000</td>\n",
       "      <td>3333.000000</td>\n",
       "      <td>3333.000000</td>\n",
       "      <td>3333.000000</td>\n",
       "      <td>3333.000000</td>\n",
       "      <td>3333.000000</td>\n",
       "      <td>3333.000000</td>\n",
       "      <td>3333.000000</td>\n",
       "      <td>3333.000000</td>\n",
       "      <td>3333.000000</td>\n",
       "      <td>3333.000000</td>\n",
       "      <td>3333.000000</td>\n",
       "      <td>3333.000000</td>\n",
       "      <td>3333.000000</td>\n",
       "    </tr>\n",
       "    <tr>\n",
       "      <th>mean</th>\n",
       "      <td>101.064806</td>\n",
       "      <td>437.182418</td>\n",
       "      <td>8.099010</td>\n",
       "      <td>179.775098</td>\n",
       "      <td>100.435644</td>\n",
       "      <td>30.562307</td>\n",
       "      <td>200.980348</td>\n",
       "      <td>100.114311</td>\n",
       "      <td>17.083540</td>\n",
       "      <td>200.872037</td>\n",
       "      <td>100.107711</td>\n",
       "      <td>9.039325</td>\n",
       "      <td>10.237294</td>\n",
       "      <td>4.479448</td>\n",
       "      <td>2.764581</td>\n",
       "      <td>1.562856</td>\n",
       "    </tr>\n",
       "    <tr>\n",
       "      <th>std</th>\n",
       "      <td>39.822106</td>\n",
       "      <td>42.371290</td>\n",
       "      <td>13.688365</td>\n",
       "      <td>54.467389</td>\n",
       "      <td>20.069084</td>\n",
       "      <td>9.259435</td>\n",
       "      <td>50.713844</td>\n",
       "      <td>19.922625</td>\n",
       "      <td>4.310668</td>\n",
       "      <td>50.573847</td>\n",
       "      <td>19.568609</td>\n",
       "      <td>2.275873</td>\n",
       "      <td>2.791840</td>\n",
       "      <td>2.461214</td>\n",
       "      <td>0.753773</td>\n",
       "      <td>1.315491</td>\n",
       "    </tr>\n",
       "    <tr>\n",
       "      <th>min</th>\n",
       "      <td>1.000000</td>\n",
       "      <td>408.000000</td>\n",
       "      <td>0.000000</td>\n",
       "      <td>0.000000</td>\n",
       "      <td>0.000000</td>\n",
       "      <td>0.000000</td>\n",
       "      <td>0.000000</td>\n",
       "      <td>0.000000</td>\n",
       "      <td>0.000000</td>\n",
       "      <td>23.200000</td>\n",
       "      <td>33.000000</td>\n",
       "      <td>1.040000</td>\n",
       "      <td>0.000000</td>\n",
       "      <td>0.000000</td>\n",
       "      <td>0.000000</td>\n",
       "      <td>0.000000</td>\n",
       "    </tr>\n",
       "    <tr>\n",
       "      <th>25%</th>\n",
       "      <td>74.000000</td>\n",
       "      <td>408.000000</td>\n",
       "      <td>0.000000</td>\n",
       "      <td>143.700000</td>\n",
       "      <td>87.000000</td>\n",
       "      <td>24.430000</td>\n",
       "      <td>166.600000</td>\n",
       "      <td>87.000000</td>\n",
       "      <td>14.160000</td>\n",
       "      <td>167.000000</td>\n",
       "      <td>87.000000</td>\n",
       "      <td>7.520000</td>\n",
       "      <td>8.500000</td>\n",
       "      <td>3.000000</td>\n",
       "      <td>2.300000</td>\n",
       "      <td>1.000000</td>\n",
       "    </tr>\n",
       "    <tr>\n",
       "      <th>50%</th>\n",
       "      <td>101.000000</td>\n",
       "      <td>415.000000</td>\n",
       "      <td>0.000000</td>\n",
       "      <td>179.400000</td>\n",
       "      <td>101.000000</td>\n",
       "      <td>30.500000</td>\n",
       "      <td>201.400000</td>\n",
       "      <td>100.000000</td>\n",
       "      <td>17.120000</td>\n",
       "      <td>201.200000</td>\n",
       "      <td>100.000000</td>\n",
       "      <td>9.050000</td>\n",
       "      <td>10.300000</td>\n",
       "      <td>4.000000</td>\n",
       "      <td>2.780000</td>\n",
       "      <td>1.000000</td>\n",
       "    </tr>\n",
       "    <tr>\n",
       "      <th>75%</th>\n",
       "      <td>127.000000</td>\n",
       "      <td>510.000000</td>\n",
       "      <td>20.000000</td>\n",
       "      <td>216.400000</td>\n",
       "      <td>114.000000</td>\n",
       "      <td>36.790000</td>\n",
       "      <td>235.300000</td>\n",
       "      <td>114.000000</td>\n",
       "      <td>20.000000</td>\n",
       "      <td>235.300000</td>\n",
       "      <td>113.000000</td>\n",
       "      <td>10.590000</td>\n",
       "      <td>12.100000</td>\n",
       "      <td>6.000000</td>\n",
       "      <td>3.270000</td>\n",
       "      <td>2.000000</td>\n",
       "    </tr>\n",
       "    <tr>\n",
       "      <th>max</th>\n",
       "      <td>243.000000</td>\n",
       "      <td>510.000000</td>\n",
       "      <td>51.000000</td>\n",
       "      <td>350.800000</td>\n",
       "      <td>165.000000</td>\n",
       "      <td>59.640000</td>\n",
       "      <td>363.700000</td>\n",
       "      <td>170.000000</td>\n",
       "      <td>30.910000</td>\n",
       "      <td>395.000000</td>\n",
       "      <td>175.000000</td>\n",
       "      <td>17.770000</td>\n",
       "      <td>20.000000</td>\n",
       "      <td>20.000000</td>\n",
       "      <td>5.400000</td>\n",
       "      <td>9.000000</td>\n",
       "    </tr>\n",
       "  </tbody>\n",
       "</table>\n",
       "</div>"
      ],
      "text/plain": [
       "       account length    area code  number vmail messages  total day minutes  \\\n",
       "count     3333.000000  3333.000000            3333.000000        3333.000000   \n",
       "mean       101.064806   437.182418               8.099010         179.775098   \n",
       "std         39.822106    42.371290              13.688365          54.467389   \n",
       "min          1.000000   408.000000               0.000000           0.000000   \n",
       "25%         74.000000   408.000000               0.000000         143.700000   \n",
       "50%        101.000000   415.000000               0.000000         179.400000   \n",
       "75%        127.000000   510.000000              20.000000         216.400000   \n",
       "max        243.000000   510.000000              51.000000         350.800000   \n",
       "\n",
       "       total day calls  total day charge  total eve minutes  total eve calls  \\\n",
       "count      3333.000000       3333.000000        3333.000000      3333.000000   \n",
       "mean        100.435644         30.562307         200.980348       100.114311   \n",
       "std          20.069084          9.259435          50.713844        19.922625   \n",
       "min           0.000000          0.000000           0.000000         0.000000   \n",
       "25%          87.000000         24.430000         166.600000        87.000000   \n",
       "50%         101.000000         30.500000         201.400000       100.000000   \n",
       "75%         114.000000         36.790000         235.300000       114.000000   \n",
       "max         165.000000         59.640000         363.700000       170.000000   \n",
       "\n",
       "       total eve charge  total night minutes  total night calls  \\\n",
       "count       3333.000000          3333.000000        3333.000000   \n",
       "mean          17.083540           200.872037         100.107711   \n",
       "std            4.310668            50.573847          19.568609   \n",
       "min            0.000000            23.200000          33.000000   \n",
       "25%           14.160000           167.000000          87.000000   \n",
       "50%           17.120000           201.200000         100.000000   \n",
       "75%           20.000000           235.300000         113.000000   \n",
       "max           30.910000           395.000000         175.000000   \n",
       "\n",
       "       total night charge  total intl minutes  total intl calls  \\\n",
       "count         3333.000000         3333.000000       3333.000000   \n",
       "mean             9.039325           10.237294          4.479448   \n",
       "std              2.275873            2.791840          2.461214   \n",
       "min              1.040000            0.000000          0.000000   \n",
       "25%              7.520000            8.500000          3.000000   \n",
       "50%              9.050000           10.300000          4.000000   \n",
       "75%             10.590000           12.100000          6.000000   \n",
       "max             17.770000           20.000000         20.000000   \n",
       "\n",
       "       total intl charge  customer service calls  \n",
       "count        3333.000000             3333.000000  \n",
       "mean            2.764581                1.562856  \n",
       "std             0.753773                1.315491  \n",
       "min             0.000000                0.000000  \n",
       "25%             2.300000                1.000000  \n",
       "50%             2.780000                1.000000  \n",
       "75%             3.270000                2.000000  \n",
       "max             5.400000                9.000000  "
      ]
     },
     "execution_count": 8,
     "metadata": {},
     "output_type": "execute_result"
    }
   ],
   "source": [
    "data.describe()"
   ]
  },
  {
   "cell_type": "markdown",
   "metadata": {},
   "source": [
    "# Data preparation"
   ]
  },
  {
   "cell_type": "code",
   "execution_count": 9,
   "metadata": {},
   "outputs": [
    {
     "name": "stdout",
     "output_type": "stream",
     "text": [
      "Duplicated values are: 0\n",
      "Missing values are:\n",
      " state                     0\n",
      "account length            0\n",
      "area code                 0\n",
      "phone number              0\n",
      "international plan        0\n",
      "voice mail plan           0\n",
      "number vmail messages     0\n",
      "total day minutes         0\n",
      "total day calls           0\n",
      "total day charge          0\n",
      "total eve minutes         0\n",
      "total eve calls           0\n",
      "total eve charge          0\n",
      "total night minutes       0\n",
      "total night calls         0\n",
      "total night charge        0\n",
      "total intl minutes        0\n",
      "total intl calls          0\n",
      "total intl charge         0\n",
      "customer service calls    0\n",
      "churn                     0\n",
      "dtype: int64\n"
     ]
    }
   ],
   "source": [
    "# duplicates and missing values\n",
    "duplicated = data.duplicated().sum()\n",
    "\n",
    "missing_values = data.isna().sum()\n",
    "\n",
    "#Display the total number of duplicate values and missing_values\n",
    "print(\"Duplicated values are:\", duplicated)\n",
    "print(\"Missing values are:\\n\", missing_values)"
   ]
  },
  {
   "cell_type": "code",
   "execution_count": 10,
   "metadata": {},
   "outputs": [],
   "source": [
    "# Converting string-based categorical values to integer-based categorical representations 0 and 1.\n",
    "intl_plan = {'yes': 1, 'no': 0}\n",
    "vm_plan = {'yes': 1, 'no': 0}\n",
    "churn_status = {True: 1, False: 0}\n",
    "\n",
    "#Display the replacement of each column\n",
    "data['international plan'].replace(intl_plan, inplace=True)\n",
    "data['voice mail plan'].replace(vm_plan, inplace=True)\n",
    "data['churn'].replace(churn_status, inplace=True)"
   ]
  },
  {
   "cell_type": "code",
   "execution_count": 11,
   "metadata": {},
   "outputs": [
    {
     "data": {
      "text/html": [
       "<div>\n",
       "<style scoped>\n",
       "    .dataframe tbody tr th:only-of-type {\n",
       "        vertical-align: middle;\n",
       "    }\n",
       "\n",
       "    .dataframe tbody tr th {\n",
       "        vertical-align: top;\n",
       "    }\n",
       "\n",
       "    .dataframe thead th {\n",
       "        text-align: right;\n",
       "    }\n",
       "</style>\n",
       "<table border=\"1\" class=\"dataframe\">\n",
       "  <thead>\n",
       "    <tr style=\"text-align: right;\">\n",
       "      <th></th>\n",
       "      <th>state</th>\n",
       "      <th>account length</th>\n",
       "      <th>area code</th>\n",
       "      <th>phone number</th>\n",
       "      <th>international plan</th>\n",
       "      <th>voice mail plan</th>\n",
       "      <th>number vmail messages</th>\n",
       "      <th>total day minutes</th>\n",
       "      <th>total day calls</th>\n",
       "      <th>total day charge</th>\n",
       "      <th>...</th>\n",
       "      <th>total eve calls</th>\n",
       "      <th>total eve charge</th>\n",
       "      <th>total night minutes</th>\n",
       "      <th>total night calls</th>\n",
       "      <th>total night charge</th>\n",
       "      <th>total intl minutes</th>\n",
       "      <th>total intl calls</th>\n",
       "      <th>total intl charge</th>\n",
       "      <th>customer service calls</th>\n",
       "      <th>churn</th>\n",
       "    </tr>\n",
       "  </thead>\n",
       "  <tbody>\n",
       "    <tr>\n",
       "      <th>3174</th>\n",
       "      <td>SC</td>\n",
       "      <td>36</td>\n",
       "      <td>408</td>\n",
       "      <td>359-5091</td>\n",
       "      <td>0</td>\n",
       "      <td>1</td>\n",
       "      <td>43</td>\n",
       "      <td>29.9</td>\n",
       "      <td>123</td>\n",
       "      <td>5.08</td>\n",
       "      <td>...</td>\n",
       "      <td>117</td>\n",
       "      <td>10.97</td>\n",
       "      <td>325.9</td>\n",
       "      <td>105</td>\n",
       "      <td>14.67</td>\n",
       "      <td>8.6</td>\n",
       "      <td>6</td>\n",
       "      <td>2.32</td>\n",
       "      <td>2</td>\n",
       "      <td>0</td>\n",
       "    </tr>\n",
       "    <tr>\n",
       "      <th>2687</th>\n",
       "      <td>MN</td>\n",
       "      <td>125</td>\n",
       "      <td>415</td>\n",
       "      <td>390-9735</td>\n",
       "      <td>1</td>\n",
       "      <td>1</td>\n",
       "      <td>29</td>\n",
       "      <td>260.8</td>\n",
       "      <td>81</td>\n",
       "      <td>44.34</td>\n",
       "      <td>...</td>\n",
       "      <td>112</td>\n",
       "      <td>13.91</td>\n",
       "      <td>271.7</td>\n",
       "      <td>117</td>\n",
       "      <td>12.23</td>\n",
       "      <td>17.0</td>\n",
       "      <td>6</td>\n",
       "      <td>4.59</td>\n",
       "      <td>1</td>\n",
       "      <td>1</td>\n",
       "    </tr>\n",
       "    <tr>\n",
       "      <th>2176</th>\n",
       "      <td>UT</td>\n",
       "      <td>93</td>\n",
       "      <td>415</td>\n",
       "      <td>337-9710</td>\n",
       "      <td>0</td>\n",
       "      <td>0</td>\n",
       "      <td>0</td>\n",
       "      <td>164.9</td>\n",
       "      <td>68</td>\n",
       "      <td>28.03</td>\n",
       "      <td>...</td>\n",
       "      <td>86</td>\n",
       "      <td>17.88</td>\n",
       "      <td>229.4</td>\n",
       "      <td>104</td>\n",
       "      <td>10.32</td>\n",
       "      <td>7.8</td>\n",
       "      <td>4</td>\n",
       "      <td>2.11</td>\n",
       "      <td>2</td>\n",
       "      <td>0</td>\n",
       "    </tr>\n",
       "    <tr>\n",
       "      <th>670</th>\n",
       "      <td>WV</td>\n",
       "      <td>32</td>\n",
       "      <td>408</td>\n",
       "      <td>370-7565</td>\n",
       "      <td>0</td>\n",
       "      <td>1</td>\n",
       "      <td>26</td>\n",
       "      <td>266.7</td>\n",
       "      <td>109</td>\n",
       "      <td>45.34</td>\n",
       "      <td>...</td>\n",
       "      <td>107</td>\n",
       "      <td>19.75</td>\n",
       "      <td>212.8</td>\n",
       "      <td>98</td>\n",
       "      <td>9.58</td>\n",
       "      <td>16.3</td>\n",
       "      <td>4</td>\n",
       "      <td>4.40</td>\n",
       "      <td>1</td>\n",
       "      <td>0</td>\n",
       "    </tr>\n",
       "    <tr>\n",
       "      <th>2442</th>\n",
       "      <td>ID</td>\n",
       "      <td>82</td>\n",
       "      <td>510</td>\n",
       "      <td>405-7204</td>\n",
       "      <td>0</td>\n",
       "      <td>1</td>\n",
       "      <td>34</td>\n",
       "      <td>232.6</td>\n",
       "      <td>121</td>\n",
       "      <td>39.54</td>\n",
       "      <td>...</td>\n",
       "      <td>115</td>\n",
       "      <td>13.02</td>\n",
       "      <td>286.7</td>\n",
       "      <td>77</td>\n",
       "      <td>12.90</td>\n",
       "      <td>4.7</td>\n",
       "      <td>3</td>\n",
       "      <td>1.27</td>\n",
       "      <td>3</td>\n",
       "      <td>0</td>\n",
       "    </tr>\n",
       "    <tr>\n",
       "      <th>3245</th>\n",
       "      <td>OR</td>\n",
       "      <td>89</td>\n",
       "      <td>415</td>\n",
       "      <td>343-3399</td>\n",
       "      <td>0</td>\n",
       "      <td>0</td>\n",
       "      <td>0</td>\n",
       "      <td>111.2</td>\n",
       "      <td>101</td>\n",
       "      <td>18.90</td>\n",
       "      <td>...</td>\n",
       "      <td>94</td>\n",
       "      <td>10.38</td>\n",
       "      <td>180.8</td>\n",
       "      <td>85</td>\n",
       "      <td>8.14</td>\n",
       "      <td>12.6</td>\n",
       "      <td>2</td>\n",
       "      <td>3.40</td>\n",
       "      <td>3</td>\n",
       "      <td>0</td>\n",
       "    </tr>\n",
       "    <tr>\n",
       "      <th>345</th>\n",
       "      <td>VA</td>\n",
       "      <td>141</td>\n",
       "      <td>415</td>\n",
       "      <td>333-7749</td>\n",
       "      <td>0</td>\n",
       "      <td>0</td>\n",
       "      <td>0</td>\n",
       "      <td>260.2</td>\n",
       "      <td>131</td>\n",
       "      <td>44.23</td>\n",
       "      <td>...</td>\n",
       "      <td>120</td>\n",
       "      <td>15.23</td>\n",
       "      <td>135.0</td>\n",
       "      <td>119</td>\n",
       "      <td>6.08</td>\n",
       "      <td>7.2</td>\n",
       "      <td>8</td>\n",
       "      <td>1.94</td>\n",
       "      <td>3</td>\n",
       "      <td>0</td>\n",
       "    </tr>\n",
       "    <tr>\n",
       "      <th>377</th>\n",
       "      <td>ND</td>\n",
       "      <td>79</td>\n",
       "      <td>408</td>\n",
       "      <td>363-3515</td>\n",
       "      <td>0</td>\n",
       "      <td>0</td>\n",
       "      <td>0</td>\n",
       "      <td>205.7</td>\n",
       "      <td>123</td>\n",
       "      <td>34.97</td>\n",
       "      <td>...</td>\n",
       "      <td>108</td>\n",
       "      <td>18.23</td>\n",
       "      <td>226.1</td>\n",
       "      <td>106</td>\n",
       "      <td>10.17</td>\n",
       "      <td>6.7</td>\n",
       "      <td>18</td>\n",
       "      <td>1.81</td>\n",
       "      <td>1</td>\n",
       "      <td>0</td>\n",
       "    </tr>\n",
       "    <tr>\n",
       "      <th>2143</th>\n",
       "      <td>MA</td>\n",
       "      <td>79</td>\n",
       "      <td>415</td>\n",
       "      <td>419-2767</td>\n",
       "      <td>0</td>\n",
       "      <td>0</td>\n",
       "      <td>0</td>\n",
       "      <td>156.9</td>\n",
       "      <td>109</td>\n",
       "      <td>26.67</td>\n",
       "      <td>...</td>\n",
       "      <td>87</td>\n",
       "      <td>10.39</td>\n",
       "      <td>189.1</td>\n",
       "      <td>103</td>\n",
       "      <td>8.51</td>\n",
       "      <td>11.3</td>\n",
       "      <td>5</td>\n",
       "      <td>3.05</td>\n",
       "      <td>3</td>\n",
       "      <td>0</td>\n",
       "    </tr>\n",
       "    <tr>\n",
       "      <th>1589</th>\n",
       "      <td>AK</td>\n",
       "      <td>76</td>\n",
       "      <td>415</td>\n",
       "      <td>404-1931</td>\n",
       "      <td>0</td>\n",
       "      <td>0</td>\n",
       "      <td>0</td>\n",
       "      <td>143.7</td>\n",
       "      <td>55</td>\n",
       "      <td>24.43</td>\n",
       "      <td>...</td>\n",
       "      <td>108</td>\n",
       "      <td>14.71</td>\n",
       "      <td>239.1</td>\n",
       "      <td>95</td>\n",
       "      <td>10.76</td>\n",
       "      <td>5.8</td>\n",
       "      <td>6</td>\n",
       "      <td>1.57</td>\n",
       "      <td>1</td>\n",
       "      <td>0</td>\n",
       "    </tr>\n",
       "  </tbody>\n",
       "</table>\n",
       "<p>10 rows × 21 columns</p>\n",
       "</div>"
      ],
      "text/plain": [
       "     state  account length  area code phone number  international plan  \\\n",
       "3174    SC              36        408     359-5091                   0   \n",
       "2687    MN             125        415     390-9735                   1   \n",
       "2176    UT              93        415     337-9710                   0   \n",
       "670     WV              32        408     370-7565                   0   \n",
       "2442    ID              82        510     405-7204                   0   \n",
       "3245    OR              89        415     343-3399                   0   \n",
       "345     VA             141        415     333-7749                   0   \n",
       "377     ND              79        408     363-3515                   0   \n",
       "2143    MA              79        415     419-2767                   0   \n",
       "1589    AK              76        415     404-1931                   0   \n",
       "\n",
       "      voice mail plan  number vmail messages  total day minutes  \\\n",
       "3174                1                     43               29.9   \n",
       "2687                1                     29              260.8   \n",
       "2176                0                      0              164.9   \n",
       "670                 1                     26              266.7   \n",
       "2442                1                     34              232.6   \n",
       "3245                0                      0              111.2   \n",
       "345                 0                      0              260.2   \n",
       "377                 0                      0              205.7   \n",
       "2143                0                      0              156.9   \n",
       "1589                0                      0              143.7   \n",
       "\n",
       "      total day calls  total day charge  ...  total eve calls  \\\n",
       "3174              123              5.08  ...              117   \n",
       "2687               81             44.34  ...              112   \n",
       "2176               68             28.03  ...               86   \n",
       "670               109             45.34  ...              107   \n",
       "2442              121             39.54  ...              115   \n",
       "3245              101             18.90  ...               94   \n",
       "345               131             44.23  ...              120   \n",
       "377               123             34.97  ...              108   \n",
       "2143              109             26.67  ...               87   \n",
       "1589               55             24.43  ...              108   \n",
       "\n",
       "      total eve charge  total night minutes  total night calls  \\\n",
       "3174             10.97                325.9                105   \n",
       "2687             13.91                271.7                117   \n",
       "2176             17.88                229.4                104   \n",
       "670              19.75                212.8                 98   \n",
       "2442             13.02                286.7                 77   \n",
       "3245             10.38                180.8                 85   \n",
       "345              15.23                135.0                119   \n",
       "377              18.23                226.1                106   \n",
       "2143             10.39                189.1                103   \n",
       "1589             14.71                239.1                 95   \n",
       "\n",
       "      total night charge  total intl minutes  total intl calls  \\\n",
       "3174               14.67                 8.6                 6   \n",
       "2687               12.23                17.0                 6   \n",
       "2176               10.32                 7.8                 4   \n",
       "670                 9.58                16.3                 4   \n",
       "2442               12.90                 4.7                 3   \n",
       "3245                8.14                12.6                 2   \n",
       "345                 6.08                 7.2                 8   \n",
       "377                10.17                 6.7                18   \n",
       "2143                8.51                11.3                 5   \n",
       "1589               10.76                 5.8                 6   \n",
       "\n",
       "      total intl charge  customer service calls  churn  \n",
       "3174               2.32                       2      0  \n",
       "2687               4.59                       1      1  \n",
       "2176               2.11                       2      0  \n",
       "670                4.40                       1      0  \n",
       "2442               1.27                       3      0  \n",
       "3245               3.40                       3      0  \n",
       "345                1.94                       3      0  \n",
       "377                1.81                       1      0  \n",
       "2143               3.05                       3      0  \n",
       "1589               1.57                       1      0  \n",
       "\n",
       "[10 rows x 21 columns]"
      ]
     },
     "execution_count": 11,
     "metadata": {},
     "output_type": "execute_result"
    }
   ],
   "source": [
    "data.sample(10)"
   ]
  },
  {
   "cell_type": "code",
   "execution_count": 12,
   "metadata": {},
   "outputs": [],
   "source": [
    "#charges, calls and minutes totals\n",
    "\n",
    "data['total_charges'] = round(data['total day charge'] + data['total eve charge'] + data['total night charge'] + data['total intl charge'])\n",
    "data['total_calls'] = round(data['total day calls'] + data['total eve calls'] + data['total night calls'] + data['total intl calls'])\n",
    "data['total_minutes'] = round(data['total day minutes'] + data['total eve minutes'] + data['total night minutes'] + data['total intl minutes'])"
   ]
  },
  {
   "cell_type": "code",
   "execution_count": 13,
   "metadata": {},
   "outputs": [
    {
     "name": "stdout",
     "output_type": "stream",
     "text": [
      "      total_charges  total_calls  total_minutes\n",
      "1977           70.0          303          630.0\n",
      "2368           65.0          277          585.0\n",
      "3              67.0          255          565.0\n",
      "829            61.0          213          559.0\n",
      "1837           45.0          270          538.0\n",
      "3143           47.0          385          523.0\n",
      "2990           53.0          318          523.0\n",
      "2399           51.0          281          450.0\n",
      "3016           62.0          357          614.0\n",
      "417            68.0          285          634.0\n"
     ]
    }
   ],
   "source": [
    "print(data[['total_charges', 'total_calls','total_minutes']].sample(10))"
   ]
  },
  {
   "cell_type": "code",
   "execution_count": 14,
   "metadata": {},
   "outputs": [
    {
     "data": {
      "text/html": [
       "<div>\n",
       "<style scoped>\n",
       "    .dataframe tbody tr th:only-of-type {\n",
       "        vertical-align: middle;\n",
       "    }\n",
       "\n",
       "    .dataframe tbody tr th {\n",
       "        vertical-align: top;\n",
       "    }\n",
       "\n",
       "    .dataframe thead th {\n",
       "        text-align: right;\n",
       "    }\n",
       "</style>\n",
       "<table border=\"1\" class=\"dataframe\">\n",
       "  <thead>\n",
       "    <tr style=\"text-align: right;\">\n",
       "      <th></th>\n",
       "      <th>state</th>\n",
       "      <th>account length</th>\n",
       "      <th>area code</th>\n",
       "      <th>phone number</th>\n",
       "      <th>international plan</th>\n",
       "      <th>voice mail plan</th>\n",
       "      <th>number vmail messages</th>\n",
       "      <th>total day minutes</th>\n",
       "      <th>total day calls</th>\n",
       "      <th>total day charge</th>\n",
       "      <th>...</th>\n",
       "      <th>total night calls</th>\n",
       "      <th>total night charge</th>\n",
       "      <th>total intl minutes</th>\n",
       "      <th>total intl calls</th>\n",
       "      <th>total intl charge</th>\n",
       "      <th>customer service calls</th>\n",
       "      <th>churn</th>\n",
       "      <th>total_charges</th>\n",
       "      <th>total_calls</th>\n",
       "      <th>total_minutes</th>\n",
       "    </tr>\n",
       "  </thead>\n",
       "  <tbody>\n",
       "    <tr>\n",
       "      <th>1956</th>\n",
       "      <td>MS</td>\n",
       "      <td>107</td>\n",
       "      <td>510</td>\n",
       "      <td>352-6282</td>\n",
       "      <td>0</td>\n",
       "      <td>1</td>\n",
       "      <td>30</td>\n",
       "      <td>198.9</td>\n",
       "      <td>87</td>\n",
       "      <td>33.81</td>\n",
       "      <td>...</td>\n",
       "      <td>76</td>\n",
       "      <td>7.19</td>\n",
       "      <td>12.6</td>\n",
       "      <td>4</td>\n",
       "      <td>3.40</td>\n",
       "      <td>3</td>\n",
       "      <td>0</td>\n",
       "      <td>62.0</td>\n",
       "      <td>257</td>\n",
       "      <td>578.0</td>\n",
       "    </tr>\n",
       "    <tr>\n",
       "      <th>3019</th>\n",
       "      <td>TX</td>\n",
       "      <td>169</td>\n",
       "      <td>408</td>\n",
       "      <td>379-5885</td>\n",
       "      <td>0</td>\n",
       "      <td>0</td>\n",
       "      <td>0</td>\n",
       "      <td>266.7</td>\n",
       "      <td>105</td>\n",
       "      <td>45.34</td>\n",
       "      <td>...</td>\n",
       "      <td>111</td>\n",
       "      <td>12.95</td>\n",
       "      <td>13.8</td>\n",
       "      <td>3</td>\n",
       "      <td>3.73</td>\n",
       "      <td>3</td>\n",
       "      <td>1</td>\n",
       "      <td>75.0</td>\n",
       "      <td>307</td>\n",
       "      <td>726.0</td>\n",
       "    </tr>\n",
       "    <tr>\n",
       "      <th>1260</th>\n",
       "      <td>AK</td>\n",
       "      <td>76</td>\n",
       "      <td>415</td>\n",
       "      <td>366-9781</td>\n",
       "      <td>0</td>\n",
       "      <td>1</td>\n",
       "      <td>22</td>\n",
       "      <td>160.1</td>\n",
       "      <td>107</td>\n",
       "      <td>27.22</td>\n",
       "      <td>...</td>\n",
       "      <td>102</td>\n",
       "      <td>1.04</td>\n",
       "      <td>9.5</td>\n",
       "      <td>4</td>\n",
       "      <td>2.57</td>\n",
       "      <td>3</td>\n",
       "      <td>0</td>\n",
       "      <td>45.0</td>\n",
       "      <td>349</td>\n",
       "      <td>361.0</td>\n",
       "    </tr>\n",
       "    <tr>\n",
       "      <th>2847</th>\n",
       "      <td>ID</td>\n",
       "      <td>119</td>\n",
       "      <td>415</td>\n",
       "      <td>338-9952</td>\n",
       "      <td>1</td>\n",
       "      <td>1</td>\n",
       "      <td>32</td>\n",
       "      <td>173.0</td>\n",
       "      <td>101</td>\n",
       "      <td>29.41</td>\n",
       "      <td>...</td>\n",
       "      <td>91</td>\n",
       "      <td>10.40</td>\n",
       "      <td>12.2</td>\n",
       "      <td>4</td>\n",
       "      <td>3.29</td>\n",
       "      <td>0</td>\n",
       "      <td>0</td>\n",
       "      <td>61.0</td>\n",
       "      <td>289</td>\n",
       "      <td>626.0</td>\n",
       "    </tr>\n",
       "    <tr>\n",
       "      <th>2702</th>\n",
       "      <td>VT</td>\n",
       "      <td>152</td>\n",
       "      <td>510</td>\n",
       "      <td>333-9664</td>\n",
       "      <td>0</td>\n",
       "      <td>1</td>\n",
       "      <td>20</td>\n",
       "      <td>214.6</td>\n",
       "      <td>108</td>\n",
       "      <td>36.48</td>\n",
       "      <td>...</td>\n",
       "      <td>145</td>\n",
       "      <td>7.68</td>\n",
       "      <td>7.9</td>\n",
       "      <td>5</td>\n",
       "      <td>2.13</td>\n",
       "      <td>1</td>\n",
       "      <td>0</td>\n",
       "      <td>54.0</td>\n",
       "      <td>340</td>\n",
       "      <td>490.0</td>\n",
       "    </tr>\n",
       "    <tr>\n",
       "      <th>2608</th>\n",
       "      <td>IN</td>\n",
       "      <td>81</td>\n",
       "      <td>408</td>\n",
       "      <td>347-6717</td>\n",
       "      <td>0</td>\n",
       "      <td>1</td>\n",
       "      <td>46</td>\n",
       "      <td>168.3</td>\n",
       "      <td>124</td>\n",
       "      <td>28.61</td>\n",
       "      <td>...</td>\n",
       "      <td>98</td>\n",
       "      <td>10.01</td>\n",
       "      <td>6.7</td>\n",
       "      <td>2</td>\n",
       "      <td>1.81</td>\n",
       "      <td>4</td>\n",
       "      <td>0</td>\n",
       "      <td>63.0</td>\n",
       "      <td>327</td>\n",
       "      <td>668.0</td>\n",
       "    </tr>\n",
       "    <tr>\n",
       "      <th>278</th>\n",
       "      <td>AL</td>\n",
       "      <td>131</td>\n",
       "      <td>415</td>\n",
       "      <td>361-7998</td>\n",
       "      <td>0</td>\n",
       "      <td>1</td>\n",
       "      <td>25</td>\n",
       "      <td>192.7</td>\n",
       "      <td>85</td>\n",
       "      <td>32.76</td>\n",
       "      <td>...</td>\n",
       "      <td>59</td>\n",
       "      <td>11.44</td>\n",
       "      <td>10.9</td>\n",
       "      <td>6</td>\n",
       "      <td>2.94</td>\n",
       "      <td>2</td>\n",
       "      <td>0</td>\n",
       "      <td>66.0</td>\n",
       "      <td>255</td>\n",
       "      <td>684.0</td>\n",
       "    </tr>\n",
       "    <tr>\n",
       "      <th>2844</th>\n",
       "      <td>NH</td>\n",
       "      <td>161</td>\n",
       "      <td>415</td>\n",
       "      <td>349-4397</td>\n",
       "      <td>0</td>\n",
       "      <td>0</td>\n",
       "      <td>0</td>\n",
       "      <td>173.4</td>\n",
       "      <td>100</td>\n",
       "      <td>29.48</td>\n",
       "      <td>...</td>\n",
       "      <td>69</td>\n",
       "      <td>6.37</td>\n",
       "      <td>11.5</td>\n",
       "      <td>4</td>\n",
       "      <td>3.11</td>\n",
       "      <td>1</td>\n",
       "      <td>0</td>\n",
       "      <td>57.0</td>\n",
       "      <td>247</td>\n",
       "      <td>540.0</td>\n",
       "    </tr>\n",
       "    <tr>\n",
       "      <th>802</th>\n",
       "      <td>FL</td>\n",
       "      <td>84</td>\n",
       "      <td>510</td>\n",
       "      <td>341-3180</td>\n",
       "      <td>0</td>\n",
       "      <td>0</td>\n",
       "      <td>0</td>\n",
       "      <td>191.0</td>\n",
       "      <td>88</td>\n",
       "      <td>32.47</td>\n",
       "      <td>...</td>\n",
       "      <td>79</td>\n",
       "      <td>11.13</td>\n",
       "      <td>6.5</td>\n",
       "      <td>4</td>\n",
       "      <td>1.76</td>\n",
       "      <td>0</td>\n",
       "      <td>0</td>\n",
       "      <td>72.0</td>\n",
       "      <td>290</td>\n",
       "      <td>764.0</td>\n",
       "    </tr>\n",
       "    <tr>\n",
       "      <th>2685</th>\n",
       "      <td>OR</td>\n",
       "      <td>64</td>\n",
       "      <td>510</td>\n",
       "      <td>407-6391</td>\n",
       "      <td>0</td>\n",
       "      <td>0</td>\n",
       "      <td>0</td>\n",
       "      <td>213.5</td>\n",
       "      <td>93</td>\n",
       "      <td>36.30</td>\n",
       "      <td>...</td>\n",
       "      <td>78</td>\n",
       "      <td>5.49</td>\n",
       "      <td>14.1</td>\n",
       "      <td>3</td>\n",
       "      <td>3.81</td>\n",
       "      <td>3</td>\n",
       "      <td>0</td>\n",
       "      <td>60.0</td>\n",
       "      <td>288</td>\n",
       "      <td>516.0</td>\n",
       "    </tr>\n",
       "  </tbody>\n",
       "</table>\n",
       "<p>10 rows × 24 columns</p>\n",
       "</div>"
      ],
      "text/plain": [
       "     state  account length  area code phone number  international plan  \\\n",
       "1956    MS             107        510     352-6282                   0   \n",
       "3019    TX             169        408     379-5885                   0   \n",
       "1260    AK              76        415     366-9781                   0   \n",
       "2847    ID             119        415     338-9952                   1   \n",
       "2702    VT             152        510     333-9664                   0   \n",
       "2608    IN              81        408     347-6717                   0   \n",
       "278     AL             131        415     361-7998                   0   \n",
       "2844    NH             161        415     349-4397                   0   \n",
       "802     FL              84        510     341-3180                   0   \n",
       "2685    OR              64        510     407-6391                   0   \n",
       "\n",
       "      voice mail plan  number vmail messages  total day minutes  \\\n",
       "1956                1                     30              198.9   \n",
       "3019                0                      0              266.7   \n",
       "1260                1                     22              160.1   \n",
       "2847                1                     32              173.0   \n",
       "2702                1                     20              214.6   \n",
       "2608                1                     46              168.3   \n",
       "278                 1                     25              192.7   \n",
       "2844                0                      0              173.4   \n",
       "802                 0                      0              191.0   \n",
       "2685                0                      0              213.5   \n",
       "\n",
       "      total day calls  total day charge  ...  total night calls  \\\n",
       "1956               87             33.81  ...                 76   \n",
       "3019              105             45.34  ...                111   \n",
       "1260              107             27.22  ...                102   \n",
       "2847              101             29.41  ...                 91   \n",
       "2702              108             36.48  ...                145   \n",
       "2608              124             28.61  ...                 98   \n",
       "278                85             32.76  ...                 59   \n",
       "2844              100             29.48  ...                 69   \n",
       "802                88             32.47  ...                 79   \n",
       "2685               93             36.30  ...                 78   \n",
       "\n",
       "      total night charge  total intl minutes  total intl calls  \\\n",
       "1956                7.19                12.6                 4   \n",
       "3019               12.95                13.8                 3   \n",
       "1260                1.04                 9.5                 4   \n",
       "2847               10.40                12.2                 4   \n",
       "2702                7.68                 7.9                 5   \n",
       "2608               10.01                 6.7                 2   \n",
       "278                11.44                10.9                 6   \n",
       "2844                6.37                11.5                 4   \n",
       "802                11.13                 6.5                 4   \n",
       "2685                5.49                14.1                 3   \n",
       "\n",
       "      total intl charge  customer service calls  churn  total_charges  \\\n",
       "1956               3.40                       3      0           62.0   \n",
       "3019               3.73                       3      1           75.0   \n",
       "1260               2.57                       3      0           45.0   \n",
       "2847               3.29                       0      0           61.0   \n",
       "2702               2.13                       1      0           54.0   \n",
       "2608               1.81                       4      0           63.0   \n",
       "278                2.94                       2      0           66.0   \n",
       "2844               3.11                       1      0           57.0   \n",
       "802                1.76                       0      0           72.0   \n",
       "2685               3.81                       3      0           60.0   \n",
       "\n",
       "      total_calls  total_minutes  \n",
       "1956          257          578.0  \n",
       "3019          307          726.0  \n",
       "1260          349          361.0  \n",
       "2847          289          626.0  \n",
       "2702          340          490.0  \n",
       "2608          327          668.0  \n",
       "278           255          684.0  \n",
       "2844          247          540.0  \n",
       "802           290          764.0  \n",
       "2685          288          516.0  \n",
       "\n",
       "[10 rows x 24 columns]"
      ]
     },
     "execution_count": 14,
     "metadata": {},
     "output_type": "execute_result"
    }
   ],
   "source": [
    "#Display 10 random entries to confirm changes\n",
    "data.sample(10)"
   ]
  },
  {
   "cell_type": "markdown",
   "metadata": {},
   "source": [
    "#### Create copy of Data"
   ]
  },
  {
   "cell_type": "code",
   "execution_count": 15,
   "metadata": {},
   "outputs": [
    {
     "data": {
      "text/html": [
       "<div>\n",
       "<style scoped>\n",
       "    .dataframe tbody tr th:only-of-type {\n",
       "        vertical-align: middle;\n",
       "    }\n",
       "\n",
       "    .dataframe tbody tr th {\n",
       "        vertical-align: top;\n",
       "    }\n",
       "\n",
       "    .dataframe thead th {\n",
       "        text-align: right;\n",
       "    }\n",
       "</style>\n",
       "<table border=\"1\" class=\"dataframe\">\n",
       "  <thead>\n",
       "    <tr style=\"text-align: right;\">\n",
       "      <th></th>\n",
       "      <th>state</th>\n",
       "      <th>account length</th>\n",
       "      <th>area code</th>\n",
       "      <th>international plan</th>\n",
       "      <th>voice mail plan</th>\n",
       "      <th>number vmail messages</th>\n",
       "      <th>customer service calls</th>\n",
       "      <th>churn</th>\n",
       "      <th>total_charges</th>\n",
       "      <th>total_calls</th>\n",
       "      <th>total_minutes</th>\n",
       "    </tr>\n",
       "  </thead>\n",
       "  <tbody>\n",
       "    <tr>\n",
       "      <th>233</th>\n",
       "      <td>NV</td>\n",
       "      <td>53</td>\n",
       "      <td>415</td>\n",
       "      <td>0</td>\n",
       "      <td>0</td>\n",
       "      <td>0</td>\n",
       "      <td>0</td>\n",
       "      <td>0</td>\n",
       "      <td>57.0</td>\n",
       "      <td>299</td>\n",
       "      <td>554.0</td>\n",
       "    </tr>\n",
       "    <tr>\n",
       "      <th>3117</th>\n",
       "      <td>OR</td>\n",
       "      <td>113</td>\n",
       "      <td>415</td>\n",
       "      <td>0</td>\n",
       "      <td>0</td>\n",
       "      <td>0</td>\n",
       "      <td>2</td>\n",
       "      <td>0</td>\n",
       "      <td>56.0</td>\n",
       "      <td>329</td>\n",
       "      <td>558.0</td>\n",
       "    </tr>\n",
       "    <tr>\n",
       "      <th>126</th>\n",
       "      <td>MS</td>\n",
       "      <td>162</td>\n",
       "      <td>415</td>\n",
       "      <td>0</td>\n",
       "      <td>0</td>\n",
       "      <td>0</td>\n",
       "      <td>4</td>\n",
       "      <td>1</td>\n",
       "      <td>35.0</td>\n",
       "      <td>280</td>\n",
       "      <td>392.0</td>\n",
       "    </tr>\n",
       "    <tr>\n",
       "      <th>3041</th>\n",
       "      <td>RI</td>\n",
       "      <td>39</td>\n",
       "      <td>408</td>\n",
       "      <td>0</td>\n",
       "      <td>0</td>\n",
       "      <td>0</td>\n",
       "      <td>0</td>\n",
       "      <td>0</td>\n",
       "      <td>44.0</td>\n",
       "      <td>305</td>\n",
       "      <td>506.0</td>\n",
       "    </tr>\n",
       "    <tr>\n",
       "      <th>32</th>\n",
       "      <td>LA</td>\n",
       "      <td>172</td>\n",
       "      <td>408</td>\n",
       "      <td>0</td>\n",
       "      <td>0</td>\n",
       "      <td>0</td>\n",
       "      <td>3</td>\n",
       "      <td>0</td>\n",
       "      <td>55.0</td>\n",
       "      <td>324</td>\n",
       "      <td>549.0</td>\n",
       "    </tr>\n",
       "    <tr>\n",
       "      <th>4</th>\n",
       "      <td>OK</td>\n",
       "      <td>75</td>\n",
       "      <td>415</td>\n",
       "      <td>1</td>\n",
       "      <td>0</td>\n",
       "      <td>0</td>\n",
       "      <td>3</td>\n",
       "      <td>0</td>\n",
       "      <td>52.0</td>\n",
       "      <td>359</td>\n",
       "      <td>512.0</td>\n",
       "    </tr>\n",
       "    <tr>\n",
       "      <th>2664</th>\n",
       "      <td>NM</td>\n",
       "      <td>188</td>\n",
       "      <td>415</td>\n",
       "      <td>1</td>\n",
       "      <td>1</td>\n",
       "      <td>26</td>\n",
       "      <td>1</td>\n",
       "      <td>1</td>\n",
       "      <td>61.0</td>\n",
       "      <td>303</td>\n",
       "      <td>578.0</td>\n",
       "    </tr>\n",
       "    <tr>\n",
       "      <th>1730</th>\n",
       "      <td>NM</td>\n",
       "      <td>161</td>\n",
       "      <td>408</td>\n",
       "      <td>0</td>\n",
       "      <td>0</td>\n",
       "      <td>0</td>\n",
       "      <td>2</td>\n",
       "      <td>0</td>\n",
       "      <td>55.0</td>\n",
       "      <td>301</td>\n",
       "      <td>624.0</td>\n",
       "    </tr>\n",
       "    <tr>\n",
       "      <th>1059</th>\n",
       "      <td>NM</td>\n",
       "      <td>174</td>\n",
       "      <td>415</td>\n",
       "      <td>0</td>\n",
       "      <td>0</td>\n",
       "      <td>0</td>\n",
       "      <td>1</td>\n",
       "      <td>0</td>\n",
       "      <td>64.0</td>\n",
       "      <td>315</td>\n",
       "      <td>542.0</td>\n",
       "    </tr>\n",
       "    <tr>\n",
       "      <th>2324</th>\n",
       "      <td>LA</td>\n",
       "      <td>124</td>\n",
       "      <td>510</td>\n",
       "      <td>0</td>\n",
       "      <td>0</td>\n",
       "      <td>0</td>\n",
       "      <td>4</td>\n",
       "      <td>1</td>\n",
       "      <td>56.0</td>\n",
       "      <td>324</td>\n",
       "      <td>596.0</td>\n",
       "    </tr>\n",
       "  </tbody>\n",
       "</table>\n",
       "</div>"
      ],
      "text/plain": [
       "     state  account length  area code  international plan  voice mail plan  \\\n",
       "233     NV              53        415                   0                0   \n",
       "3117    OR             113        415                   0                0   \n",
       "126     MS             162        415                   0                0   \n",
       "3041    RI              39        408                   0                0   \n",
       "32      LA             172        408                   0                0   \n",
       "4       OK              75        415                   1                0   \n",
       "2664    NM             188        415                   1                1   \n",
       "1730    NM             161        408                   0                0   \n",
       "1059    NM             174        415                   0                0   \n",
       "2324    LA             124        510                   0                0   \n",
       "\n",
       "      number vmail messages  customer service calls  churn  total_charges  \\\n",
       "233                       0                       0      0           57.0   \n",
       "3117                      0                       2      0           56.0   \n",
       "126                       0                       4      1           35.0   \n",
       "3041                      0                       0      0           44.0   \n",
       "32                        0                       3      0           55.0   \n",
       "4                         0                       3      0           52.0   \n",
       "2664                     26                       1      1           61.0   \n",
       "1730                      0                       2      0           55.0   \n",
       "1059                      0                       1      0           64.0   \n",
       "2324                      0                       4      1           56.0   \n",
       "\n",
       "      total_calls  total_minutes  \n",
       "233           299          554.0  \n",
       "3117          329          558.0  \n",
       "126           280          392.0  \n",
       "3041          305          506.0  \n",
       "32            324          549.0  \n",
       "4             359          512.0  \n",
       "2664          303          578.0  \n",
       "1730          301          624.0  \n",
       "1059          315          542.0  \n",
       "2324          324          596.0  "
      ]
     },
     "execution_count": 15,
     "metadata": {},
     "output_type": "execute_result"
    }
   ],
   "source": [
    "\n",
    "\n",
    "#Assuming 'data' as our Dataframe\n",
    "data_copy = data.copy()\n",
    "\n",
    "#columns to drop\n",
    "columns_to_drop = ['phone number','total day minutes', 'total eve minutes', 'total night minutes', 'total intl minutes', 'total day calls', 'total eve calls', 'total night calls', 'total intl calls','total day charge', 'total eve charge', 'total night charge', 'total intl charge']\n",
    "\n",
    "# Using the drop method with 'columns' parameter\n",
    "data_copy = data_copy.drop(columns=columns_to_drop)\n",
    "\n",
    "# Print a sample of the modified DataFrame\n",
    "data_copy.sample(10)\n"
   ]
  },
  {
   "cell_type": "markdown",
   "metadata": {},
   "source": [
    "#### Univariet Analysis"
   ]
  },
  {
   "cell_type": "code",
   "execution_count": 16,
   "metadata": {},
   "outputs": [
    {
     "data": {
      "image/png": "[encoded data removed]",
      "text/plain": [
       "<Figure size 600x500 with 1 Axes>"
      ]
     },
     "metadata": {},
     "output_type": "display_data"
    }
   ],
   "source": [
    "# Churn distribution among subscribers\n",
    "#Setting  figure size\n",
    "plt.figure(figsize=(6, 5))\n",
    "#Creating a countplot using seaborn\n",
    "ax = sns.countplot(x='churn', data=data, palette='viridis')\n",
    "#total number of data points\n",
    "total = len(data['churn'])\n",
    "\n",
    "#Adding percentage annotation for each bar\n",
    "for p in ax.patches:\n",
    "    percentage = '{:.1f}%'.format(100 * p.get_height() / total)\n",
    "    x = p.get_x() + p.get_width() / 2\n",
    "    y = p.get_height()\n",
    "    ax.annotate(percentage, (x, y), ha='center', va='bottom')\n",
    "\n",
    "#Set title for plot\n",
    "plt.title(\"Churn Distribution Among Subscribers\")\n",
    "plt.show()"
   ]
  },
  {
   "cell_type": "code",
   "execution_count": 17,
   "metadata": {},
   "outputs": [
    {
     "data": {
      "application/vnd.plotly.v1+json": {
       "config": {
        "plotlyServerURL": "https://plot.ly"
       },
       "data": [
        {
         "domain": {
          "x": [
           0,
           1
          ],
          "y": [
           0,
           1
          ]
         },
         "hole": 0.5,
         "hovertemplate": "label=%{label}<br>value=%{value}<extra></extra>",
         "labels": [
          415,
          510,
          408
         ],
         "legendgroup": "",
         "name": "",
         "showlegend": true,
         "type": "pie",
         "values": [
          1655,
          840,
          838
         ]
        }
       ],
       "layout": {
        "legend": {
         "tracegroupgap": 0
        },
        "template": {
         "data": {
          "bar": [
           {
            "error_x": {
             "color": "#2a3f5f"
            },
            "error_y": {
             "color": "#2a3f5f"
            },
            "marker": {
             "line": {
              "color": "#E5ECF6",
              "width": 0.5
             },
             "pattern": {
              "fillmode": "overlay",
              "size": 10,
              "solidity": 0.2
             }
            },
            "type": "bar"
           }
          ],
          "barpolar": [
           {
            "marker": {
             "line": {
              "color": "#E5ECF6",
              "width": 0.5
             },
             "pattern": {
              "fillmode": "overlay",
              "size": 10,
              "solidity": 0.2
             }
            },
            "type": "barpolar"
           }
          ],
          "carpet": [
           {
            "aaxis": {
             "endlinecolor": "#2a3f5f",
             "gridcolor": "white",
             "linecolor": "white",
             "minorgridcolor": "white",
             "startlinecolor": "#2a3f5f"
            },
            "baxis": {
             "endlinecolor": "#2a3f5f",
             "gridcolor": "white",
             "linecolor": "white",
             "minorgridcolor": "white",
             "startlinecolor": "#2a3f5f"
            },
            "type": "carpet"
           }
          ],
          "choropleth": [
           {
            "colorbar": {
             "outlinewidth": 0,
             "ticks": ""
            },
            "type": "choropleth"
           }
          ],
          "contour": [
           {
            "colorbar": {
             "outlinewidth": 0,
             "ticks": ""
            },
            "colorscale": [
             [
              0,
              "#0d0887"
             ],
             [
              0.1111111111111111,
              "#46039f"
             ],
             [
              0.2222222222222222,
              "#7201a8"
             ],
             [
              0.3333333333333333,
              "#9c179e"
             ],
             [
              0.4444444444444444,
              "#bd3786"
             ],
             [
              0.5555555555555556,
              "#d8576b"
             ],
             [
              0.6666666666666666,
              "#ed7953"
             ],
             [
              0.7777777777777778,
              "#fb9f3a"
             ],
             [
              0.8888888888888888,
              "#fdca26"
             ],
             [
              1,
              "#f0f921"
             ]
            ],
            "type": "contour"
           }
          ],
          "contourcarpet": [
           {
            "colorbar": {
             "outlinewidth": 0,
             "ticks": ""
            },
            "type": "contourcarpet"
           }
          ],
          "heatmap": [
           {
            "colorbar": {
             "outlinewidth": 0,
             "ticks": ""
            },
            "colorscale": [
             [
              0,
              "#0d0887"
             ],
             [
              0.1111111111111111,
              "#46039f"
             ],
             [
              0.2222222222222222,
              "#7201a8"
             ],
             [
              0.3333333333333333,
              "#9c179e"
             ],
             [
              0.4444444444444444,
              "#bd3786"
             ],
             [
              0.5555555555555556,
              "#d8576b"
             ],
             [
              0.6666666666666666,
              "#ed7953"
             ],
             [
              0.7777777777777778,
              "#fb9f3a"
             ],
             [
              0.8888888888888888,
              "#fdca26"
             ],
             [
              1,
              "#f0f921"
             ]
            ],
            "type": "heatmap"
           }
          ],
          "heatmapgl": [
           {
            "colorbar": {
             "outlinewidth": 0,
             "ticks": ""
            },
            "colorscale": [
             [
              0,
              "#0d0887"
             ],
             [
              0.1111111111111111,
              "#46039f"
             ],
             [
              0.2222222222222222,
              "#7201a8"
             ],
             [
              0.3333333333333333,
              "#9c179e"
             ],
             [
              0.4444444444444444,
              "#bd3786"
             ],
             [
              0.5555555555555556,
              "#d8576b"
             ],
             [
              0.6666666666666666,
              "#ed7953"
             ],
             [
              0.7777777777777778,
              "#fb9f3a"
             ],
             [
              0.8888888888888888,
              "#fdca26"
             ],
             [
              1,
              "#f0f921"
             ]
            ],
            "type": "heatmapgl"
           }
          ],
          "histogram": [
           {
            "marker": {
             "pattern": {
              "fillmode": "overlay",
              "size": 10,
              "solidity": 0.2
             }
            },
            "type": "histogram"
           }
          ],
          "histogram2d": [
           {
            "colorbar": {
             "outlinewidth": 0,
             "ticks": ""
            },
            "colorscale": [
             [
              0,
              "#0d0887"
             ],
             [
              0.1111111111111111,
              "#46039f"
             ],
             [
              0.2222222222222222,
              "#7201a8"
             ],
             [
              0.3333333333333333,
              "#9c179e"
             ],
             [
              0.4444444444444444,
              "#bd3786"
             ],
             [
              0.5555555555555556,
              "#d8576b"
             ],
             [
              0.6666666666666666,
              "#ed7953"
             ],
             [
              0.7777777777777778,
              "#fb9f3a"
             ],
             [
              0.8888888888888888,
              "#fdca26"
             ],
             [
              1,
              "#f0f921"
             ]
            ],
            "type": "histogram2d"
           }
          ],
          "histogram2dcontour": [
           {
            "colorbar": {
             "outlinewidth": 0,
             "ticks": ""
            },
            "colorscale": [
             [
              0,
              "#0d0887"
             ],
             [
              0.1111111111111111,
              "#46039f"
             ],
             [
              0.2222222222222222,
              "#7201a8"
             ],
             [
              0.3333333333333333,
              "#9c179e"
             ],
             [
              0.4444444444444444,
              "#bd3786"
             ],
             [
              0.5555555555555556,
              "#d8576b"
             ],
             [
              0.6666666666666666,
              "#ed7953"
             ],
             [
              0.7777777777777778,
              "#fb9f3a"
             ],
             [
              0.8888888888888888,
              "#fdca26"
             ],
             [
              1,
              "#f0f921"
             ]
            ],
            "type": "histogram2dcontour"
           }
          ],
          "mesh3d": [
           {
            "colorbar": {
             "outlinewidth": 0,
             "ticks": ""
            },
            "type": "mesh3d"
           }
          ],
          "parcoords": [
           {
            "line": {
             "colorbar": {
              "outlinewidth": 0,
              "ticks": ""
             }
            },
            "type": "parcoords"
           }
          ],
          "pie": [
           {
            "automargin": true,
            "type": "pie"
           }
          ],
          "scatter": [
           {
            "fillpattern": {
             "fillmode": "overlay",
             "size": 10,
             "solidity": 0.2
            },
            "type": "scatter"
           }
          ],
          "scatter3d": [
           {
            "line": {
             "colorbar": {
              "outlinewidth": 0,
              "ticks": ""
             }
            },
            "marker": {
             "colorbar": {
              "outlinewidth": 0,
              "ticks": ""
             }
            },
            "type": "scatter3d"
           }
          ],
          "scattercarpet": [
           {
            "marker": {
             "colorbar": {
              "outlinewidth": 0,
              "ticks": ""
             }
            },
            "type": "scattercarpet"
           }
          ],
          "scattergeo": [
           {
            "marker": {
             "colorbar": {
              "outlinewidth": 0,
              "ticks": ""
             }
            },
            "type": "scattergeo"
           }
          ],
          "scattergl": [
           {
            "marker": {
             "colorbar": {
              "outlinewidth": 0,
              "ticks": ""
             }
            },
            "type": "scattergl"
           }
          ],
          "scattermapbox": [
           {
            "marker": {
             "colorbar": {
              "outlinewidth": 0,
              "ticks": ""
             }
            },
            "type": "scattermapbox"
           }
          ],
          "scatterpolar": [
           {
            "marker": {
             "colorbar": {
              "outlinewidth": 0,
              "ticks": ""
             }
            },
            "type": "scatterpolar"
           }
          ],
          "scatterpolargl": [
           {
            "marker": {
             "colorbar": {
              "outlinewidth": 0,
              "ticks": ""
             }
            },
            "type": "scatterpolargl"
           }
          ],
          "scatterternary": [
           {
            "marker": {
             "colorbar": {
              "outlinewidth": 0,
              "ticks": ""
             }
            },
            "type": "scatterternary"
           }
          ],
          "surface": [
           {
            "colorbar": {
             "outlinewidth": 0,
             "ticks": ""
            },
            "colorscale": [
             [
              0,
              "#0d0887"
             ],
             [
              0.1111111111111111,
              "#46039f"
             ],
             [
              0.2222222222222222,
              "#7201a8"
             ],
             [
              0.3333333333333333,
              "#9c179e"
             ],
             [
              0.4444444444444444,
              "#bd3786"
             ],
             [
              0.5555555555555556,
              "#d8576b"
             ],
             [
              0.6666666666666666,
              "#ed7953"
             ],
             [
              0.7777777777777778,
              "#fb9f3a"
             ],
             [
              0.8888888888888888,
              "#fdca26"
             ],
             [
              1,
              "#f0f921"
             ]
            ],
            "type": "surface"
           }
          ],
          "table": [
           {
            "cells": {
             "fill": {
              "color": "#EBF0F8"
             },
             "line": {
              "color": "white"
             }
            },
            "header": {
             "fill": {
              "color": "#C8D4E3"
             },
             "line": {
              "color": "white"
             }
            },
            "type": "table"
           }
          ]
         },
         "layout": {
          "annotationdefaults": {
           "arrowcolor": "#2a3f5f",
           "arrowhead": 0,
           "arrowwidth": 1
          },
          "autotypenumbers": "strict",
          "coloraxis": {
           "colorbar": {
            "outlinewidth": 0,
            "ticks": ""
           }
          },
          "colorscale": {
           "diverging": [
            [
             0,
             "#8e0152"
            ],
            [
             0.1,
             "#c51b7d"
            ],
            [
             0.2,
             "#de77ae"
            ],
            [
             0.3,
             "#f1b6da"
            ],
            [
             0.4,
             "#fde0ef"
            ],
            [
             0.5,
             "#f7f7f7"
            ],
            [
             0.6,
             "#e6f5d0"
            ],
            [
             0.7,
             "#b8e186"
            ],
            [
             0.8,
             "#7fbc41"
            ],
            [
             0.9,
             "#4d9221"
            ],
            [
             1,
             "#276419"
            ]
           ],
           "sequential": [
            [
             0,
             "#0d0887"
            ],
            [
             0.1111111111111111,
             "#46039f"
            ],
            [
             0.2222222222222222,
             "#7201a8"
            ],
            [
             0.3333333333333333,
             "#9c179e"
            ],
            [
             0.4444444444444444,
             "#bd3786"
            ],
            [
             0.5555555555555556,
             "#d8576b"
            ],
            [
             0.6666666666666666,
             "#ed7953"
            ],
            [
             0.7777777777777778,
             "#fb9f3a"
            ],
            [
             0.8888888888888888,
             "#fdca26"
            ],
            [
             1,
             "#f0f921"
            ]
           ],
           "sequentialminus": [
            [
             0,
             "#0d0887"
            ],
            [
             0.1111111111111111,
             "#46039f"
            ],
            [
             0.2222222222222222,
             "#7201a8"
            ],
            [
             0.3333333333333333,
             "#9c179e"
            ],
            [
             0.4444444444444444,
             "#bd3786"
            ],
            [
             0.5555555555555556,
             "#d8576b"
            ],
            [
             0.6666666666666666,
             "#ed7953"
            ],
            [
             0.7777777777777778,
             "#fb9f3a"
            ],
            [
             0.8888888888888888,
             "#fdca26"
            ],
            [
             1,
             "#f0f921"
            ]
           ]
          },
          "colorway": [
           "#636efa",
           "#EF553B",
           "#00cc96",
           "#ab63fa",
           "#FFA15A",
           "#19d3f3",
           "#FF6692",
           "#B6E880",
           "#FF97FF",
           "#FECB52"
          ],
          "font": {
           "color": "#2a3f5f"
          },
          "geo": {
           "bgcolor": "white",
           "lakecolor": "white",
           "landcolor": "#E5ECF6",
           "showlakes": true,
           "showland": true,
           "subunitcolor": "white"
          },
          "hoverlabel": {
           "align": "left"
          },
          "hovermode": "closest",
          "mapbox": {
           "style": "light"
          },
          "paper_bgcolor": "white",
          "plot_bgcolor": "#E5ECF6",
          "polar": {
           "angularaxis": {
            "gridcolor": "white",
            "linecolor": "white",
            "ticks": ""
           },
           "bgcolor": "#E5ECF6",
           "radialaxis": {
            "gridcolor": "white",
            "linecolor": "white",
            "ticks": ""
           }
          },
          "scene": {
           "xaxis": {
            "backgroundcolor": "#E5ECF6",
            "gridcolor": "white",
            "gridwidth": 2,
            "linecolor": "white",
            "showbackground": true,
            "ticks": "",
            "zerolinecolor": "white"
           },
           "yaxis": {
            "backgroundcolor": "#E5ECF6",
            "gridcolor": "white",
            "gridwidth": 2,
            "linecolor": "white",
            "showbackground": true,
            "ticks": "",
            "zerolinecolor": "white"
           },
           "zaxis": {
            "backgroundcolor": "#E5ECF6",
            "gridcolor": "white",
            "gridwidth": 2,
            "linecolor": "white",
            "showbackground": true,
            "ticks": "",
            "zerolinecolor": "white"
           }
          },
          "shapedefaults": {
           "line": {
            "color": "#2a3f5f"
           }
          },
          "ternary": {
           "aaxis": {
            "gridcolor": "white",
            "linecolor": "white",
            "ticks": ""
           },
           "baxis": {
            "gridcolor": "white",
            "linecolor": "white",
            "ticks": ""
           },
           "bgcolor": "#E5ECF6",
           "caxis": {
            "gridcolor": "white",
            "linecolor": "white",
            "ticks": ""
           }
          },
          "title": {
           "x": 0.05
          },
          "xaxis": {
           "automargin": true,
           "gridcolor": "white",
           "linecolor": "white",
           "ticks": "",
           "title": {
            "standoff": 15
           },
           "zerolinecolor": "white",
           "zerolinewidth": 2
          },
          "yaxis": {
           "automargin": true,
           "gridcolor": "white",
           "linecolor": "white",
           "ticks": "",
           "title": {
            "standoff": 15
           },
           "zerolinecolor": "white",
           "zerolinewidth": 2
          }
         }
        },
        "title": {
         "text": "Distribution of Area Code Feature"
        }
       }
      }
     },
     "metadata": {},
     "output_type": "display_data"
    }
   ],
   "source": [
    "#Generates a pie chart displaying the area code feature in the dataset\n",
    "# for easy interpretetion  of relative frequencies of different area code\n",
    "# Pie chart of area code feature\n",
    "area = data['area code'].value_counts()\n",
    "transanction = area.index\n",
    "quantity = area.values\n",
    "\n",
    "# plot pie circle with plotly\n",
    "figure = px.pie(data,\n",
    "               values = quantity,\n",
    "               names = transanction,\n",
    "               hole = .5,\n",
    "               title = 'Distribution of Area Code Feature')\n",
    "figure.show()"
   ]
  },
  {
   "cell_type": "markdown",
   "metadata": {},
   "source": [
    "##### Bivariet Analysis"
   ]
  },
  {
   "cell_type": "code",
   "execution_count": 18,
   "metadata": {},
   "outputs": [
    {
     "data": {
      "application/vnd.plotly.v1+json": {
       "config": {
        "plotlyServerURL": "https://plot.ly"
       },
       "data": [
        {
         "alignmentgroup": "True",
         "bingroup": "x",
         "hovertemplate": "Churn=0<br>State=%{x}<br>count=%{y}<extra></extra>",
         "legendgroup": "0",
         "marker": {
          "color": "#440154",
          "pattern": {
           "shape": ""
          }
         },
         "name": "0",
         "offsetgroup": "0",
         "orientation": "v",
         "showlegend": true,
         "type": "histogram",
         "x": [
          "KS",
          "OH",
          "NJ",
          "OH",
          "OK",
          "AL",
          "MA",
          "MO",
          "LA",
          "WV",
          "RI",
          "IA",
          "MT",
          "IA",
          "ID",
          "VT",
          "VA",
          "TX",
          "FL",
          "AZ",
          "SC",
          "VA",
          "NE",
          "WY",
          "MT",
          "MO",
          "HI",
          "IL",
          "NH",
          "LA",
          "OK",
          "GA",
          "AK",
          "MA",
          "AK",
          "NJ",
          "GA",
          "AR",
          "ID",
          "WI",
          "OR",
          "MI",
          "DE",
          "WY",
          "IA",
          "IN",
          "VA",
          "UT",
          "IN",
          "CO",
          "WI",
          "OK",
          "ID",
          "CA",
          "MN",
          "SD",
          "NC",
          "WA",
          "WY",
          "MN",
          "UT",
          "NJ",
          "MN",
          "NM",
          "NV",
          "HI",
          "MN",
          "MN",
          "MD",
          "WV",
          "OR",
          "CO",
          "GA",
          "VT",
          "WV",
          "KY",
          "DC",
          "AR",
          "ME",
          "AZ",
          "AK",
          "MT",
          "AZ",
          "IA",
          "MA",
          "VT",
          "KY",
          "IN",
          "AZ",
          "MI",
          "NM",
          "CO",
          "UT",
          "MI",
          "MA",
          "AL",
          "DE",
          "AZ",
          "NJ",
          "MO",
          "ID",
          "NE",
          "TX",
          "MD",
          "MS",
          "NV",
          "AZ",
          "TX",
          "NE",
          "NE",
          "CA",
          "NJ",
          "TX",
          "AR",
          "AL",
          "NY",
          "FL",
          "AK",
          "NV",
          "DE",
          "MD",
          "MI",
          "VT",
          "MI",
          "WA",
          "UT",
          "LA",
          "RI",
          "IA",
          "NE",
          "OH",
          "RI",
          "OK",
          "LA",
          "VA",
          "MO",
          "FL",
          "SC",
          "VA",
          "IA",
          "MI",
          "OK",
          "DE",
          "GA",
          "DC",
          "AZ",
          "AL",
          "CO",
          "NH",
          "NM",
          "OR",
          "LA",
          "NE",
          "MN",
          "MI",
          "AR",
          "KS",
          "WV",
          "NY",
          "NH",
          "VA",
          "NM",
          "NY",
          "AZ",
          "WY",
          "WA",
          "CO",
          "TX",
          "KY",
          "MT",
          "OK",
          "MD",
          "TN",
          "DC",
          "MN",
          "DE",
          "MD",
          "MI",
          "WA",
          "MO",
          "IN",
          "OR",
          "MD",
          "RI",
          "LA",
          "AZ",
          "PA",
          "AZ",
          "LA",
          "FL",
          "FL",
          "AL",
          "WA",
          "TN",
          "MS",
          "ME",
          "OK",
          "IN",
          "MO",
          "IA",
          "VA",
          "KY",
          "OH",
          "OK",
          "NV",
          "ID",
          "SD",
          "IL",
          "WY",
          "AL",
          "NJ",
          "IN",
          "WV",
          "SC",
          "RI",
          "IN",
          "AZ",
          "NM",
          "NJ",
          "MS",
          "MI",
          "TX",
          "FL",
          "DC",
          "TX",
          "UT",
          "MN",
          "IL",
          "NM",
          "SC",
          "NC",
          "WV",
          "RI",
          "NH",
          "MO",
          "MA",
          "PA",
          "OK",
          "AL",
          "WY",
          "PA",
          "WA",
          "HI",
          "AL",
          "VT",
          "MT",
          "MN",
          "AK",
          "MI",
          "DE",
          "SD",
          "MI",
          "KS",
          "AL",
          "CT",
          "NE",
          "WI",
          "WI",
          "IN",
          "DC",
          "AR",
          "ME",
          "MN",
          "MD",
          "IA",
          "AZ",
          "MO",
          "RI",
          "SD",
          "TX",
          "VA",
          "MA",
          "ID",
          "MA",
          "GA",
          "RI",
          "ID",
          "MA",
          "WY",
          "VA",
          "OR",
          "VA",
          "ME",
          "AL",
          "GA",
          "IA",
          "AZ",
          "FL",
          "DE",
          "MT",
          "KY",
          "SC",
          "WA",
          "OR",
          "AK",
          "MN",
          "IL",
          "IN",
          "SC",
          "VA",
          "WI",
          "VT",
          "AZ",
          "AK",
          "AR",
          "AR",
          "AK",
          "ME",
          "CA",
          "NM",
          "NE",
          "SC",
          "DE",
          "OH",
          "MS",
          "OK",
          "NC",
          "MD",
          "KS",
          "MA",
          "NC",
          "NM",
          "NY",
          "AZ",
          "SD",
          "DC",
          "ND",
          "KS",
          "SD",
          "OK",
          "OR",
          "IN",
          "OH",
          "KS",
          "CT",
          "NH",
          "WI",
          "MS",
          "WV",
          "MA",
          "MD",
          "PA",
          "TN",
          "TX",
          "IL",
          "GA",
          "ID",
          "UT",
          "KY",
          "OH",
          "WI",
          "IL",
          "RI",
          "TX",
          "OR",
          "NV",
          "NE",
          "MS",
          "OR",
          "AZ",
          "SD",
          "NV",
          "NM",
          "MN",
          "NJ",
          "IN",
          "DC",
          "MA",
          "ME",
          "NH",
          "AZ",
          "OR",
          "NE",
          "MI",
          "SC",
          "PA",
          "MT",
          "NM",
          "WY",
          "MI",
          "AR",
          "FL",
          "AR",
          "MO",
          "WI",
          "TX",
          "TX",
          "NM",
          "GA",
          "ID",
          "AL",
          "KS",
          "SD",
          "LA",
          "AZ",
          "KY",
          "DC",
          "WA",
          "UT",
          "RI",
          "OH",
          "NV",
          "ND",
          "MD",
          "AZ",
          "AL",
          "NE",
          "NV",
          "IL",
          "MI",
          "AR",
          "UT",
          "GA",
          "AZ",
          "ID",
          "HI",
          "NV",
          "MD",
          "GA",
          "GA",
          "UT",
          "MA",
          "IN",
          "VT",
          "IA",
          "IN",
          "RI",
          "MD",
          "FL",
          "CA",
          "AL",
          "WV",
          "SD",
          "FL",
          "MI",
          "NM",
          "AK",
          "OH",
          "KS",
          "VT",
          "NE",
          "VA",
          "DE",
          "ID",
          "MS",
          "OK",
          "NM",
          "WI",
          "WV",
          "KY",
          "MO",
          "IL",
          "OK",
          "MI",
          "NJ",
          "ID",
          "DC",
          "NY",
          "AL",
          "OR",
          "OK",
          "LA",
          "NE",
          "TX",
          "UT",
          "OR",
          "NY",
          "AL",
          "RI",
          "NC",
          "MD",
          "RI",
          "CT",
          "OK",
          "NY",
          "UT",
          "NM",
          "NE",
          "NJ",
          "TX",
          "CO",
          "VT",
          "RI",
          "WY",
          "ID",
          "CT",
          "ME",
          "AZ",
          "MD",
          "IN",
          "DE",
          "MN",
          "WI",
          "FL",
          "SD",
          "FL",
          "OR",
          "CO",
          "CT",
          "PA",
          "NM",
          "ME",
          "AR",
          "TX",
          "NH",
          "WI",
          "AL",
          "PA",
          "OK",
          "ME",
          "WV",
          "HI",
          "MN",
          "NY",
          "AZ",
          "OH",
          "MI",
          "WV",
          "MI",
          "NM",
          "RI",
          "NC",
          "WY",
          "WY",
          "PA",
          "KY",
          "OR",
          "DC",
          "UT",
          "WA",
          "FL",
          "VA",
          "KS",
          "DC",
          "ME",
          "LA",
          "DC",
          "TX",
          "DE",
          "VT",
          "TX",
          "MT",
          "ND",
          "NJ",
          "MO",
          "CO",
          "KS",
          "NC",
          "MT",
          "DE",
          "ND",
          "VA",
          "IL",
          "OK",
          "CO",
          "MT",
          "WV",
          "ME",
          "WI",
          "NY",
          "CT",
          "AR",
          "WY",
          "CA",
          "MN",
          "AK",
          "VA",
          "CO",
          "SD",
          "NE",
          "VT",
          "ND",
          "GA",
          "OR",
          "MT",
          "WY",
          "GA",
          "WV",
          "CT",
          "IL",
          "CO",
          "DE",
          "LA",
          "MA",
          "IN",
          "NY",
          "KS",
          "WV",
          "NE",
          "ND",
          "AK",
          "CO",
          "ME",
          "SC",
          "MN",
          "CO",
          "KS",
          "MS",
          "NE",
          "NJ",
          "WI",
          "MT",
          "AR",
          "WA",
          "NH",
          "IA",
          "WV",
          "RI",
          "KS",
          "MT",
          "MO",
          "HI",
          "CO",
          "CT",
          "ID",
          "DC",
          "TN",
          "WY",
          "MO",
          "VA",
          "SD",
          "GA",
          "AZ",
          "AK",
          "AK",
          "CT",
          "KY",
          "MI",
          "OR",
          "TN",
          "WV",
          "NJ",
          "MS",
          "ME",
          "WY",
          "IN",
          "NM",
          "NJ",
          "DC",
          "KS",
          "MI",
          "UT",
          "NE",
          "FL",
          "LA",
          "MT",
          "WA",
          "MI",
          "KY",
          "LA",
          "NM",
          "AL",
          "MO",
          "CO",
          "TX",
          "NY",
          "OR",
          "WY",
          "UT",
          "LA",
          "NV",
          "NC",
          "NC",
          "WY",
          "TN",
          "FL",
          "CA",
          "WV",
          "NJ",
          "MT",
          "MN",
          "ID",
          "OR",
          "MT",
          "AL",
          "ND",
          "LA",
          "ND",
          "MS",
          "WV",
          "WI",
          "KS",
          "MO",
          "PA",
          "SD",
          "AL",
          "ME",
          "AZ",
          "VT",
          "WI",
          "HI",
          "DE",
          "AZ",
          "GA",
          "AZ",
          "MN",
          "ME",
          "FL",
          "WA",
          "MT",
          "AL",
          "WV",
          "GA",
          "OH",
          "DE",
          "NE",
          "FL",
          "AK",
          "WI",
          "WA",
          "OH",
          "UT",
          "NM",
          "MN",
          "WV",
          "MN",
          "AL",
          "PA",
          "DE",
          "MO",
          "IL",
          "FL",
          "HI",
          "ME",
          "NH",
          "IN",
          "FL",
          "GA",
          "IL",
          "NC",
          "VT",
          "DC",
          "VT",
          "NV",
          "OR",
          "AL",
          "ND",
          "FL",
          "ND",
          "ME",
          "IL",
          "WA",
          "KS",
          "RI",
          "MO",
          "IA",
          "WY",
          "NV",
          "WI",
          "HI",
          "MO",
          "CA",
          "MO",
          "CT",
          "MD",
          "OH",
          "NV",
          "MD",
          "NE",
          "OH",
          "OK",
          "MA",
          "WA",
          "HI",
          "CO",
          "FL",
          "WI",
          "ID",
          "WY",
          "GA",
          "FL",
          "WY",
          "DE",
          "ME",
          "DC",
          "IA",
          "CO",
          "MN",
          "VT",
          "AZ",
          "MO",
          "MD",
          "VT",
          "DC",
          "WY",
          "VA",
          "VA",
          "HI",
          "WI",
          "VT",
          "UT",
          "CO",
          "NC",
          "NJ",
          "IA",
          "GA",
          "MO",
          "WY",
          "HI",
          "PA",
          "TX",
          "VA",
          "RI",
          "WI",
          "MS",
          "KY",
          "NC",
          "NV",
          "UT",
          "ME",
          "HI",
          "OH",
          "WV",
          "OK",
          "AL",
          "MD",
          "NE",
          "DC",
          "TX",
          "OH",
          "DE",
          "IA",
          "VT",
          "OR",
          "NC",
          "MN",
          "ID",
          "AL",
          "AK",
          "VT",
          "PA",
          "AK",
          "CA",
          "MS",
          "AR",
          "NV",
          "AL",
          "GA",
          "AR",
          "MA",
          "NJ",
          "MO",
          "NY",
          "AZ",
          "WV",
          "SC",
          "VT",
          "TN",
          "LA",
          "OH",
          "OR",
          "KY",
          "OR",
          "TX",
          "MO",
          "ND",
          "MN",
          "NV",
          "FL",
          "NV",
          "NV",
          "SC",
          "MI",
          "MI",
          "TN",
          "NY",
          "NV",
          "IL",
          "MS",
          "ND",
          "NC",
          "TN",
          "VT",
          "OK",
          "DE",
          "ND",
          "OR",
          "NY",
          "MO",
          "FL",
          "ND",
          "NY",
          "ND",
          "NY",
          "OH",
          "AL",
          "SC",
          "GA",
          "WV",
          "HI",
          "WV",
          "LA",
          "AR",
          "AK",
          "DC",
          "AL",
          "KS",
          "MN",
          "UT",
          "IN",
          "CT",
          "DE",
          "VT",
          "MO",
          "RI",
          "RI",
          "CT",
          "IN",
          "FL",
          "KS",
          "NY",
          "TX",
          "RI",
          "NV",
          "UT",
          "OK",
          "MN",
          "NC",
          "OR",
          "NH",
          "AK",
          "OR",
          "KS",
          "WV",
          "GA",
          "NM",
          "OH",
          "ND",
          "RI",
          "HI",
          "WY",
          "NY",
          "KS",
          "LA",
          "PA",
          "NV",
          "MN",
          "PA",
          "MO",
          "NY",
          "ME",
          "NH",
          "WY",
          "MN",
          "OH",
          "NC",
          "SD",
          "UT",
          "KY",
          "MT",
          "NJ",
          "FL",
          "IN",
          "DE",
          "AL",
          "ME",
          "SD",
          "VA",
          "AK",
          "ID",
          "RI",
          "KY",
          "ND",
          "HI",
          "WI",
          "WV",
          "KS",
          "AL",
          "NC",
          "DE",
          "WY",
          "ID",
          "NY",
          "MO",
          "ID",
          "IA",
          "TN",
          "IL",
          "FL",
          "MA",
          "OK",
          "KY",
          "VA",
          "NY",
          "MT",
          "VT",
          "KS",
          "VA",
          "AL",
          "PA",
          "AL",
          "WV",
          "TN",
          "ID",
          "TX",
          "MA",
          "IL",
          "LA",
          "CO",
          "MI",
          "NH",
          "ID",
          "WA",
          "MN",
          "NY",
          "MD",
          "HI",
          "AL",
          "CT",
          "CO",
          "NJ",
          "FL",
          "CA",
          "KS",
          "TX",
          "MN",
          "AK",
          "OR",
          "MS",
          "VT",
          "UT",
          "KS",
          "NV",
          "DE",
          "IN",
          "TX",
          "MA",
          "VT",
          "CA",
          "IA",
          "NH",
          "GA",
          "WI",
          "CO",
          "SC",
          "MI",
          "IN",
          "ME",
          "DC",
          "TN",
          "FL",
          "WA",
          "HI",
          "NE",
          "TN",
          "VT",
          "OR",
          "IN",
          "MO",
          "FL",
          "DC",
          "VT",
          "OH",
          "MO",
          "LA",
          "NJ",
          "IA",
          "WA",
          "NE",
          "CT",
          "WV",
          "ND",
          "UT",
          "MS",
          "MN",
          "NH",
          "LA",
          "ME",
          "KS",
          "KS",
          "NV",
          "MT",
          "MT",
          "ID",
          "AK",
          "UT",
          "AR",
          "LA",
          "KS",
          "OR",
          "WI",
          "IL",
          "IA",
          "AZ",
          "NE",
          "ID",
          "OH",
          "TX",
          "OK",
          "ND",
          "MT",
          "NC",
          "MN",
          "MN",
          "MA",
          "PA",
          "GA",
          "NV",
          "TX",
          "ME",
          "RI",
          "NH",
          "TN",
          "UT",
          "RI",
          "NH",
          "AK",
          "NC",
          "AZ",
          "TN",
          "WY",
          "IA",
          "IN",
          "NJ",
          "MT",
          "ND",
          "MI",
          "AL",
          "NV",
          "FL",
          "KS",
          "MN",
          "RI",
          "UT",
          "SC",
          "IL",
          "OH",
          "MA",
          "OR",
          "CA",
          "WV",
          "VT",
          "ID",
          "OR",
          "GA",
          "ME",
          "HI",
          "AZ",
          "IA",
          "CT",
          "VA",
          "CO",
          "LA",
          "SD",
          "VA",
          "NY",
          "WI",
          "TN",
          "CT",
          "WA",
          "NH",
          "MT",
          "NE",
          "WA",
          "WI",
          "AR",
          "WI",
          "NH",
          "VA",
          "VA",
          "TN",
          "AZ",
          "MT",
          "OK",
          "ID",
          "NV",
          "WY",
          "MS",
          "TX",
          "HI",
          "IL",
          "AK",
          "MD",
          "NC",
          "VT",
          "KY",
          "LA",
          "WA",
          "ME",
          "WI",
          "TX",
          "IA",
          "AZ",
          "ND",
          "HI",
          "WY",
          "WV",
          "OK",
          "UT",
          "NY",
          "VA",
          "VT",
          "SD",
          "PA",
          "ND",
          "CT",
          "MI",
          "VT",
          "VT",
          "IL",
          "MO",
          "WI",
          "NJ",
          "GA",
          "VT",
          "CT",
          "AZ",
          "SD",
          "CT",
          "IN",
          "OH",
          "NY",
          "NE",
          "NC",
          "HI",
          "UT",
          "MD",
          "VT",
          "TX",
          "AZ",
          "VA",
          "WI",
          "NE",
          "KY",
          "NV",
          "MO",
          "NM",
          "NJ",
          "NH",
          "NC",
          "MT",
          "SD",
          "VA",
          "LA",
          "NV",
          "AK",
          "OH",
          "NM",
          "MN",
          "WY",
          "WY",
          "WA",
          "NM",
          "VA",
          "RI",
          "AL",
          "WV",
          "WV",
          "NJ",
          "TN",
          "MI",
          "UT",
          "MI",
          "WI",
          "ND",
          "VT",
          "WA",
          "NC",
          "SD",
          "WV",
          "ID",
          "LA",
          "GA",
          "FL",
          "CO",
          "NV",
          "IN",
          "VA",
          "UT",
          "MO",
          "CT",
          "HI",
          "MD",
          "VA",
          "MT",
          "SC",
          "CO",
          "ID",
          "AL",
          "CO",
          "UT",
          "OH",
          "RI",
          "FL",
          "OH",
          "IL",
          "PA",
          "AZ",
          "NH",
          "RI",
          "HI",
          "NJ",
          "WI",
          "MD",
          "OR",
          "NV",
          "MT",
          "CT",
          "UT",
          "GA",
          "NV",
          "TN",
          "DE",
          "NY",
          "IA",
          "VT",
          "LA",
          "MT",
          "NH",
          "WV",
          "ID",
          "AZ",
          "SC",
          "WV",
          "OH",
          "MD",
          "MD",
          "MN",
          "NE",
          "MN",
          "NY",
          "HI",
          "MO",
          "NV",
          "MA",
          "NH",
          "FL",
          "WA",
          "CT",
          "KY",
          "NM",
          "ND",
          "NV",
          "CA",
          "ID",
          "OK",
          "IA",
          "NJ",
          "ME",
          "AR",
          "PA",
          "HI",
          "MT",
          "DC",
          "AR",
          "MS",
          "OH",
          "MO",
          "TX",
          "MD",
          "CT",
          "SC",
          "SD",
          "CO",
          "ID",
          "AZ",
          "FL",
          "MN",
          "DE",
          "MI",
          "MS",
          "MA",
          "CA",
          "MN",
          "VT",
          "CT",
          "WV",
          "WV",
          "NE",
          "NC",
          "NE",
          "IL",
          "MA",
          "AZ",
          "SD",
          "MT",
          "VT",
          "UT",
          "HI",
          "DC",
          "WI",
          "UT",
          "WA",
          "SD",
          "MT",
          "CT",
          "VA",
          "NC",
          "AK",
          "MD",
          "IL",
          "CT",
          "MA",
          "NJ",
          "AR",
          "MS",
          "ND",
          "IN",
          "MI",
          "VT",
          "WV",
          "ME",
          "IA",
          "CT",
          "NM",
          "OR",
          "VT",
          "RI",
          "RI",
          "NM",
          "AL",
          "CT",
          "TN",
          "ID",
          "TX",
          "ND",
          "SC",
          "KS",
          "ME",
          "RI",
          "WI",
          "NC",
          "OH",
          "WY",
          "NJ",
          "ND",
          "WI",
          "KY",
          "NY",
          "MO",
          "MN",
          "CO",
          "AR",
          "TN",
          "DE",
          "TN",
          "WI",
          "WV",
          "CT",
          "MO",
          "VA",
          "NH",
          "OK",
          "TN",
          "WI",
          "SD",
          "ND",
          "VA",
          "UT",
          "MA",
          "SD",
          "AL",
          "WV",
          "SC",
          "FL",
          "KY",
          "UT",
          "NY",
          "MS",
          "NH",
          "VA",
          "VT",
          "WY",
          "WV",
          "WA",
          "KS",
          "VT",
          "GA",
          "CO",
          "AK",
          "TN",
          "KY",
          "PA",
          "CT",
          "CT",
          "MN",
          "WY",
          "PA",
          "OK",
          "ID",
          "PA",
          "NM",
          "FL",
          "TX",
          "VT",
          "DE",
          "ID",
          "MD",
          "ID",
          "NV",
          "OH",
          "ID",
          "SC",
          "NE",
          "NC",
          "ME",
          "MI",
          "AZ",
          "HI",
          "NJ",
          "MS",
          "MA",
          "SC",
          "MN",
          "WV",
          "MS",
          "VA",
          "MS",
          "NM",
          "HI",
          "WA",
          "WI",
          "CO",
          "RI",
          "VA",
          "ND",
          "MN",
          "HI",
          "ND",
          "WI",
          "MN",
          "KS",
          "MT",
          "WV",
          "WY",
          "VT",
          "MO",
          "NC",
          "NJ",
          "OH",
          "TX",
          "WA",
          "TN",
          "HI",
          "WY",
          "NJ",
          "AL",
          "NC",
          "OH",
          "ND",
          "CO",
          "ND",
          "NY",
          "WI",
          "WY",
          "CO",
          "LA",
          "AL",
          "TX",
          "PA",
          "IL",
          "MO",
          "AR",
          "OH",
          "WI",
          "GA",
          "KY",
          "OH",
          "TN",
          "SD",
          "GA",
          "TX",
          "WV",
          "MI",
          "ND",
          "NE",
          "SD",
          "NJ",
          "AK",
          "CO",
          "MD",
          "ND",
          "NH",
          "MN",
          "KY",
          "NH",
          "CO",
          "KY",
          "KY",
          "IN",
          "OR",
          "SD",
          "DE",
          "OR",
          "NE",
          "OH",
          "OH",
          "AR",
          "KS",
          "TX",
          "WI",
          "OR",
          "VA",
          "AR",
          "CT",
          "OH",
          "WY",
          "IL",
          "MO",
          "DC",
          "MA",
          "IA",
          "AL",
          "OR",
          "WV",
          "NV",
          "NH",
          "WY",
          "FL",
          "KS",
          "KY",
          "DE",
          "WI",
          "CO",
          "DE",
          "IL",
          "WA",
          "TN",
          "MA",
          "NH",
          "MD",
          "AZ",
          "IN",
          "NY",
          "WI",
          "WV",
          "NY",
          "OK",
          "NC",
          "TX",
          "HI",
          "SC",
          "AK",
          "SD",
          "ID",
          "WA",
          "OH",
          "VA",
          "NM",
          "HI",
          "KY",
          "OH",
          "AZ",
          "VT",
          "MO",
          "AL",
          "NY",
          "DC",
          "NE",
          "MA",
          "VT",
          "NM",
          "CO",
          "IL",
          "UT",
          "WV",
          "NJ",
          "NM",
          "ND",
          "NM",
          "DE",
          "GA",
          "HI",
          "CT",
          "NJ",
          "ME",
          "OK",
          "TN",
          "WY",
          "NY",
          "DE",
          "RI",
          "VA",
          "IN",
          "OR",
          "WI",
          "VA",
          "MO",
          "NV",
          "HI",
          "WA",
          "IL",
          "IL",
          "LA",
          "WI",
          "MI",
          "NC",
          "WA",
          "NE",
          "MS",
          "KY",
          "RI",
          "NY",
          "TX",
          "DE",
          "NM",
          "RI",
          "MS",
          "NE",
          "WI",
          "KY",
          "SD",
          "VA",
          "KS",
          "ND",
          "CO",
          "WA",
          "NV",
          "ID",
          "KY",
          "ME",
          "SD",
          "SC",
          "MT",
          "WI",
          "AK",
          "AZ",
          "MT",
          "DE",
          "VA",
          "MA",
          "IN",
          "MD",
          "NV",
          "CO",
          "KS",
          "AR",
          "WY",
          "PA",
          "NY",
          "OR",
          "CA",
          "NY",
          "AR",
          "MI",
          "OK",
          "TX",
          "NC",
          "ID",
          "IL",
          "OR",
          "SD",
          "NE",
          "RI",
          "MD",
          "ID",
          "ME",
          "SD",
          "NY",
          "DE",
          "OK",
          "SC",
          "IN",
          "NV",
          "IL",
          "KS",
          "IA",
          "NJ",
          "MT",
          "IA",
          "WA",
          "NE",
          "MS",
          "IA",
          "WI",
          "MT",
          "GA",
          "MT",
          "ND",
          "VT",
          "SD",
          "OH",
          "OH",
          "MT",
          "IL",
          "NV",
          "UT",
          "NH",
          "LA",
          "VT",
          "NY",
          "CT",
          "MI",
          "SD",
          "ME",
          "MD",
          "VA",
          "NJ",
          "TN",
          "DC",
          "DC",
          "RI",
          "AK",
          "WI",
          "IN",
          "MI",
          "ID",
          "MN",
          "AZ",
          "MN",
          "MO",
          "AL",
          "PA",
          "AK",
          "MS",
          "IA",
          "WY",
          "NE",
          "ND",
          "CT",
          "NC",
          "CT",
          "ND",
          "WA",
          "NV",
          "CO",
          "KS",
          "CO",
          "MO",
          "NY",
          "AK",
          "WI",
          "TN",
          "NY",
          "MI",
          "ID",
          "CT",
          "NC",
          "TX",
          "MD",
          "WY",
          "UT",
          "WA",
          "MS",
          "OH",
          "KS",
          "RI",
          "IN",
          "VT",
          "MT",
          "CT",
          "NM",
          "OH",
          "GA",
          "MN",
          "CT",
          "AL",
          "WV",
          "NH",
          "WY",
          "VT",
          "OH",
          "MA",
          "VA",
          "NM",
          "AR",
          "WY",
          "IA",
          "NC",
          "HI",
          "UT",
          "WY",
          "VA",
          "WI",
          "KS",
          "NY",
          "VA",
          "KS",
          "MO",
          "ND",
          "CA",
          "WV",
          "IL",
          "NY",
          "NV",
          "AL",
          "ND",
          "OK",
          "UT",
          "OH",
          "WY",
          "NM",
          "AL",
          "DC",
          "ID",
          "AR",
          "ID",
          "TX",
          "UT",
          "RI",
          "NC",
          "RI",
          "NY",
          "TX",
          "DE",
          "MS",
          "OH",
          "LA",
          "FL",
          "WA",
          "WV",
          "NY",
          "NE",
          "MS",
          "IN",
          "VA",
          "MN",
          "DE",
          "OR",
          "CT",
          "AL",
          "CT",
          "AR",
          "CA",
          "WV",
          "DE",
          "FL",
          "AK",
          "ID",
          "OH",
          "NH",
          "MA",
          "SC",
          "OR",
          "OH",
          "NC",
          "KY",
          "ID",
          "WA",
          "WV",
          "RI",
          "KS",
          "FL",
          "WY",
          "WA",
          "CO",
          "WI",
          "KS",
          "RI",
          "MT",
          "CO",
          "CT",
          "FL",
          "VT",
          "OH",
          "NH",
          "RI",
          "FL",
          "MD",
          "WY",
          "FL",
          "NC",
          "IN",
          "IA",
          "WV",
          "UT",
          "GA",
          "AK",
          "UT",
          "AR",
          "AK",
          "AK",
          "ME",
          "WV",
          "CT",
          "GA",
          "NV",
          "VT",
          "DC",
          "TN",
          "OR",
          "MS",
          "NC",
          "CO",
          "PA",
          "MN",
          "NM",
          "UT",
          "NE",
          "MS",
          "OR",
          "VA",
          "NJ",
          "WV",
          "OR",
          "KY",
          "MO",
          "TX",
          "MN",
          "FL",
          "PA",
          "WV",
          "IN",
          "OK",
          "NE",
          "DE",
          "MI",
          "IL",
          "UT",
          "IL",
          "WA",
          "NM",
          "MD",
          "VA",
          "MT",
          "CT",
          "AL",
          "WV",
          "MO",
          "ND",
          "AR",
          "GA",
          "FL",
          "AZ",
          "KY",
          "AL",
          "IN",
          "IN",
          "FL",
          "NM",
          "AL",
          "NY",
          "MD",
          "KS",
          "WV",
          "ID",
          "LA",
          "MI",
          "CA",
          "FL",
          "LA",
          "AL",
          "CT",
          "PA",
          "TX",
          "VA",
          "MO",
          "ND",
          "KY",
          "MD",
          "IN",
          "MA",
          "ND",
          "VT",
          "CT",
          "VA",
          "MS",
          "AK",
          "WY",
          "NC",
          "IL",
          "OH",
          "RI",
          "WY",
          "OR",
          "OR",
          "ND",
          "WV",
          "VA",
          "ID",
          "CT",
          "NM",
          "NY",
          "MT",
          "WY",
          "NE",
          "IN",
          "CO",
          "WY",
          "OK",
          "SD",
          "SC",
          "WV",
          "WA",
          "MN",
          "AZ",
          "DE",
          "CO",
          "WI",
          "NJ",
          "IL",
          "IA",
          "GA",
          "AK",
          "KY",
          "SC",
          "MT",
          "KY",
          "WV",
          "ID",
          "MA",
          "MD",
          "SD",
          "KY",
          "ID",
          "NY",
          "NM",
          "ID",
          "WY",
          "NM",
          "HI",
          "ID",
          "NC",
          "TX",
          "GA",
          "AL",
          "ME",
          "VA",
          "ID",
          "NY",
          "OH",
          "HI",
          "DC",
          "TN",
          "VT",
          "MD",
          "LA",
          "HI",
          "FL",
          "WY",
          "NE",
          "WY",
          "OR",
          "IN",
          "MD",
          "TN",
          "WA",
          "MS",
          "OH",
          "CO",
          "TX",
          "AK",
          "WV",
          "MA",
          "TN",
          "DE",
          "VA",
          "MT",
          "ID",
          "IN",
          "MD",
          "MS",
          "WA",
          "OH",
          "AR",
          "AZ",
          "SC",
          "AL",
          "NE",
          "MT",
          "MN",
          "NV",
          "CA",
          "UT",
          "IL",
          "DC",
          "IN",
          "NM",
          "MS",
          "VT",
          "VT",
          "UT",
          "KY",
          "VA",
          "OH",
          "AZ",
          "NY",
          "VA",
          "MA",
          "IL",
          "LA",
          "MO",
          "DC",
          "PA",
          "TN",
          "NJ",
          "VA",
          "TN",
          "WA",
          "AR",
          "WI",
          "WA",
          "RI",
          "ME",
          "CO",
          "NC",
          "WY",
          "FL",
          "KY",
          "WA",
          "MT",
          "PA",
          "MA",
          "VT",
          "MN",
          "IL",
          "AR",
          "MD",
          "MT",
          "VT",
          "CO",
          "NC",
          "WA",
          "TN",
          "AR",
          "DC",
          "MN",
          "IA",
          "KS",
          "ND",
          "MT",
          "IL",
          "DC",
          "MS",
          "TN",
          "IA",
          "AK",
          "OR",
          "ME",
          "MN",
          "GA",
          "DC",
          "GA",
          "OK",
          "OK",
          "GA",
          "NJ",
          "MN",
          "ME",
          "MI",
          "MT",
          "NE",
          "VA",
          "VT",
          "DC",
          "ND",
          "TN",
          "NY",
          "AL",
          "MS",
          "MD",
          "NE",
          "IL",
          "IN",
          "UT",
          "LA",
          "ID",
          "KY",
          "MI",
          "WV",
          "OR",
          "SD",
          "MD",
          "TN",
          "MO",
          "IL",
          "UT",
          "AR",
          "TX",
          "AK",
          "TN",
          "NM",
          "MN",
          "IA",
          "RI",
          "AL",
          "NC",
          "SD",
          "MT",
          "HI",
          "MT",
          "KY",
          "DC",
          "CO",
          "MI",
          "AL",
          "NC",
          "CO",
          "MN",
          "WY",
          "FL",
          "NY",
          "OK",
          "ME",
          "NE",
          "OH",
          "CT",
          "DC",
          "OK",
          "IA",
          "VA",
          "FL",
          "NJ",
          "NE",
          "WV",
          "WY",
          "SC",
          "IL",
          "OR",
          "UT",
          "ME",
          "WY",
          "WI",
          "DC",
          "CT",
          "OR",
          "OR",
          "NV",
          "OK",
          "KS",
          "RI",
          "DC",
          "IL",
          "UT",
          "WI",
          "MI",
          "MA",
          "AL",
          "WI",
          "VT",
          "CT",
          "OR",
          "HI",
          "WV",
          "RI",
          "ME",
          "NE",
          "DC",
          "NH",
          "MD",
          "NH",
          "WV",
          "IL",
          "OK",
          "NH",
          "MI",
          "ND",
          "LA",
          "HI",
          "WV",
          "NC",
          "PA",
          "MI",
          "WY",
          "NJ",
          "NM",
          "MS",
          "OK",
          "ID",
          "AL",
          "WY",
          "HI",
          "VA",
          "WV",
          "DE",
          "CA",
          "CO",
          "AL",
          "AL",
          "KS",
          "MI",
          "AK",
          "OH",
          "IN",
          "SC",
          "KS",
          "OK",
          "WI",
          "IN",
          "TN",
          "DC",
          "NC",
          "RI",
          "MS",
          "VA",
          "KY",
          "NV",
          "WI",
          "NH",
          "NE",
          "WY",
          "IN",
          "WI",
          "VT",
          "CA",
          "IN",
          "SC",
          "IN",
          "IA",
          "MS",
          "MN",
          "WA",
          "MS",
          "ID",
          "NC",
          "VA",
          "MI",
          "HI",
          "NC",
          "MN",
          "WV",
          "HI",
          "MS",
          "NY",
          "LA",
          "KS",
          "MA",
          "AK",
          "SD",
          "CO",
          "NH",
          "WV",
          "AZ",
          "ME",
          "NH",
          "RI",
          "WI",
          "NM",
          "IL",
          "TX",
          "RI",
          "MI",
          "VA",
          "SD",
          "MS",
          "HI",
          "WV",
          "WV",
          "WV",
          "IN",
          "NM",
          "DE",
          "NC",
          "NM",
          "NJ",
          "AZ",
          "RI",
          "SD",
          "NH",
          "AL",
          "WV",
          "ID",
          "MD",
          "IN",
          "WY",
          "NH",
          "MN",
          "MA",
          "NH",
          "MN",
          "IA",
          "NY",
          "AL",
          "WV",
          "NM",
          "CA",
          "MA",
          "ME",
          "FL",
          "IN",
          "WI",
          "NH",
          "TX",
          "NC",
          "CT",
          "NJ",
          "LA",
          "NV",
          "WV",
          "AR",
          "SC",
          "KS",
          "NY",
          "MA",
          "HI",
          "PA",
          "OR",
          "TN",
          "AZ",
          "OR",
          "DE",
          "MA",
          "CT",
          "AR",
          "SD",
          "CT",
          "CT",
          "MA",
          "AK",
          "DE",
          "OH",
          "MN",
          "CA",
          "OH",
          "SC",
          "WV",
          "NM",
          "WY",
          "CA",
          "KS",
          "WY",
          "OK",
          "UT",
          "MA",
          "UT",
          "MN",
          "NE",
          "OH",
          "KY",
          "CO",
          "DC",
          "AK",
          "SC",
          "KS",
          "UT",
          "IL",
          "DC",
          "KY",
          "NE",
          "AL",
          "HI",
          "SC",
          "KS",
          "PA",
          "UT",
          "OR",
          "KY",
          "MN",
          "TX",
          "GA",
          "TX",
          "WV",
          "NM",
          "MI",
          "NY",
          "SD",
          "ID",
          "WI",
          "WV",
          "SC",
          "NV",
          "ND",
          "NE",
          "UT",
          "WV",
          "AR",
          "MT",
          "UT",
          "NY",
          "OH",
          "HI",
          "KS",
          "IN",
          "OR",
          "VA",
          "ID",
          "MO",
          "AL",
          "OR",
          "AZ",
          "VA",
          "PA",
          "CO",
          "KY",
          "NJ",
          "IL",
          "WV",
          "RI",
          "OH",
          "MO",
          "MD",
          "OH",
          "VA",
          "FL",
          "CO",
          "NY",
          "WV",
          "LA",
          "MA",
          "UT",
          "AL",
          "ME",
          "ND",
          "CO",
          "LA",
          "OR",
          "NH",
          "NE",
          "WV",
          "NV",
          "MA",
          "MI",
          "KY",
          "WV",
          "KY",
          "NJ",
          "TX",
          "MN",
          "VA",
          "DC",
          "MD",
          "RI",
          "MA",
          "MD",
          "NM",
          "MI",
          "AZ",
          "AL",
          "MI",
          "MS",
          "MS",
          "CA",
          "MD",
          "ND",
          "IL",
          "SD",
          "AL",
          "NV",
          "LA",
          "VA",
          "DE",
          "CT",
          "MA",
          "OR",
          "WA",
          "SC",
          "IN",
          "NV",
          "ND",
          "WV",
          "CO",
          "TX",
          "FL",
          "AL",
          "MI",
          "NY",
          "MS",
          "MO",
          "AR",
          "MS",
          "NY",
          "SD",
          "AK",
          "WV",
          "SC",
          "VA",
          "MS",
          "MN",
          "AL",
          "CO",
          "ME",
          "GA",
          "AZ",
          "MA",
          "AZ",
          "IN",
          "DE",
          "WI",
          "ME",
          "DC",
          "GA",
          "HI",
          "VA",
          "NY",
          "PA",
          "DE",
          "WV",
          "OK",
          "OR",
          "ND",
          "MO",
          "AR",
          "GA",
          "TN",
          "MA",
          "ND",
          "NJ",
          "AL",
          "NY",
          "PA",
          "VT",
          "CT",
          "MO",
          "WV",
          "NJ",
          "AK",
          "LA",
          "AL",
          "IN",
          "MA",
          "DE",
          "SC",
          "LA",
          "MS",
          "NM",
          "SC",
          "MT",
          "NM",
          "AZ",
          "CT",
          "IL",
          "IN",
          "RI",
          "ND",
          "NH",
          "NV",
          "UT",
          "NC",
          "MI",
          "WI",
          "NH",
          "CT",
          "NH",
          "WY",
          "OR",
          "SC",
          "MD",
          "NY",
          "NM",
          "LA",
          "UT",
          "AL",
          "DE",
          "WV",
          "KY",
          "NC",
          "WV",
          "AZ",
          "WV",
          "ND",
          "OK",
          "IA",
          "NE",
          "ID",
          "OR",
          "SD",
          "DE",
          "WA",
          "CT",
          "MN",
          "WA",
          "PA",
          "ID",
          "WA",
          "DC",
          "KY",
          "TN",
          "ID",
          "WV",
          "WI",
          "OK",
          "WV",
          "SD",
          "KS",
          "NC",
          "NY",
          "WI",
          "SC",
          "UT",
          "NC",
          "AR",
          "NY",
          "OR",
          "IL",
          "MA",
          "CT",
          "WI",
          "OK",
          "DE",
          "AZ",
          "AK",
          "MI",
          "SD",
          "SD",
          "MA",
          "KS",
          "OR",
          "NJ",
          "OH",
          "NM",
          "OH",
          "MI",
          "KS",
          "IL",
          "AR",
          "NY",
          "WY",
          "NC",
          "OR",
          "VT",
          "SD",
          "DC",
          "RI",
          "OK",
          "MN",
          "WV",
          "NH",
          "WI",
          "IN",
          "IN",
          "NY",
          "OR",
          "OK",
          "WI",
          "NJ",
          "UT",
          "DC",
          "AK",
          "AZ",
          "KS",
          "OH",
          "SC",
          "TN",
          "CA",
          "IN",
          "RI",
          "MO",
          "TN",
          "CT",
          "ME",
          "MD",
          "NC",
          "SC",
          "LA",
          "WI",
          "IN",
          "AL",
          "OK",
          "IA",
          "VT",
          "NY",
          "LA",
          "SC",
          "ID",
          "MO",
          "ME",
          "MS",
          "SD",
          "OK",
          "WY",
          "VT",
          "WV",
          "OH",
          "OH",
          "SC",
          "AZ",
          "WV",
          "RI",
          "CT",
          "TN"
         ],
         "xaxis": "x",
         "yaxis": "y"
        },
        {
         "alignmentgroup": "True",
         "bingroup": "x",
         "hovertemplate": "Churn=1<br>State=%{x}<br>count=%{y}<extra></extra>",
         "legendgroup": "1",
         "marker": {
          "color": "#482878",
          "pattern": {
           "shape": ""
          }
         },
         "name": "1",
         "offsetgroup": "1",
         "orientation": "v",
         "showlegend": true,
         "type": "histogram",
         "x": [
          "IN",
          "NY",
          "CO",
          "AZ",
          "MD",
          "ID",
          "WY",
          "CO",
          "TX",
          "DC",
          "NY",
          "TX",
          "IN",
          "NJ",
          "LA",
          "MS",
          "ID",
          "ME",
          "NV",
          "MS",
          "MS",
          "VT",
          "OH",
          "AK",
          "TX",
          "ME",
          "FL",
          "MD",
          "MD",
          "MN",
          "NV",
          "VA",
          "OR",
          "KS",
          "SD",
          "OK",
          "CT",
          "FL",
          "RI",
          "VT",
          "IN",
          "MN",
          "SD",
          "MT",
          "AL",
          "GA",
          "FL",
          "MS",
          "CO",
          "CO",
          "CA",
          "MO",
          "WI",
          "OR",
          "DC",
          "DE",
          "DE",
          "DE",
          "KS",
          "OH",
          "OH",
          "MA",
          "NV",
          "FL",
          "WV",
          "AL",
          "ME",
          "ME",
          "MI",
          "MO",
          "MS",
          "AL",
          "SC",
          "MN",
          "WI",
          "VT",
          "AK",
          "GA",
          "MT",
          "NC",
          "WV",
          "IN",
          "SD",
          "OK",
          "MA",
          "MO",
          "NV",
          "KS",
          "NJ",
          "GA",
          "MO",
          "CA",
          "MT",
          "TX",
          "WV",
          "UT",
          "WY",
          "UT",
          "KY",
          "PA",
          "WI",
          "MA",
          "NJ",
          "NV",
          "VA",
          "KY",
          "CO",
          "SC",
          "NE",
          "MA",
          "AL",
          "MA",
          "LA",
          "ME",
          "CT",
          "MD",
          "WV",
          "AR",
          "MO",
          "KY",
          "NV",
          "NJ",
          "NJ",
          "NM",
          "DE",
          "GA",
          "VT",
          "NY",
          "KS",
          "MI",
          "WY",
          "UT",
          "VA",
          "CA",
          "NY",
          "ME",
          "NJ",
          "NJ",
          "OH",
          "MI",
          "NE",
          "NV",
          "WY",
          "UT",
          "GA",
          "KS",
          "MD",
          "MD",
          "NM",
          "IL",
          "CO",
          "KS",
          "TN",
          "MN",
          "MA",
          "FL",
          "MT",
          "MI",
          "NY",
          "NC",
          "OR",
          "UT",
          "WA",
          "TX",
          "WA",
          "DE",
          "TN",
          "ID",
          "KS",
          "WY",
          "WA",
          "MA",
          "SD",
          "PA",
          "WA",
          "VT",
          "CT",
          "SC",
          "OH",
          "OK",
          "MT",
          "MS",
          "MI",
          "IL",
          "ME",
          "UT",
          "DE",
          "MD",
          "AR",
          "MT",
          "UT",
          "OH",
          "IA",
          "DE",
          "CA",
          "WY",
          "OR",
          "ME",
          "WV",
          "MI",
          "NJ",
          "KS",
          "AR",
          "MT",
          "NH",
          "AZ",
          "MD",
          "MN",
          "CT",
          "MD",
          "AL",
          "NV",
          "OK",
          "OR",
          "PA",
          "VT",
          "MA",
          "OR",
          "FL",
          "WV",
          "MO",
          "AZ",
          "TX",
          "NV",
          "NJ",
          "DC",
          "ME",
          "NY",
          "NC",
          "CT",
          "NM",
          "MN",
          "OR",
          "DE",
          "NY",
          "CT",
          "NH",
          "WA",
          "SC",
          "NC",
          "PA",
          "NC",
          "MO",
          "NM",
          "MA",
          "OH",
          "MI",
          "TX",
          "MS",
          "KY",
          "CT",
          "NE",
          "OK",
          "SD",
          "WI",
          "IN",
          "VT",
          "NJ",
          "WA",
          "NH",
          "WA",
          "PA",
          "HI",
          "MD",
          "AZ",
          "TX",
          "ND",
          "NY",
          "KY",
          "SC",
          "RI",
          "TN",
          "TX",
          "SD",
          "OK",
          "NJ",
          "TX",
          "KS",
          "OR",
          "NH",
          "MA",
          "NH",
          "GA",
          "MN",
          "LA",
          "NJ",
          "CA",
          "TX",
          "CA",
          "VA",
          "MT",
          "NE",
          "SC",
          "AL",
          "FL",
          "NV",
          "NC",
          "KS",
          "NM",
          "WA",
          "PA",
          "UT",
          "TX",
          "MS",
          "MI",
          "NV",
          "NE",
          "TN",
          "MS",
          "AR",
          "NV",
          "LA",
          "UT",
          "NY",
          "MN",
          "TN",
          "IL",
          "MT",
          "FL",
          "WI",
          "NY",
          "NV",
          "ND",
          "NJ",
          "CT",
          "MI",
          "SC",
          "SC",
          "MD",
          "NY",
          "NY",
          "ID",
          "TX",
          "WI",
          "DC",
          "CA",
          "MN",
          "CO",
          "MN",
          "PA",
          "CA",
          "NC",
          "WV",
          "IN",
          "ID",
          "RI",
          "KY",
          "MD",
          "NJ",
          "CO",
          "RI",
          "CT",
          "OR",
          "SC",
          "KY",
          "MN",
          "WV",
          "MS",
          "NY",
          "ND",
          "OH",
          "AL",
          "DE",
          "OK",
          "AR",
          "NH",
          "ND",
          "MI",
          "NH",
          "KS",
          "SC",
          "NJ",
          "VA",
          "NM",
          "RI",
          "MS",
          "ND",
          "IA",
          "SC",
          "MN",
          "MN",
          "MI",
          "SC",
          "MI",
          "WV",
          "NJ",
          "NJ",
          "NC",
          "TX",
          "PA",
          "MD",
          "IL",
          "WI",
          "NJ",
          "ME",
          "MD",
          "MN",
          "AR",
          "MT",
          "SD",
          "ID",
          "WY",
          "OR",
          "AL",
          "MS",
          "SC",
          "NH",
          "MA",
          "WY",
          "MI",
          "UT",
          "CT",
          "MS",
          "MT",
          "NV",
          "WA",
          "NY",
          "IN",
          "DC",
          "OK",
          "GA",
          "ND",
          "OH",
          "WY",
          "NC",
          "TX",
          "KY",
          "OR",
          "CT",
          "MI",
          "MT",
          "HI",
          "KS",
          "NY",
          "MI",
          "VT",
          "WA",
          "TX",
          "MT",
          "ME",
          "MN",
          "SC",
          "CO",
          "MD",
          "TX",
          "WV",
          "SD",
          "AR",
          "HI",
          "IA",
          "MT",
          "NC",
          "NH",
          "WA",
          "ME",
          "AR",
          "AR",
          "TX",
          "ID",
          "WA",
          "ID",
          "CT",
          "MS",
          "OH",
          "IN",
          "ME",
          "WA",
          "AK",
          "AR",
          "NC",
          "OK",
          "RI",
          "ID",
          "WA",
          "MD",
          "AR",
          "KS",
          "MI",
          "CA",
          "IL",
          "GA",
          "MD",
          "IN"
         ],
         "xaxis": "x",
         "yaxis": "y"
        }
       ],
       "layout": {
        "barmode": "group",
        "legend": {
         "title": {
          "text": "Churn"
         },
         "tracegroupgap": 0
        },
        "template": {
         "data": {
          "bar": [
           {
            "error_x": {
             "color": "#2a3f5f"
            },
            "error_y": {
             "color": "#2a3f5f"
            },
            "marker": {
             "line": {
              "color": "#E5ECF6",
              "width": 0.5
             },
             "pattern": {
              "fillmode": "overlay",
              "size": 10,
              "solidity": 0.2
             }
            },
            "type": "bar"
           }
          ],
          "barpolar": [
           {
            "marker": {
             "line": {
              "color": "#E5ECF6",
              "width": 0.5
             },
             "pattern": {
              "fillmode": "overlay",
              "size": 10,
              "solidity": 0.2
             }
            },
            "type": "barpolar"
           }
          ],
          "carpet": [
           {
            "aaxis": {
             "endlinecolor": "#2a3f5f",
             "gridcolor": "white",
             "linecolor": "white",
             "minorgridcolor": "white",
             "startlinecolor": "#2a3f5f"
            },
            "baxis": {
             "endlinecolor": "#2a3f5f",
             "gridcolor": "white",
             "linecolor": "white",
             "minorgridcolor": "white",
             "startlinecolor": "#2a3f5f"
            },
            "type": "carpet"
           }
          ],
          "choropleth": [
           {
            "colorbar": {
             "outlinewidth": 0,
             "ticks": ""
            },
            "type": "choropleth"
           }
          ],
          "contour": [
           {
            "colorbar": {
             "outlinewidth": 0,
             "ticks": ""
            },
            "colorscale": [
             [
              0,
              "#0d0887"
             ],
             [
              0.1111111111111111,
              "#46039f"
             ],
             [
              0.2222222222222222,
              "#7201a8"
             ],
             [
              0.3333333333333333,
              "#9c179e"
             ],
             [
              0.4444444444444444,
              "#bd3786"
             ],
             [
              0.5555555555555556,
              "#d8576b"
             ],
             [
              0.6666666666666666,
              "#ed7953"
             ],
             [
              0.7777777777777778,
              "#fb9f3a"
             ],
             [
              0.8888888888888888,
              "#fdca26"
             ],
             [
              1,
              "#f0f921"
             ]
            ],
            "type": "contour"
           }
          ],
          "contourcarpet": [
           {
            "colorbar": {
             "outlinewidth": 0,
             "ticks": ""
            },
            "type": "contourcarpet"
           }
          ],
          "heatmap": [
           {
            "colorbar": {
             "outlinewidth": 0,
             "ticks": ""
            },
            "colorscale": [
             [
              0,
              "#0d0887"
             ],
             [
              0.1111111111111111,
              "#46039f"
             ],
             [
              0.2222222222222222,
              "#7201a8"
             ],
             [
              0.3333333333333333,
              "#9c179e"
             ],
             [
              0.4444444444444444,
              "#bd3786"
             ],
             [
              0.5555555555555556,
              "#d8576b"
             ],
             [
              0.6666666666666666,
              "#ed7953"
             ],
             [
              0.7777777777777778,
              "#fb9f3a"
             ],
             [
              0.8888888888888888,
              "#fdca26"
             ],
             [
              1,
              "#f0f921"
             ]
            ],
            "type": "heatmap"
           }
          ],
          "heatmapgl": [
           {
            "colorbar": {
             "outlinewidth": 0,
             "ticks": ""
            },
            "colorscale": [
             [
              0,
              "#0d0887"
             ],
             [
              0.1111111111111111,
              "#46039f"
             ],
             [
              0.2222222222222222,
              "#7201a8"
             ],
             [
              0.3333333333333333,
              "#9c179e"
             ],
             [
              0.4444444444444444,
              "#bd3786"
             ],
             [
              0.5555555555555556,
              "#d8576b"
             ],
             [
              0.6666666666666666,
              "#ed7953"
             ],
             [
              0.7777777777777778,
              "#fb9f3a"
             ],
             [
              0.8888888888888888,
              "#fdca26"
             ],
             [
              1,
              "#f0f921"
             ]
            ],
            "type": "heatmapgl"
           }
          ],
          "histogram": [
           {
            "marker": {
             "pattern": {
              "fillmode": "overlay",
              "size": 10,
              "solidity": 0.2
             }
            },
            "type": "histogram"
           }
          ],
          "histogram2d": [
           {
            "colorbar": {
             "outlinewidth": 0,
             "ticks": ""
            },
            "colorscale": [
             [
              0,
              "#0d0887"
             ],
             [
              0.1111111111111111,
              "#46039f"
             ],
             [
              0.2222222222222222,
              "#7201a8"
             ],
             [
              0.3333333333333333,
              "#9c179e"
             ],
             [
              0.4444444444444444,
              "#bd3786"
             ],
             [
              0.5555555555555556,
              "#d8576b"
             ],
             [
              0.6666666666666666,
              "#ed7953"
             ],
             [
              0.7777777777777778,
              "#fb9f3a"
             ],
             [
              0.8888888888888888,
              "#fdca26"
             ],
             [
              1,
              "#f0f921"
             ]
            ],
            "type": "histogram2d"
           }
          ],
          "histogram2dcontour": [
           {
            "colorbar": {
             "outlinewidth": 0,
             "ticks": ""
            },
            "colorscale": [
             [
              0,
              "#0d0887"
             ],
             [
              0.1111111111111111,
              "#46039f"
             ],
             [
              0.2222222222222222,
              "#7201a8"
             ],
             [
              0.3333333333333333,
              "#9c179e"
             ],
             [
              0.4444444444444444,
              "#bd3786"
             ],
             [
              0.5555555555555556,
              "#d8576b"
             ],
             [
              0.6666666666666666,
              "#ed7953"
             ],
             [
              0.7777777777777778,
              "#fb9f3a"
             ],
             [
              0.8888888888888888,
              "#fdca26"
             ],
             [
              1,
              "#f0f921"
             ]
            ],
            "type": "histogram2dcontour"
           }
          ],
          "mesh3d": [
           {
            "colorbar": {
             "outlinewidth": 0,
             "ticks": ""
            },
            "type": "mesh3d"
           }
          ],
          "parcoords": [
           {
            "line": {
             "colorbar": {
              "outlinewidth": 0,
              "ticks": ""
             }
            },
            "type": "parcoords"
           }
          ],
          "pie": [
           {
            "automargin": true,
            "type": "pie"
           }
          ],
          "scatter": [
           {
            "fillpattern": {
             "fillmode": "overlay",
             "size": 10,
             "solidity": 0.2
            },
            "type": "scatter"
           }
          ],
          "scatter3d": [
           {
            "line": {
             "colorbar": {
              "outlinewidth": 0,
              "ticks": ""
             }
            },
            "marker": {
             "colorbar": {
              "outlinewidth": 0,
              "ticks": ""
             }
            },
            "type": "scatter3d"
           }
          ],
          "scattercarpet": [
           {
            "marker": {
             "colorbar": {
              "outlinewidth": 0,
              "ticks": ""
             }
            },
            "type": "scattercarpet"
           }
          ],
          "scattergeo": [
           {
            "marker": {
             "colorbar": {
              "outlinewidth": 0,
              "ticks": ""
             }
            },
            "type": "scattergeo"
           }
          ],
          "scattergl": [
           {
            "marker": {
             "colorbar": {
              "outlinewidth": 0,
              "ticks": ""
             }
            },
            "type": "scattergl"
           }
          ],
          "scattermapbox": [
           {
            "marker": {
             "colorbar": {
              "outlinewidth": 0,
              "ticks": ""
             }
            },
            "type": "scattermapbox"
           }
          ],
          "scatterpolar": [
           {
            "marker": {
             "colorbar": {
              "outlinewidth": 0,
              "ticks": ""
             }
            },
            "type": "scatterpolar"
           }
          ],
          "scatterpolargl": [
           {
            "marker": {
             "colorbar": {
              "outlinewidth": 0,
              "ticks": ""
             }
            },
            "type": "scatterpolargl"
           }
          ],
          "scatterternary": [
           {
            "marker": {
             "colorbar": {
              "outlinewidth": 0,
              "ticks": ""
             }
            },
            "type": "scatterternary"
           }
          ],
          "surface": [
           {
            "colorbar": {
             "outlinewidth": 0,
             "ticks": ""
            },
            "colorscale": [
             [
              0,
              "#0d0887"
             ],
             [
              0.1111111111111111,
              "#46039f"
             ],
             [
              0.2222222222222222,
              "#7201a8"
             ],
             [
              0.3333333333333333,
              "#9c179e"
             ],
             [
              0.4444444444444444,
              "#bd3786"
             ],
             [
              0.5555555555555556,
              "#d8576b"
             ],
             [
              0.6666666666666666,
              "#ed7953"
             ],
             [
              0.7777777777777778,
              "#fb9f3a"
             ],
             [
              0.8888888888888888,
              "#fdca26"
             ],
             [
              1,
              "#f0f921"
             ]
            ],
            "type": "surface"
           }
          ],
          "table": [
           {
            "cells": {
             "fill": {
              "color": "#EBF0F8"
             },
             "line": {
              "color": "white"
             }
            },
            "header": {
             "fill": {
              "color": "#C8D4E3"
             },
             "line": {
              "color": "white"
             }
            },
            "type": "table"
           }
          ]
         },
         "layout": {
          "annotationdefaults": {
           "arrowcolor": "#2a3f5f",
           "arrowhead": 0,
           "arrowwidth": 1
          },
          "autotypenumbers": "strict",
          "coloraxis": {
           "colorbar": {
            "outlinewidth": 0,
            "ticks": ""
           }
          },
          "colorscale": {
           "diverging": [
            [
             0,
             "#8e0152"
            ],
            [
             0.1,
             "#c51b7d"
            ],
            [
             0.2,
             "#de77ae"
            ],
            [
             0.3,
             "#f1b6da"
            ],
            [
             0.4,
             "#fde0ef"
            ],
            [
             0.5,
             "#f7f7f7"
            ],
            [
             0.6,
             "#e6f5d0"
            ],
            [
             0.7,
             "#b8e186"
            ],
            [
             0.8,
             "#7fbc41"
            ],
            [
             0.9,
             "#4d9221"
            ],
            [
             1,
             "#276419"
            ]
           ],
           "sequential": [
            [
             0,
             "#0d0887"
            ],
            [
             0.1111111111111111,
             "#46039f"
            ],
            [
             0.2222222222222222,
             "#7201a8"
            ],
            [
             0.3333333333333333,
             "#9c179e"
            ],
            [
             0.4444444444444444,
             "#bd3786"
            ],
            [
             0.5555555555555556,
             "#d8576b"
            ],
            [
             0.6666666666666666,
             "#ed7953"
            ],
            [
             0.7777777777777778,
             "#fb9f3a"
            ],
            [
             0.8888888888888888,
             "#fdca26"
            ],
            [
             1,
             "#f0f921"
            ]
           ],
           "sequentialminus": [
            [
             0,
             "#0d0887"
            ],
            [
             0.1111111111111111,
             "#46039f"
            ],
            [
             0.2222222222222222,
             "#7201a8"
            ],
            [
             0.3333333333333333,
             "#9c179e"
            ],
            [
             0.4444444444444444,
             "#bd3786"
            ],
            [
             0.5555555555555556,
             "#d8576b"
            ],
            [
             0.6666666666666666,
             "#ed7953"
            ],
            [
             0.7777777777777778,
             "#fb9f3a"
            ],
            [
             0.8888888888888888,
             "#fdca26"
            ],
            [
             1,
             "#f0f921"
            ]
           ]
          },
          "colorway": [
           "#636efa",
           "#EF553B",
           "#00cc96",
           "#ab63fa",
           "#FFA15A",
           "#19d3f3",
           "#FF6692",
           "#B6E880",
           "#FF97FF",
           "#FECB52"
          ],
          "font": {
           "color": "#2a3f5f"
          },
          "geo": {
           "bgcolor": "white",
           "lakecolor": "white",
           "landcolor": "#E5ECF6",
           "showlakes": true,
           "showland": true,
           "subunitcolor": "white"
          },
          "hoverlabel": {
           "align": "left"
          },
          "hovermode": "closest",
          "mapbox": {
           "style": "light"
          },
          "paper_bgcolor": "white",
          "plot_bgcolor": "#E5ECF6",
          "polar": {
           "angularaxis": {
            "gridcolor": "white",
            "linecolor": "white",
            "ticks": ""
           },
           "bgcolor": "#E5ECF6",
           "radialaxis": {
            "gridcolor": "white",
            "linecolor": "white",
            "ticks": ""
           }
          },
          "scene": {
           "xaxis": {
            "backgroundcolor": "#E5ECF6",
            "gridcolor": "white",
            "gridwidth": 2,
            "linecolor": "white",
            "showbackground": true,
            "ticks": "",
            "zerolinecolor": "white"
           },
           "yaxis": {
            "backgroundcolor": "#E5ECF6",
            "gridcolor": "white",
            "gridwidth": 2,
            "linecolor": "white",
            "showbackground": true,
            "ticks": "",
            "zerolinecolor": "white"
           },
           "zaxis": {
            "backgroundcolor": "#E5ECF6",
            "gridcolor": "white",
            "gridwidth": 2,
            "linecolor": "white",
            "showbackground": true,
            "ticks": "",
            "zerolinecolor": "white"
           }
          },
          "shapedefaults": {
           "line": {
            "color": "#2a3f5f"
           }
          },
          "ternary": {
           "aaxis": {
            "gridcolor": "white",
            "linecolor": "white",
            "ticks": ""
           },
           "baxis": {
            "gridcolor": "white",
            "linecolor": "white",
            "ticks": ""
           },
           "bgcolor": "#E5ECF6",
           "caxis": {
            "gridcolor": "white",
            "linecolor": "white",
            "ticks": ""
           }
          },
          "title": {
           "x": 0.05
          },
          "xaxis": {
           "automargin": true,
           "gridcolor": "white",
           "linecolor": "white",
           "ticks": "",
           "title": {
            "standoff": 15
           },
           "zerolinecolor": "white",
           "zerolinewidth": 2
          },
          "yaxis": {
           "automargin": true,
           "gridcolor": "white",
           "linecolor": "white",
           "ticks": "",
           "title": {
            "standoff": 15
           },
           "zerolinecolor": "white",
           "zerolinewidth": 2
          }
         }
        },
        "title": {
         "text": "Churn Distribution Across States"
        },
        "xaxis": {
         "anchor": "y",
         "domain": [
          0,
          1
         ],
         "title": {
          "text": "State"
         }
        },
        "yaxis": {
         "anchor": "x",
         "domain": [
          0,
          1
         ],
         "title": {
          "text": "Count"
         }
        }
       }
      }
     },
     "metadata": {},
     "output_type": "display_data"
    }
   ],
   "source": [
    "# bar plot using Plotly Express\n",
    "fig = px.histogram(data_copy, x='state', color='churn', barmode='group',\n",
    "                   title='Churn Distribution Across States',\n",
    "                   labels={'state': 'State', 'count': 'Count', 'churn': 'Churn'},\n",
    "                   color_discrete_sequence=px.colors.sequential.Viridis)\n",
    "\n",
    "# Update layout for better readability\n",
    "fig.update_layout(xaxis_title='State',\n",
    "                  yaxis_title='Count',\n",
    "                  legend_title='Churn')\n",
    "\n",
    "# Show the plot\n",
    "fig.show()"
   ]
  },
  {
   "cell_type": "code",
   "execution_count": 19,
   "metadata": {},
   "outputs": [
    {
     "data": {
      "application/vnd.plotly.v1+json": {
       "config": {
        "plotlyServerURL": "https://plot.ly"
       },
       "data": [
        {
         "alignmentgroup": "True",
         "bingroup": "x",
         "hovertemplate": "Churn=0<br>State=%{x}<br>count=%{y}<extra></extra>",
         "legendgroup": "0",
         "marker": {
          "color": "#440154",
          "pattern": {
           "shape": ""
          }
         },
         "name": "0",
         "offsetgroup": "0",
         "orientation": "v",
         "showlegend": true,
         "type": "histogram",
         "x": [
          "NJ",
          "TX",
          "NJ",
          "MI",
          "MN",
          "MN",
          "NJ",
          "MN",
          "MN",
          "MN",
          "MD",
          "MI",
          "MI",
          "NJ",
          "TX",
          "MD",
          "TX",
          "NJ",
          "TX",
          "MD",
          "MI",
          "MI",
          "MI",
          "MN",
          "MI",
          "TX",
          "MD",
          "MN",
          "MD",
          "MI",
          "MD",
          "NJ",
          "NJ",
          "MI",
          "TX",
          "TX",
          "MN",
          "MN",
          "MI",
          "MI",
          "MN",
          "MD",
          "TX",
          "MN",
          "MD",
          "MD",
          "TX",
          "TX",
          "MN",
          "NJ",
          "MI",
          "MI",
          "TX",
          "TX",
          "MD",
          "MI",
          "MD",
          "MD",
          "MI",
          "MI",
          "NJ",
          "TX",
          "MD",
          "NJ",
          "TX",
          "MD",
          "MN",
          "TX",
          "MN",
          "MI",
          "MI",
          "TX",
          "TX",
          "NJ",
          "MN",
          "MN",
          "NJ",
          "MI",
          "NJ",
          "NJ",
          "MI",
          "MI",
          "TX",
          "NJ",
          "MN",
          "MN",
          "MN",
          "MN",
          "MD",
          "MD",
          "MN",
          "MD",
          "NJ",
          "TX",
          "MD",
          "TX",
          "MN",
          "NJ",
          "TX",
          "MN",
          "MI",
          "MI",
          "MN",
          "TX",
          "MN",
          "MN",
          "MN",
          "NJ",
          "TX",
          "MI",
          "MN",
          "MD",
          "NJ",
          "TX",
          "MN",
          "TX",
          "MI",
          "NJ",
          "MN",
          "TX",
          "MN",
          "MN",
          "TX",
          "NJ",
          "MI",
          "MN",
          "TX",
          "MD",
          "TX",
          "MI",
          "NJ",
          "MD",
          "TX",
          "NJ",
          "MN",
          "NJ",
          "MI",
          "MI",
          "MD",
          "NJ",
          "MD",
          "MD",
          "MD",
          "MN",
          "MN",
          "NJ",
          "TX",
          "MD",
          "MN",
          "MI",
          "MN",
          "MD",
          "NJ",
          "MI",
          "TX",
          "NJ",
          "MN",
          "MN",
          "TX",
          "MD",
          "MI",
          "NJ",
          "MN",
          "MN",
          "MN",
          "NJ",
          "TX",
          "NJ",
          "TX",
          "TX",
          "MI",
          "NJ",
          "MD",
          "MN",
          "TX",
          "MD",
          "TX",
          "NJ",
          "NJ",
          "MI",
          "TX",
          "MD",
          "MI",
          "TX",
          "MD",
          "NJ",
          "MI",
          "MD",
          "NJ",
          "MI",
          "MN",
          "MN",
          "MI",
          "TX",
          "MD",
          "MN",
          "TX",
          "TX",
          "MN",
          "MD",
          "MN",
          "NJ",
          "TX",
          "MN",
          "MI",
          "MD",
          "MD",
          "MI",
          "TX",
          "MD",
          "MN",
          "NJ",
          "MD",
          "TX",
          "MD",
          "MD",
          "TX",
          "MD",
          "MN",
          "NJ",
          "MN",
          "MD",
          "MN",
          "MN",
          "NJ",
          "MN",
          "MI",
          "MD",
          "MI",
          "MD",
          "TX",
          "MN",
          "MI",
          "MN",
          "NJ",
          "MI",
          "MD",
          "MI",
          "MI",
          "NJ",
          "MI",
          "MN",
          "MI",
          "MN",
          "TX",
          "MI",
          "NJ",
          "MD",
          "MN",
          "MN",
          "TX",
          "NJ",
          "MN",
          "MN",
          "MN",
          "TX",
          "TX",
          "MI",
          "NJ",
          "MD",
          "MI",
          "NJ",
          "TX",
          "MN",
          "MD",
          "MD",
          "MI",
          "MI",
          "MD",
          "TX",
          "MI",
          "MN",
          "NJ",
          "NJ",
          "MI",
          "MD",
          "MN",
          "MI",
          "NJ",
          "MI",
          "MN",
          "NJ",
          "MD"
         ],
         "xaxis": "x",
         "yaxis": "y"
        },
        {
         "alignmentgroup": "True",
         "bingroup": "x",
         "hovertemplate": "Churn=1<br>State=%{x}<br>count=%{y}<extra></extra>",
         "legendgroup": "1",
         "marker": {
          "color": "#482878",
          "pattern": {
           "shape": ""
          }
         },
         "name": "1",
         "offsetgroup": "1",
         "orientation": "v",
         "showlegend": true,
         "type": "histogram",
         "x": [
          "MD",
          "TX",
          "TX",
          "NJ",
          "TX",
          "MD",
          "MD",
          "MN",
          "MN",
          "MI",
          "MN",
          "NJ",
          "TX",
          "NJ",
          "MD",
          "NJ",
          "NJ",
          "MI",
          "NJ",
          "NJ",
          "MI",
          "MD",
          "MD",
          "MN",
          "MI",
          "TX",
          "MI",
          "MD",
          "MI",
          "NJ",
          "MD",
          "MN",
          "MD",
          "TX",
          "NJ",
          "MN",
          "MI",
          "TX",
          "NJ",
          "MD",
          "TX",
          "TX",
          "NJ",
          "TX",
          "MN",
          "NJ",
          "TX",
          "TX",
          "MI",
          "MN",
          "NJ",
          "MI",
          "MD",
          "TX",
          "MN",
          "MN",
          "MD",
          "NJ",
          "MN",
          "MI",
          "NJ",
          "MN",
          "MN",
          "MI",
          "MI",
          "NJ",
          "NJ",
          "TX",
          "MD",
          "NJ",
          "MD",
          "MN",
          "MI",
          "TX",
          "MI",
          "MI",
          "TX",
          "MN",
          "MD",
          "TX",
          "TX",
          "MD",
          "MI",
          "MD"
         ],
         "xaxis": "x",
         "yaxis": "y"
        }
       ],
       "layout": {
        "barmode": "group",
        "legend": {
         "title": {
          "text": "Churn"
         },
         "tracegroupgap": 0
        },
        "template": {
         "data": {
          "bar": [
           {
            "error_x": {
             "color": "#2a3f5f"
            },
            "error_y": {
             "color": "#2a3f5f"
            },
            "marker": {
             "line": {
              "color": "#E5ECF6",
              "width": 0.5
             },
             "pattern": {
              "fillmode": "overlay",
              "size": 10,
              "solidity": 0.2
             }
            },
            "type": "bar"
           }
          ],
          "barpolar": [
           {
            "marker": {
             "line": {
              "color": "#E5ECF6",
              "width": 0.5
             },
             "pattern": {
              "fillmode": "overlay",
              "size": 10,
              "solidity": 0.2
             }
            },
            "type": "barpolar"
           }
          ],
          "carpet": [
           {
            "aaxis": {
             "endlinecolor": "#2a3f5f",
             "gridcolor": "white",
             "linecolor": "white",
             "minorgridcolor": "white",
             "startlinecolor": "#2a3f5f"
            },
            "baxis": {
             "endlinecolor": "#2a3f5f",
             "gridcolor": "white",
             "linecolor": "white",
             "minorgridcolor": "white",
             "startlinecolor": "#2a3f5f"
            },
            "type": "carpet"
           }
          ],
          "choropleth": [
           {
            "colorbar": {
             "outlinewidth": 0,
             "ticks": ""
            },
            "type": "choropleth"
           }
          ],
          "contour": [
           {
            "colorbar": {
             "outlinewidth": 0,
             "ticks": ""
            },
            "colorscale": [
             [
              0,
              "#0d0887"
             ],
             [
              0.1111111111111111,
              "#46039f"
             ],
             [
              0.2222222222222222,
              "#7201a8"
             ],
             [
              0.3333333333333333,
              "#9c179e"
             ],
             [
              0.4444444444444444,
              "#bd3786"
             ],
             [
              0.5555555555555556,
              "#d8576b"
             ],
             [
              0.6666666666666666,
              "#ed7953"
             ],
             [
              0.7777777777777778,
              "#fb9f3a"
             ],
             [
              0.8888888888888888,
              "#fdca26"
             ],
             [
              1,
              "#f0f921"
             ]
            ],
            "type": "contour"
           }
          ],
          "contourcarpet": [
           {
            "colorbar": {
             "outlinewidth": 0,
             "ticks": ""
            },
            "type": "contourcarpet"
           }
          ],
          "heatmap": [
           {
            "colorbar": {
             "outlinewidth": 0,
             "ticks": ""
            },
            "colorscale": [
             [
              0,
              "#0d0887"
             ],
             [
              0.1111111111111111,
              "#46039f"
             ],
             [
              0.2222222222222222,
              "#7201a8"
             ],
             [
              0.3333333333333333,
              "#9c179e"
             ],
             [
              0.4444444444444444,
              "#bd3786"
             ],
             [
              0.5555555555555556,
              "#d8576b"
             ],
             [
              0.6666666666666666,
              "#ed7953"
             ],
             [
              0.7777777777777778,
              "#fb9f3a"
             ],
             [
              0.8888888888888888,
              "#fdca26"
             ],
             [
              1,
              "#f0f921"
             ]
            ],
            "type": "heatmap"
           }
          ],
          "heatmapgl": [
           {
            "colorbar": {
             "outlinewidth": 0,
             "ticks": ""
            },
            "colorscale": [
             [
              0,
              "#0d0887"
             ],
             [
              0.1111111111111111,
              "#46039f"
             ],
             [
              0.2222222222222222,
              "#7201a8"
             ],
             [
              0.3333333333333333,
              "#9c179e"
             ],
             [
              0.4444444444444444,
              "#bd3786"
             ],
             [
              0.5555555555555556,
              "#d8576b"
             ],
             [
              0.6666666666666666,
              "#ed7953"
             ],
             [
              0.7777777777777778,
              "#fb9f3a"
             ],
             [
              0.8888888888888888,
              "#fdca26"
             ],
             [
              1,
              "#f0f921"
             ]
            ],
            "type": "heatmapgl"
           }
          ],
          "histogram": [
           {
            "marker": {
             "pattern": {
              "fillmode": "overlay",
              "size": 10,
              "solidity": 0.2
             }
            },
            "type": "histogram"
           }
          ],
          "histogram2d": [
           {
            "colorbar": {
             "outlinewidth": 0,
             "ticks": ""
            },
            "colorscale": [
             [
              0,
              "#0d0887"
             ],
             [
              0.1111111111111111,
              "#46039f"
             ],
             [
              0.2222222222222222,
              "#7201a8"
             ],
             [
              0.3333333333333333,
              "#9c179e"
             ],
             [
              0.4444444444444444,
              "#bd3786"
             ],
             [
              0.5555555555555556,
              "#d8576b"
             ],
             [
              0.6666666666666666,
              "#ed7953"
             ],
             [
              0.7777777777777778,
              "#fb9f3a"
             ],
             [
              0.8888888888888888,
              "#fdca26"
             ],
             [
              1,
              "#f0f921"
             ]
            ],
            "type": "histogram2d"
           }
          ],
          "histogram2dcontour": [
           {
            "colorbar": {
             "outlinewidth": 0,
             "ticks": ""
            },
            "colorscale": [
             [
              0,
              "#0d0887"
             ],
             [
              0.1111111111111111,
              "#46039f"
             ],
             [
              0.2222222222222222,
              "#7201a8"
             ],
             [
              0.3333333333333333,
              "#9c179e"
             ],
             [
              0.4444444444444444,
              "#bd3786"
             ],
             [
              0.5555555555555556,
              "#d8576b"
             ],
             [
              0.6666666666666666,
              "#ed7953"
             ],
             [
              0.7777777777777778,
              "#fb9f3a"
             ],
             [
              0.8888888888888888,
              "#fdca26"
             ],
             [
              1,
              "#f0f921"
             ]
            ],
            "type": "histogram2dcontour"
           }
          ],
          "mesh3d": [
           {
            "colorbar": {
             "outlinewidth": 0,
             "ticks": ""
            },
            "type": "mesh3d"
           }
          ],
          "parcoords": [
           {
            "line": {
             "colorbar": {
              "outlinewidth": 0,
              "ticks": ""
             }
            },
            "type": "parcoords"
           }
          ],
          "pie": [
           {
            "automargin": true,
            "type": "pie"
           }
          ],
          "scatter": [
           {
            "fillpattern": {
             "fillmode": "overlay",
             "size": 10,
             "solidity": 0.2
            },
            "type": "scatter"
           }
          ],
          "scatter3d": [
           {
            "line": {
             "colorbar": {
              "outlinewidth": 0,
              "ticks": ""
             }
            },
            "marker": {
             "colorbar": {
              "outlinewidth": 0,
              "ticks": ""
             }
            },
            "type": "scatter3d"
           }
          ],
          "scattercarpet": [
           {
            "marker": {
             "colorbar": {
              "outlinewidth": 0,
              "ticks": ""
             }
            },
            "type": "scattercarpet"
           }
          ],
          "scattergeo": [
           {
            "marker": {
             "colorbar": {
              "outlinewidth": 0,
              "ticks": ""
             }
            },
            "type": "scattergeo"
           }
          ],
          "scattergl": [
           {
            "marker": {
             "colorbar": {
              "outlinewidth": 0,
              "ticks": ""
             }
            },
            "type": "scattergl"
           }
          ],
          "scattermapbox": [
           {
            "marker": {
             "colorbar": {
              "outlinewidth": 0,
              "ticks": ""
             }
            },
            "type": "scattermapbox"
           }
          ],
          "scatterpolar": [
           {
            "marker": {
             "colorbar": {
              "outlinewidth": 0,
              "ticks": ""
             }
            },
            "type": "scatterpolar"
           }
          ],
          "scatterpolargl": [
           {
            "marker": {
             "colorbar": {
              "outlinewidth": 0,
              "ticks": ""
             }
            },
            "type": "scatterpolargl"
           }
          ],
          "scatterternary": [
           {
            "marker": {
             "colorbar": {
              "outlinewidth": 0,
              "ticks": ""
             }
            },
            "type": "scatterternary"
           }
          ],
          "surface": [
           {
            "colorbar": {
             "outlinewidth": 0,
             "ticks": ""
            },
            "colorscale": [
             [
              0,
              "#0d0887"
             ],
             [
              0.1111111111111111,
              "#46039f"
             ],
             [
              0.2222222222222222,
              "#7201a8"
             ],
             [
              0.3333333333333333,
              "#9c179e"
             ],
             [
              0.4444444444444444,
              "#bd3786"
             ],
             [
              0.5555555555555556,
              "#d8576b"
             ],
             [
              0.6666666666666666,
              "#ed7953"
             ],
             [
              0.7777777777777778,
              "#fb9f3a"
             ],
             [
              0.8888888888888888,
              "#fdca26"
             ],
             [
              1,
              "#f0f921"
             ]
            ],
            "type": "surface"
           }
          ],
          "table": [
           {
            "cells": {
             "fill": {
              "color": "#EBF0F8"
             },
             "line": {
              "color": "white"
             }
            },
            "header": {
             "fill": {
              "color": "#C8D4E3"
             },
             "line": {
              "color": "white"
             }
            },
            "type": "table"
           }
          ]
         },
         "layout": {
          "annotationdefaults": {
           "arrowcolor": "#2a3f5f",
           "arrowhead": 0,
           "arrowwidth": 1
          },
          "autotypenumbers": "strict",
          "coloraxis": {
           "colorbar": {
            "outlinewidth": 0,
            "ticks": ""
           }
          },
          "colorscale": {
           "diverging": [
            [
             0,
             "#8e0152"
            ],
            [
             0.1,
             "#c51b7d"
            ],
            [
             0.2,
             "#de77ae"
            ],
            [
             0.3,
             "#f1b6da"
            ],
            [
             0.4,
             "#fde0ef"
            ],
            [
             0.5,
             "#f7f7f7"
            ],
            [
             0.6,
             "#e6f5d0"
            ],
            [
             0.7,
             "#b8e186"
            ],
            [
             0.8,
             "#7fbc41"
            ],
            [
             0.9,
             "#4d9221"
            ],
            [
             1,
             "#276419"
            ]
           ],
           "sequential": [
            [
             0,
             "#0d0887"
            ],
            [
             0.1111111111111111,
             "#46039f"
            ],
            [
             0.2222222222222222,
             "#7201a8"
            ],
            [
             0.3333333333333333,
             "#9c179e"
            ],
            [
             0.4444444444444444,
             "#bd3786"
            ],
            [
             0.5555555555555556,
             "#d8576b"
            ],
            [
             0.6666666666666666,
             "#ed7953"
            ],
            [
             0.7777777777777778,
             "#fb9f3a"
            ],
            [
             0.8888888888888888,
             "#fdca26"
            ],
            [
             1,
             "#f0f921"
            ]
           ],
           "sequentialminus": [
            [
             0,
             "#0d0887"
            ],
            [
             0.1111111111111111,
             "#46039f"
            ],
            [
             0.2222222222222222,
             "#7201a8"
            ],
            [
             0.3333333333333333,
             "#9c179e"
            ],
            [
             0.4444444444444444,
             "#bd3786"
            ],
            [
             0.5555555555555556,
             "#d8576b"
            ],
            [
             0.6666666666666666,
             "#ed7953"
            ],
            [
             0.7777777777777778,
             "#fb9f3a"
            ],
            [
             0.8888888888888888,
             "#fdca26"
            ],
            [
             1,
             "#f0f921"
            ]
           ]
          },
          "colorway": [
           "#636efa",
           "#EF553B",
           "#00cc96",
           "#ab63fa",
           "#FFA15A",
           "#19d3f3",
           "#FF6692",
           "#B6E880",
           "#FF97FF",
           "#FECB52"
          ],
          "font": {
           "color": "#2a3f5f"
          },
          "geo": {
           "bgcolor": "white",
           "lakecolor": "white",
           "landcolor": "#E5ECF6",
           "showlakes": true,
           "showland": true,
           "subunitcolor": "white"
          },
          "hoverlabel": {
           "align": "left"
          },
          "hovermode": "closest",
          "mapbox": {
           "style": "light"
          },
          "paper_bgcolor": "white",
          "plot_bgcolor": "#E5ECF6",
          "polar": {
           "angularaxis": {
            "gridcolor": "white",
            "linecolor": "white",
            "ticks": ""
           },
           "bgcolor": "#E5ECF6",
           "radialaxis": {
            "gridcolor": "white",
            "linecolor": "white",
            "ticks": ""
           }
          },
          "scene": {
           "xaxis": {
            "backgroundcolor": "#E5ECF6",
            "gridcolor": "white",
            "gridwidth": 2,
            "linecolor": "white",
            "showbackground": true,
            "ticks": "",
            "zerolinecolor": "white"
           },
           "yaxis": {
            "backgroundcolor": "#E5ECF6",
            "gridcolor": "white",
            "gridwidth": 2,
            "linecolor": "white",
            "showbackground": true,
            "ticks": "",
            "zerolinecolor": "white"
           },
           "zaxis": {
            "backgroundcolor": "#E5ECF6",
            "gridcolor": "white",
            "gridwidth": 2,
            "linecolor": "white",
            "showbackground": true,
            "ticks": "",
            "zerolinecolor": "white"
           }
          },
          "shapedefaults": {
           "line": {
            "color": "#2a3f5f"
           }
          },
          "ternary": {
           "aaxis": {
            "gridcolor": "white",
            "linecolor": "white",
            "ticks": ""
           },
           "baxis": {
            "gridcolor": "white",
            "linecolor": "white",
            "ticks": ""
           },
           "bgcolor": "#E5ECF6",
           "caxis": {
            "gridcolor": "white",
            "linecolor": "white",
            "ticks": ""
           }
          },
          "title": {
           "x": 0.05
          },
          "xaxis": {
           "automargin": true,
           "gridcolor": "white",
           "linecolor": "white",
           "ticks": "",
           "title": {
            "standoff": 15
           },
           "zerolinecolor": "white",
           "zerolinewidth": 2
          },
          "yaxis": {
           "automargin": true,
           "gridcolor": "white",
           "linecolor": "white",
           "ticks": "",
           "title": {
            "standoff": 15
           },
           "zerolinecolor": "white",
           "zerolinewidth": 2
          }
         }
        },
        "title": {
         "text": "Churn Distribution Across Top 5 States"
        },
        "xaxis": {
         "anchor": "y",
         "domain": [
          0,
          1
         ],
         "title": {
          "text": "State"
         }
        },
        "yaxis": {
         "anchor": "x",
         "domain": [
          0,
          1
         ],
         "title": {
          "text": "Count"
         }
        }
       }
      }
     },
     "metadata": {},
     "output_type": "display_data"
    }
   ],
   "source": [
    "# Calculate the total number of churns for each state\n",
    "# Calculate the total number of churns for each state\n",
    "state_churn_counts = data.groupby('state')['churn'].sum()\n",
    "\n",
    "# Find the top 5 states with the highest churn counts\n",
    "top_5_states = state_churn_counts.sort_values(ascending=False).head(5).index\n",
    "\n",
    "# Filter the data for the top 5 states\n",
    "top_5_data = data[data['state'].isin(top_5_states)]\n",
    "\n",
    "# Create a bar plot using Plotly Express\n",
    "fig = px.histogram(top_5_data, x='state', color='churn', barmode='group',\n",
    "                   title='Churn Distribution Across Top 5 States',\n",
    "                   labels={'state': 'State', 'count': 'Count', 'churn': 'Churn'},\n",
    "                   color_discrete_sequence=px.colors.sequential.Viridis)\n",
    "\n",
    "# Update layout for better readability\n",
    "fig.update_layout(xaxis_title='State',\n",
    "                  yaxis_title='Count',\n",
    "                  legend_title='Churn')\n",
    "\n",
    "# Show the plot\n",
    "fig.show()"
   ]
  },
  {
   "cell_type": "code",
   "execution_count": 20,
   "metadata": {},
   "outputs": [
    {
     "data": {
      "image/png": "[encoded data removed]",
      "text/plain": [
       "<Figure size 1000x500 with 1 Axes>"
      ]
     },
     "metadata": {},
     "output_type": "display_data"
    }
   ],
   "source": [
    "# Create a figure and axis\n",
    "plt.figure(figsize=(10, 5))\n",
    "\n",
    "# Plot the stacked bar plot\n",
    "sns.histplot(data=data_copy, x='total_minutes', hue='churn', multiple='stack', binwidth=50, palette='viridis')\n",
    "\n",
    "# Add labels and title\n",
    "plt.xlabel('Total Minutes')\n",
    "plt.ylabel('Count')\n",
    "plt.title('Total Minutes vs Churn Distribution')\n",
    "\n",
    "# Show the plot\n",
    "plt.show()"
   ]
  },
  {
   "cell_type": "code",
   "execution_count": 21,
   "metadata": {},
   "outputs": [
    {
     "data": {
      "application/vnd.plotly.v1+json": {
       "config": {
        "plotlyServerURL": "https://plot.ly"
       },
       "data": [
        {
         "colorscale": [
          [
           0,
           "rgb(255,245,240)"
          ],
          [
           0.125,
           "rgb(254,224,210)"
          ],
          [
           0.25,
           "rgb(252,187,161)"
          ],
          [
           0.375,
           "rgb(252,146,114)"
          ],
          [
           0.5,
           "rgb(251,106,74)"
          ],
          [
           0.625,
           "rgb(239,59,44)"
          ],
          [
           0.75,
           "rgb(203,24,29)"
          ],
          [
           0.875,
           "rgb(165,15,21)"
          ],
          [
           1,
           "rgb(103,0,13)"
          ]
         ],
         "reversescale": false,
         "showscale": false,
         "type": "heatmap",
         "x": [
          "account length",
          "area code",
          "international plan",
          "voice mail plan",
          "number vmail messages",
          "customer service calls",
          "churn",
          "total_charges",
          "total_calls",
          "total_minutes"
         ],
         "y": [
          "account length",
          "area code",
          "international plan",
          "voice mail plan",
          "number vmail messages",
          "customer service calls",
          "churn",
          "total_charges",
          "total_calls",
          "total_minutes"
         ],
         "z": [
          [
           1,
           -0.012463496664028914,
           0.024734654619683317,
           0.0029184090689299527,
           -0.00462782432510828,
           -0.0037959389270460662,
           0.016540742243674175,
           0.002016604311186996,
           0.027542113641951863,
           -0.0046758310970760435
          ],
          [
           -0.012463496664028914,
           1,
           0.04855051136707134,
           -0.0007470950759337049,
           -0.0019943700835123555,
           0.02757222567226496,
           0.006174233160678332,
           -0.008721457431083036,
           -0.004835755899048375,
           -0.006760014504305783
          ],
          [
           0.024734654619683317,
           0.04855051136707134,
           1,
           0.006006370651710655,
           0.008745485905036144,
           -0.02452195622355253,
           0.2598518473454819,
           0.048336015912574415,
           0.014036890385049473,
           0.025832695065166607
          ],
          [
           0.0029184090689299527,
           -0.0007470950759337049,
           0.006006370651710655,
           1,
           0.9569266420697506,
           -0.017823944059162582,
           -0.10214814067014656,
           0.007859147785478401,
           -0.0008065531129279982,
           0.014442741715311664
          ],
          [
           -0.00462782432510828,
           -0.0019943700835123555,
           0.008745485905036144,
           0.9569266420697506,
           1,
           -0.013262583062485164,
           -0.08972796983506393,
           0.009167960260408527,
           -0.003910623872429302,
           0.014688633467960633
          ],
          [
           -0.0037959389270460662,
           0.02757222567226496,
           -0.02452195622355253,
           -0.017823944059162582,
           -0.013262583062485164,
           1,
           0.2087499987837943,
           -0.020499025984007057,
           -0.018161184639227255,
           -0.02094839108404702
          ],
          [
           0.016540742243674175,
           0.006174233160678332,
           0.2598518473454819,
           -0.10214814067014656,
           -0.08972796983506393,
           0.2087499987837943,
           1,
           0.23140027587414397,
           0.01580703351272798,
           0.19865938611864908
          ],
          [
           0.002016604311186996,
           -0.008721457431083036,
           0.048336015912574415,
           0.007859147785478401,
           0.009167960260408527,
           -0.020499025984007057,
           0.23140027587414397,
           1,
           0.02213438961263692,
           0.8902242332916178
          ],
          [
           0.027542113641951863,
           -0.004835755899048375,
           0.014036890385049473,
           -0.0008065531129279982,
           -0.003910623872429302,
           -0.018161184639227255,
           0.01580703351272798,
           0.02213438961263692,
           1,
           0.01818830286245264
          ],
          [
           -0.0046758310970760435,
           -0.006760014504305783,
           0.025832695065166607,
           0.014442741715311664,
           0.014688633467960633,
           -0.02094839108404702,
           0.19865938611864908,
           0.8902242332916178,
           0.01818830286245264,
           1
          ]
         ]
        }
       ],
       "layout": {
        "annotations": [
         {
          "font": {
           "color": "#FFFFFF"
          },
          "showarrow": false,
          "text": "1.0",
          "x": "account length",
          "xref": "x",
          "y": "account length",
          "yref": "y"
         },
         {
          "font": {
           "color": "#000000"
          },
          "showarrow": false,
          "text": "-0.01",
          "x": "area code",
          "xref": "x",
          "y": "account length",
          "yref": "y"
         },
         {
          "font": {
           "color": "#000000"
          },
          "showarrow": false,
          "text": "0.02",
          "x": "international plan",
          "xref": "x",
          "y": "account length",
          "yref": "y"
         },
         {
          "font": {
           "color": "#000000"
          },
          "showarrow": false,
          "text": "0.0",
          "x": "voice mail plan",
          "xref": "x",
          "y": "account length",
          "yref": "y"
         },
         {
          "font": {
           "color": "#000000"
          },
          "showarrow": false,
          "text": "-0.0",
          "x": "number vmail messages",
          "xref": "x",
          "y": "account length",
          "yref": "y"
         },
         {
          "font": {
           "color": "#000000"
          },
          "showarrow": false,
          "text": "-0.0",
          "x": "customer service calls",
          "xref": "x",
          "y": "account length",
          "yref": "y"
         },
         {
          "font": {
           "color": "#000000"
          },
          "showarrow": false,
          "text": "0.02",
          "x": "churn",
          "xref": "x",
          "y": "account length",
          "yref": "y"
         },
         {
          "font": {
           "color": "#000000"
          },
          "showarrow": false,
          "text": "0.0",
          "x": "total_charges",
          "xref": "x",
          "y": "account length",
          "yref": "y"
         },
         {
          "font": {
           "color": "#000000"
          },
          "showarrow": false,
          "text": "0.03",
          "x": "total_calls",
          "xref": "x",
          "y": "account length",
          "yref": "y"
         },
         {
          "font": {
           "color": "#000000"
          },
          "showarrow": false,
          "text": "-0.0",
          "x": "total_minutes",
          "xref": "x",
          "y": "account length",
          "yref": "y"
         },
         {
          "font": {
           "color": "#000000"
          },
          "showarrow": false,
          "text": "-0.01",
          "x": "account length",
          "xref": "x",
          "y": "area code",
          "yref": "y"
         },
         {
          "font": {
           "color": "#FFFFFF"
          },
          "showarrow": false,
          "text": "1.0",
          "x": "area code",
          "xref": "x",
          "y": "area code",
          "yref": "y"
         },
         {
          "font": {
           "color": "#000000"
          },
          "showarrow": false,
          "text": "0.05",
          "x": "international plan",
          "xref": "x",
          "y": "area code",
          "yref": "y"
         },
         {
          "font": {
           "color": "#000000"
          },
          "showarrow": false,
          "text": "-0.0",
          "x": "voice mail plan",
          "xref": "x",
          "y": "area code",
          "yref": "y"
         },
         {
          "font": {
           "color": "#000000"
          },
          "showarrow": false,
          "text": "-0.0",
          "x": "number vmail messages",
          "xref": "x",
          "y": "area code",
          "yref": "y"
         },
         {
          "font": {
           "color": "#000000"
          },
          "showarrow": false,
          "text": "0.03",
          "x": "customer service calls",
          "xref": "x",
          "y": "area code",
          "yref": "y"
         },
         {
          "font": {
           "color": "#000000"
          },
          "showarrow": false,
          "text": "0.01",
          "x": "churn",
          "xref": "x",
          "y": "area code",
          "yref": "y"
         },
         {
          "font": {
           "color": "#000000"
          },
          "showarrow": false,
          "text": "-0.01",
          "x": "total_charges",
          "xref": "x",
          "y": "area code",
          "yref": "y"
         },
         {
          "font": {
           "color": "#000000"
          },
          "showarrow": false,
          "text": "-0.0",
          "x": "total_calls",
          "xref": "x",
          "y": "area code",
          "yref": "y"
         },
         {
          "font": {
           "color": "#000000"
          },
          "showarrow": false,
          "text": "-0.01",
          "x": "total_minutes",
          "xref": "x",
          "y": "area code",
          "yref": "y"
         },
         {
          "font": {
           "color": "#000000"
          },
          "showarrow": false,
          "text": "0.02",
          "x": "account length",
          "xref": "x",
          "y": "international plan",
          "yref": "y"
         },
         {
          "font": {
           "color": "#000000"
          },
          "showarrow": false,
          "text": "0.05",
          "x": "area code",
          "xref": "x",
          "y": "international plan",
          "yref": "y"
         },
         {
          "font": {
           "color": "#FFFFFF"
          },
          "showarrow": false,
          "text": "1.0",
          "x": "international plan",
          "xref": "x",
          "y": "international plan",
          "yref": "y"
         },
         {
          "font": {
           "color": "#000000"
          },
          "showarrow": false,
          "text": "0.01",
          "x": "voice mail plan",
          "xref": "x",
          "y": "international plan",
          "yref": "y"
         },
         {
          "font": {
           "color": "#000000"
          },
          "showarrow": false,
          "text": "0.01",
          "x": "number vmail messages",
          "xref": "x",
          "y": "international plan",
          "yref": "y"
         },
         {
          "font": {
           "color": "#000000"
          },
          "showarrow": false,
          "text": "-0.02",
          "x": "customer service calls",
          "xref": "x",
          "y": "international plan",
          "yref": "y"
         },
         {
          "font": {
           "color": "#000000"
          },
          "showarrow": false,
          "text": "0.26",
          "x": "churn",
          "xref": "x",
          "y": "international plan",
          "yref": "y"
         },
         {
          "font": {
           "color": "#000000"
          },
          "showarrow": false,
          "text": "0.05",
          "x": "total_charges",
          "xref": "x",
          "y": "international plan",
          "yref": "y"
         },
         {
          "font": {
           "color": "#000000"
          },
          "showarrow": false,
          "text": "0.01",
          "x": "total_calls",
          "xref": "x",
          "y": "international plan",
          "yref": "y"
         },
         {
          "font": {
           "color": "#000000"
          },
          "showarrow": false,
          "text": "0.03",
          "x": "total_minutes",
          "xref": "x",
          "y": "international plan",
          "yref": "y"
         },
         {
          "font": {
           "color": "#000000"
          },
          "showarrow": false,
          "text": "0.0",
          "x": "account length",
          "xref": "x",
          "y": "voice mail plan",
          "yref": "y"
         },
         {
          "font": {
           "color": "#000000"
          },
          "showarrow": false,
          "text": "-0.0",
          "x": "area code",
          "xref": "x",
          "y": "voice mail plan",
          "yref": "y"
         },
         {
          "font": {
           "color": "#000000"
          },
          "showarrow": false,
          "text": "0.01",
          "x": "international plan",
          "xref": "x",
          "y": "voice mail plan",
          "yref": "y"
         },
         {
          "font": {
           "color": "#FFFFFF"
          },
          "showarrow": false,
          "text": "1.0",
          "x": "voice mail plan",
          "xref": "x",
          "y": "voice mail plan",
          "yref": "y"
         },
         {
          "font": {
           "color": "#FFFFFF"
          },
          "showarrow": false,
          "text": "0.96",
          "x": "number vmail messages",
          "xref": "x",
          "y": "voice mail plan",
          "yref": "y"
         },
         {
          "font": {
           "color": "#000000"
          },
          "showarrow": false,
          "text": "-0.02",
          "x": "customer service calls",
          "xref": "x",
          "y": "voice mail plan",
          "yref": "y"
         },
         {
          "font": {
           "color": "#000000"
          },
          "showarrow": false,
          "text": "-0.1",
          "x": "churn",
          "xref": "x",
          "y": "voice mail plan",
          "yref": "y"
         },
         {
          "font": {
           "color": "#000000"
          },
          "showarrow": false,
          "text": "0.01",
          "x": "total_charges",
          "xref": "x",
          "y": "voice mail plan",
          "yref": "y"
         },
         {
          "font": {
           "color": "#000000"
          },
          "showarrow": false,
          "text": "-0.0",
          "x": "total_calls",
          "xref": "x",
          "y": "voice mail plan",
          "yref": "y"
         },
         {
          "font": {
           "color": "#000000"
          },
          "showarrow": false,
          "text": "0.01",
          "x": "total_minutes",
          "xref": "x",
          "y": "voice mail plan",
          "yref": "y"
         },
         {
          "font": {
           "color": "#000000"
          },
          "showarrow": false,
          "text": "-0.0",
          "x": "account length",
          "xref": "x",
          "y": "number vmail messages",
          "yref": "y"
         },
         {
          "font": {
           "color": "#000000"
          },
          "showarrow": false,
          "text": "-0.0",
          "x": "area code",
          "xref": "x",
          "y": "number vmail messages",
          "yref": "y"
         },
         {
          "font": {
           "color": "#000000"
          },
          "showarrow": false,
          "text": "0.01",
          "x": "international plan",
          "xref": "x",
          "y": "number vmail messages",
          "yref": "y"
         },
         {
          "font": {
           "color": "#FFFFFF"
          },
          "showarrow": false,
          "text": "0.96",
          "x": "voice mail plan",
          "xref": "x",
          "y": "number vmail messages",
          "yref": "y"
         },
         {
          "font": {
           "color": "#FFFFFF"
          },
          "showarrow": false,
          "text": "1.0",
          "x": "number vmail messages",
          "xref": "x",
          "y": "number vmail messages",
          "yref": "y"
         },
         {
          "font": {
           "color": "#000000"
          },
          "showarrow": false,
          "text": "-0.01",
          "x": "customer service calls",
          "xref": "x",
          "y": "number vmail messages",
          "yref": "y"
         },
         {
          "font": {
           "color": "#000000"
          },
          "showarrow": false,
          "text": "-0.09",
          "x": "churn",
          "xref": "x",
          "y": "number vmail messages",
          "yref": "y"
         },
         {
          "font": {
           "color": "#000000"
          },
          "showarrow": false,
          "text": "0.01",
          "x": "total_charges",
          "xref": "x",
          "y": "number vmail messages",
          "yref": "y"
         },
         {
          "font": {
           "color": "#000000"
          },
          "showarrow": false,
          "text": "-0.0",
          "x": "total_calls",
          "xref": "x",
          "y": "number vmail messages",
          "yref": "y"
         },
         {
          "font": {
           "color": "#000000"
          },
          "showarrow": false,
          "text": "0.01",
          "x": "total_minutes",
          "xref": "x",
          "y": "number vmail messages",
          "yref": "y"
         },
         {
          "font": {
           "color": "#000000"
          },
          "showarrow": false,
          "text": "-0.0",
          "x": "account length",
          "xref": "x",
          "y": "customer service calls",
          "yref": "y"
         },
         {
          "font": {
           "color": "#000000"
          },
          "showarrow": false,
          "text": "0.03",
          "x": "area code",
          "xref": "x",
          "y": "customer service calls",
          "yref": "y"
         },
         {
          "font": {
           "color": "#000000"
          },
          "showarrow": false,
          "text": "-0.02",
          "x": "international plan",
          "xref": "x",
          "y": "customer service calls",
          "yref": "y"
         },
         {
          "font": {
           "color": "#000000"
          },
          "showarrow": false,
          "text": "-0.02",
          "x": "voice mail plan",
          "xref": "x",
          "y": "customer service calls",
          "yref": "y"
         },
         {
          "font": {
           "color": "#000000"
          },
          "showarrow": false,
          "text": "-0.01",
          "x": "number vmail messages",
          "xref": "x",
          "y": "customer service calls",
          "yref": "y"
         },
         {
          "font": {
           "color": "#FFFFFF"
          },
          "showarrow": false,
          "text": "1.0",
          "x": "customer service calls",
          "xref": "x",
          "y": "customer service calls",
          "yref": "y"
         },
         {
          "font": {
           "color": "#000000"
          },
          "showarrow": false,
          "text": "0.21",
          "x": "churn",
          "xref": "x",
          "y": "customer service calls",
          "yref": "y"
         },
         {
          "font": {
           "color": "#000000"
          },
          "showarrow": false,
          "text": "-0.02",
          "x": "total_charges",
          "xref": "x",
          "y": "customer service calls",
          "yref": "y"
         },
         {
          "font": {
           "color": "#000000"
          },
          "showarrow": false,
          "text": "-0.02",
          "x": "total_calls",
          "xref": "x",
          "y": "customer service calls",
          "yref": "y"
         },
         {
          "font": {
           "color": "#000000"
          },
          "showarrow": false,
          "text": "-0.02",
          "x": "total_minutes",
          "xref": "x",
          "y": "customer service calls",
          "yref": "y"
         },
         {
          "font": {
           "color": "#000000"
          },
          "showarrow": false,
          "text": "0.02",
          "x": "account length",
          "xref": "x",
          "y": "churn",
          "yref": "y"
         },
         {
          "font": {
           "color": "#000000"
          },
          "showarrow": false,
          "text": "0.01",
          "x": "area code",
          "xref": "x",
          "y": "churn",
          "yref": "y"
         },
         {
          "font": {
           "color": "#000000"
          },
          "showarrow": false,
          "text": "0.26",
          "x": "international plan",
          "xref": "x",
          "y": "churn",
          "yref": "y"
         },
         {
          "font": {
           "color": "#000000"
          },
          "showarrow": false,
          "text": "-0.1",
          "x": "voice mail plan",
          "xref": "x",
          "y": "churn",
          "yref": "y"
         },
         {
          "font": {
           "color": "#000000"
          },
          "showarrow": false,
          "text": "-0.09",
          "x": "number vmail messages",
          "xref": "x",
          "y": "churn",
          "yref": "y"
         },
         {
          "font": {
           "color": "#000000"
          },
          "showarrow": false,
          "text": "0.21",
          "x": "customer service calls",
          "xref": "x",
          "y": "churn",
          "yref": "y"
         },
         {
          "font": {
           "color": "#FFFFFF"
          },
          "showarrow": false,
          "text": "1.0",
          "x": "churn",
          "xref": "x",
          "y": "churn",
          "yref": "y"
         },
         {
          "font": {
           "color": "#000000"
          },
          "showarrow": false,
          "text": "0.23",
          "x": "total_charges",
          "xref": "x",
          "y": "churn",
          "yref": "y"
         },
         {
          "font": {
           "color": "#000000"
          },
          "showarrow": false,
          "text": "0.02",
          "x": "total_calls",
          "xref": "x",
          "y": "churn",
          "yref": "y"
         },
         {
          "font": {
           "color": "#000000"
          },
          "showarrow": false,
          "text": "0.2",
          "x": "total_minutes",
          "xref": "x",
          "y": "churn",
          "yref": "y"
         },
         {
          "font": {
           "color": "#000000"
          },
          "showarrow": false,
          "text": "0.0",
          "x": "account length",
          "xref": "x",
          "y": "total_charges",
          "yref": "y"
         },
         {
          "font": {
           "color": "#000000"
          },
          "showarrow": false,
          "text": "-0.01",
          "x": "area code",
          "xref": "x",
          "y": "total_charges",
          "yref": "y"
         },
         {
          "font": {
           "color": "#000000"
          },
          "showarrow": false,
          "text": "0.05",
          "x": "international plan",
          "xref": "x",
          "y": "total_charges",
          "yref": "y"
         },
         {
          "font": {
           "color": "#000000"
          },
          "showarrow": false,
          "text": "0.01",
          "x": "voice mail plan",
          "xref": "x",
          "y": "total_charges",
          "yref": "y"
         },
         {
          "font": {
           "color": "#000000"
          },
          "showarrow": false,
          "text": "0.01",
          "x": "number vmail messages",
          "xref": "x",
          "y": "total_charges",
          "yref": "y"
         },
         {
          "font": {
           "color": "#000000"
          },
          "showarrow": false,
          "text": "-0.02",
          "x": "customer service calls",
          "xref": "x",
          "y": "total_charges",
          "yref": "y"
         },
         {
          "font": {
           "color": "#000000"
          },
          "showarrow": false,
          "text": "0.23",
          "x": "churn",
          "xref": "x",
          "y": "total_charges",
          "yref": "y"
         },
         {
          "font": {
           "color": "#FFFFFF"
          },
          "showarrow": false,
          "text": "1.0",
          "x": "total_charges",
          "xref": "x",
          "y": "total_charges",
          "yref": "y"
         },
         {
          "font": {
           "color": "#000000"
          },
          "showarrow": false,
          "text": "0.02",
          "x": "total_calls",
          "xref": "x",
          "y": "total_charges",
          "yref": "y"
         },
         {
          "font": {
           "color": "#FFFFFF"
          },
          "showarrow": false,
          "text": "0.89",
          "x": "total_minutes",
          "xref": "x",
          "y": "total_charges",
          "yref": "y"
         },
         {
          "font": {
           "color": "#000000"
          },
          "showarrow": false,
          "text": "0.03",
          "x": "account length",
          "xref": "x",
          "y": "total_calls",
          "yref": "y"
         },
         {
          "font": {
           "color": "#000000"
          },
          "showarrow": false,
          "text": "-0.0",
          "x": "area code",
          "xref": "x",
          "y": "total_calls",
          "yref": "y"
         },
         {
          "font": {
           "color": "#000000"
          },
          "showarrow": false,
          "text": "0.01",
          "x": "international plan",
          "xref": "x",
          "y": "total_calls",
          "yref": "y"
         },
         {
          "font": {
           "color": "#000000"
          },
          "showarrow": false,
          "text": "-0.0",
          "x": "voice mail plan",
          "xref": "x",
          "y": "total_calls",
          "yref": "y"
         },
         {
          "font": {
           "color": "#000000"
          },
          "showarrow": false,
          "text": "-0.0",
          "x": "number vmail messages",
          "xref": "x",
          "y": "total_calls",
          "yref": "y"
         },
         {
          "font": {
           "color": "#000000"
          },
          "showarrow": false,
          "text": "-0.02",
          "x": "customer service calls",
          "xref": "x",
          "y": "total_calls",
          "yref": "y"
         },
         {
          "font": {
           "color": "#000000"
          },
          "showarrow": false,
          "text": "0.02",
          "x": "churn",
          "xref": "x",
          "y": "total_calls",
          "yref": "y"
         },
         {
          "font": {
           "color": "#000000"
          },
          "showarrow": false,
          "text": "0.02",
          "x": "total_charges",
          "xref": "x",
          "y": "total_calls",
          "yref": "y"
         },
         {
          "font": {
           "color": "#FFFFFF"
          },
          "showarrow": false,
          "text": "1.0",
          "x": "total_calls",
          "xref": "x",
          "y": "total_calls",
          "yref": "y"
         },
         {
          "font": {
           "color": "#000000"
          },
          "showarrow": false,
          "text": "0.02",
          "x": "total_minutes",
          "xref": "x",
          "y": "total_calls",
          "yref": "y"
         },
         {
          "font": {
           "color": "#000000"
          },
          "showarrow": false,
          "text": "-0.0",
          "x": "account length",
          "xref": "x",
          "y": "total_minutes",
          "yref": "y"
         },
         {
          "font": {
           "color": "#000000"
          },
          "showarrow": false,
          "text": "-0.01",
          "x": "area code",
          "xref": "x",
          "y": "total_minutes",
          "yref": "y"
         },
         {
          "font": {
           "color": "#000000"
          },
          "showarrow": false,
          "text": "0.03",
          "x": "international plan",
          "xref": "x",
          "y": "total_minutes",
          "yref": "y"
         },
         {
          "font": {
           "color": "#000000"
          },
          "showarrow": false,
          "text": "0.01",
          "x": "voice mail plan",
          "xref": "x",
          "y": "total_minutes",
          "yref": "y"
         },
         {
          "font": {
           "color": "#000000"
          },
          "showarrow": false,
          "text": "0.01",
          "x": "number vmail messages",
          "xref": "x",
          "y": "total_minutes",
          "yref": "y"
         },
         {
          "font": {
           "color": "#000000"
          },
          "showarrow": false,
          "text": "-0.02",
          "x": "customer service calls",
          "xref": "x",
          "y": "total_minutes",
          "yref": "y"
         },
         {
          "font": {
           "color": "#000000"
          },
          "showarrow": false,
          "text": "0.2",
          "x": "churn",
          "xref": "x",
          "y": "total_minutes",
          "yref": "y"
         },
         {
          "font": {
           "color": "#FFFFFF"
          },
          "showarrow": false,
          "text": "0.89",
          "x": "total_charges",
          "xref": "x",
          "y": "total_minutes",
          "yref": "y"
         },
         {
          "font": {
           "color": "#000000"
          },
          "showarrow": false,
          "text": "0.02",
          "x": "total_calls",
          "xref": "x",
          "y": "total_minutes",
          "yref": "y"
         },
         {
          "font": {
           "color": "#FFFFFF"
          },
          "showarrow": false,
          "text": "1.0",
          "x": "total_minutes",
          "xref": "x",
          "y": "total_minutes",
          "yref": "y"
         }
        ],
        "template": {
         "data": {
          "bar": [
           {
            "error_x": {
             "color": "#2a3f5f"
            },
            "error_y": {
             "color": "#2a3f5f"
            },
            "marker": {
             "line": {
              "color": "#E5ECF6",
              "width": 0.5
             },
             "pattern": {
              "fillmode": "overlay",
              "size": 10,
              "solidity": 0.2
             }
            },
            "type": "bar"
           }
          ],
          "barpolar": [
           {
            "marker": {
             "line": {
              "color": "#E5ECF6",
              "width": 0.5
             },
             "pattern": {
              "fillmode": "overlay",
              "size": 10,
              "solidity": 0.2
             }
            },
            "type": "barpolar"
           }
          ],
          "carpet": [
           {
            "aaxis": {
             "endlinecolor": "#2a3f5f",
             "gridcolor": "white",
             "linecolor": "white",
             "minorgridcolor": "white",
             "startlinecolor": "#2a3f5f"
            },
            "baxis": {
             "endlinecolor": "#2a3f5f",
             "gridcolor": "white",
             "linecolor": "white",
             "minorgridcolor": "white",
             "startlinecolor": "#2a3f5f"
            },
            "type": "carpet"
           }
          ],
          "choropleth": [
           {
            "colorbar": {
             "outlinewidth": 0,
             "ticks": ""
            },
            "type": "choropleth"
           }
          ],
          "contour": [
           {
            "colorbar": {
             "outlinewidth": 0,
             "ticks": ""
            },
            "colorscale": [
             [
              0,
              "#0d0887"
             ],
             [
              0.1111111111111111,
              "#46039f"
             ],
             [
              0.2222222222222222,
              "#7201a8"
             ],
             [
              0.3333333333333333,
              "#9c179e"
             ],
             [
              0.4444444444444444,
              "#bd3786"
             ],
             [
              0.5555555555555556,
              "#d8576b"
             ],
             [
              0.6666666666666666,
              "#ed7953"
             ],
             [
              0.7777777777777778,
              "#fb9f3a"
             ],
             [
              0.8888888888888888,
              "#fdca26"
             ],
             [
              1,
              "#f0f921"
             ]
            ],
            "type": "contour"
           }
          ],
          "contourcarpet": [
           {
            "colorbar": {
             "outlinewidth": 0,
             "ticks": ""
            },
            "type": "contourcarpet"
           }
          ],
          "heatmap": [
           {
            "colorbar": {
             "outlinewidth": 0,
             "ticks": ""
            },
            "colorscale": [
             [
              0,
              "#0d0887"
             ],
             [
              0.1111111111111111,
              "#46039f"
             ],
             [
              0.2222222222222222,
              "#7201a8"
             ],
             [
              0.3333333333333333,
              "#9c179e"
             ],
             [
              0.4444444444444444,
              "#bd3786"
             ],
             [
              0.5555555555555556,
              "#d8576b"
             ],
             [
              0.6666666666666666,
              "#ed7953"
             ],
             [
              0.7777777777777778,
              "#fb9f3a"
             ],
             [
              0.8888888888888888,
              "#fdca26"
             ],
             [
              1,
              "#f0f921"
             ]
            ],
            "type": "heatmap"
           }
          ],
          "heatmapgl": [
           {
            "colorbar": {
             "outlinewidth": 0,
             "ticks": ""
            },
            "colorscale": [
             [
              0,
              "#0d0887"
             ],
             [
              0.1111111111111111,
              "#46039f"
             ],
             [
              0.2222222222222222,
              "#7201a8"
             ],
             [
              0.3333333333333333,
              "#9c179e"
             ],
             [
              0.4444444444444444,
              "#bd3786"
             ],
             [
              0.5555555555555556,
              "#d8576b"
             ],
             [
              0.6666666666666666,
              "#ed7953"
             ],
             [
              0.7777777777777778,
              "#fb9f3a"
             ],
             [
              0.8888888888888888,
              "#fdca26"
             ],
             [
              1,
              "#f0f921"
             ]
            ],
            "type": "heatmapgl"
           }
          ],
          "histogram": [
           {
            "marker": {
             "pattern": {
              "fillmode": "overlay",
              "size": 10,
              "solidity": 0.2
             }
            },
            "type": "histogram"
           }
          ],
          "histogram2d": [
           {
            "colorbar": {
             "outlinewidth": 0,
             "ticks": ""
            },
            "colorscale": [
             [
              0,
              "#0d0887"
             ],
             [
              0.1111111111111111,
              "#46039f"
             ],
             [
              0.2222222222222222,
              "#7201a8"
             ],
             [
              0.3333333333333333,
              "#9c179e"
             ],
             [
              0.4444444444444444,
              "#bd3786"
             ],
             [
              0.5555555555555556,
              "#d8576b"
             ],
             [
              0.6666666666666666,
              "#ed7953"
             ],
             [
              0.7777777777777778,
              "#fb9f3a"
             ],
             [
              0.8888888888888888,
              "#fdca26"
             ],
             [
              1,
              "#f0f921"
             ]
            ],
            "type": "histogram2d"
           }
          ],
          "histogram2dcontour": [
           {
            "colorbar": {
             "outlinewidth": 0,
             "ticks": ""
            },
            "colorscale": [
             [
              0,
              "#0d0887"
             ],
             [
              0.1111111111111111,
              "#46039f"
             ],
             [
              0.2222222222222222,
              "#7201a8"
             ],
             [
              0.3333333333333333,
              "#9c179e"
             ],
             [
              0.4444444444444444,
              "#bd3786"
             ],
             [
              0.5555555555555556,
              "#d8576b"
             ],
             [
              0.6666666666666666,
              "#ed7953"
             ],
             [
              0.7777777777777778,
              "#fb9f3a"
             ],
             [
              0.8888888888888888,
              "#fdca26"
             ],
             [
              1,
              "#f0f921"
             ]
            ],
            "type": "histogram2dcontour"
           }
          ],
          "mesh3d": [
           {
            "colorbar": {
             "outlinewidth": 0,
             "ticks": ""
            },
            "type": "mesh3d"
           }
          ],
          "parcoords": [
           {
            "line": {
             "colorbar": {
              "outlinewidth": 0,
              "ticks": ""
             }
            },
            "type": "parcoords"
           }
          ],
          "pie": [
           {
            "automargin": true,
            "type": "pie"
           }
          ],
          "scatter": [
           {
            "fillpattern": {
             "fillmode": "overlay",
             "size": 10,
             "solidity": 0.2
            },
            "type": "scatter"
           }
          ],
          "scatter3d": [
           {
            "line": {
             "colorbar": {
              "outlinewidth": 0,
              "ticks": ""
             }
            },
            "marker": {
             "colorbar": {
              "outlinewidth": 0,
              "ticks": ""
             }
            },
            "type": "scatter3d"
           }
          ],
          "scattercarpet": [
           {
            "marker": {
             "colorbar": {
              "outlinewidth": 0,
              "ticks": ""
             }
            },
            "type": "scattercarpet"
           }
          ],
          "scattergeo": [
           {
            "marker": {
             "colorbar": {
              "outlinewidth": 0,
              "ticks": ""
             }
            },
            "type": "scattergeo"
           }
          ],
          "scattergl": [
           {
            "marker": {
             "colorbar": {
              "outlinewidth": 0,
              "ticks": ""
             }
            },
            "type": "scattergl"
           }
          ],
          "scattermapbox": [
           {
            "marker": {
             "colorbar": {
              "outlinewidth": 0,
              "ticks": ""
             }
            },
            "type": "scattermapbox"
           }
          ],
          "scatterpolar": [
           {
            "marker": {
             "colorbar": {
              "outlinewidth": 0,
              "ticks": ""
             }
            },
            "type": "scatterpolar"
           }
          ],
          "scatterpolargl": [
           {
            "marker": {
             "colorbar": {
              "outlinewidth": 0,
              "ticks": ""
             }
            },
            "type": "scatterpolargl"
           }
          ],
          "scatterternary": [
           {
            "marker": {
             "colorbar": {
              "outlinewidth": 0,
              "ticks": ""
             }
            },
            "type": "scatterternary"
           }
          ],
          "surface": [
           {
            "colorbar": {
             "outlinewidth": 0,
             "ticks": ""
            },
            "colorscale": [
             [
              0,
              "#0d0887"
             ],
             [
              0.1111111111111111,
              "#46039f"
             ],
             [
              0.2222222222222222,
              "#7201a8"
             ],
             [
              0.3333333333333333,
              "#9c179e"
             ],
             [
              0.4444444444444444,
              "#bd3786"
             ],
             [
              0.5555555555555556,
              "#d8576b"
             ],
             [
              0.6666666666666666,
              "#ed7953"
             ],
             [
              0.7777777777777778,
              "#fb9f3a"
             ],
             [
              0.8888888888888888,
              "#fdca26"
             ],
             [
              1,
              "#f0f921"
             ]
            ],
            "type": "surface"
           }
          ],
          "table": [
           {
            "cells": {
             "fill": {
              "color": "#EBF0F8"
             },
             "line": {
              "color": "white"
             }
            },
            "header": {
             "fill": {
              "color": "#C8D4E3"
             },
             "line": {
              "color": "white"
             }
            },
            "type": "table"
           }
          ]
         },
         "layout": {
          "annotationdefaults": {
           "arrowcolor": "#2a3f5f",
           "arrowhead": 0,
           "arrowwidth": 1
          },
          "autotypenumbers": "strict",
          "coloraxis": {
           "colorbar": {
            "outlinewidth": 0,
            "ticks": ""
           }
          },
          "colorscale": {
           "diverging": [
            [
             0,
             "#8e0152"
            ],
            [
             0.1,
             "#c51b7d"
            ],
            [
             0.2,
             "#de77ae"
            ],
            [
             0.3,
             "#f1b6da"
            ],
            [
             0.4,
             "#fde0ef"
            ],
            [
             0.5,
             "#f7f7f7"
            ],
            [
             0.6,
             "#e6f5d0"
            ],
            [
             0.7,
             "#b8e186"
            ],
            [
             0.8,
             "#7fbc41"
            ],
            [
             0.9,
             "#4d9221"
            ],
            [
             1,
             "#276419"
            ]
           ],
           "sequential": [
            [
             0,
             "#0d0887"
            ],
            [
             0.1111111111111111,
             "#46039f"
            ],
            [
             0.2222222222222222,
             "#7201a8"
            ],
            [
             0.3333333333333333,
             "#9c179e"
            ],
            [
             0.4444444444444444,
             "#bd3786"
            ],
            [
             0.5555555555555556,
             "#d8576b"
            ],
            [
             0.6666666666666666,
             "#ed7953"
            ],
            [
             0.7777777777777778,
             "#fb9f3a"
            ],
            [
             0.8888888888888888,
             "#fdca26"
            ],
            [
             1,
             "#f0f921"
            ]
           ],
           "sequentialminus": [
            [
             0,
             "#0d0887"
            ],
            [
             0.1111111111111111,
             "#46039f"
            ],
            [
             0.2222222222222222,
             "#7201a8"
            ],
            [
             0.3333333333333333,
             "#9c179e"
            ],
            [
             0.4444444444444444,
             "#bd3786"
            ],
            [
             0.5555555555555556,
             "#d8576b"
            ],
            [
             0.6666666666666666,
             "#ed7953"
            ],
            [
             0.7777777777777778,
             "#fb9f3a"
            ],
            [
             0.8888888888888888,
             "#fdca26"
            ],
            [
             1,
             "#f0f921"
            ]
           ]
          },
          "colorway": [
           "#636efa",
           "#EF553B",
           "#00cc96",
           "#ab63fa",
           "#FFA15A",
           "#19d3f3",
           "#FF6692",
           "#B6E880",
           "#FF97FF",
           "#FECB52"
          ],
          "font": {
           "color": "#2a3f5f"
          },
          "geo": {
           "bgcolor": "white",
           "lakecolor": "white",
           "landcolor": "#E5ECF6",
           "showlakes": true,
           "showland": true,
           "subunitcolor": "white"
          },
          "hoverlabel": {
           "align": "left"
          },
          "hovermode": "closest",
          "mapbox": {
           "style": "light"
          },
          "paper_bgcolor": "white",
          "plot_bgcolor": "#E5ECF6",
          "polar": {
           "angularaxis": {
            "gridcolor": "white",
            "linecolor": "white",
            "ticks": ""
           },
           "bgcolor": "#E5ECF6",
           "radialaxis": {
            "gridcolor": "white",
            "linecolor": "white",
            "ticks": ""
           }
          },
          "scene": {
           "xaxis": {
            "backgroundcolor": "#E5ECF6",
            "gridcolor": "white",
            "gridwidth": 2,
            "linecolor": "white",
            "showbackground": true,
            "ticks": "",
            "zerolinecolor": "white"
           },
           "yaxis": {
            "backgroundcolor": "#E5ECF6",
            "gridcolor": "white",
            "gridwidth": 2,
            "linecolor": "white",
            "showbackground": true,
            "ticks": "",
            "zerolinecolor": "white"
           },
           "zaxis": {
            "backgroundcolor": "#E5ECF6",
            "gridcolor": "white",
            "gridwidth": 2,
            "linecolor": "white",
            "showbackground": true,
            "ticks": "",
            "zerolinecolor": "white"
           }
          },
          "shapedefaults": {
           "line": {
            "color": "#2a3f5f"
           }
          },
          "ternary": {
           "aaxis": {
            "gridcolor": "white",
            "linecolor": "white",
            "ticks": ""
           },
           "baxis": {
            "gridcolor": "white",
            "linecolor": "white",
            "ticks": ""
           },
           "bgcolor": "#E5ECF6",
           "caxis": {
            "gridcolor": "white",
            "linecolor": "white",
            "ticks": ""
           }
          },
          "title": {
           "x": 0.05
          },
          "xaxis": {
           "automargin": true,
           "gridcolor": "white",
           "linecolor": "white",
           "ticks": "",
           "title": {
            "standoff": 15
           },
           "zerolinecolor": "white",
           "zerolinewidth": 2
          },
          "yaxis": {
           "automargin": true,
           "gridcolor": "white",
           "linecolor": "white",
           "ticks": "",
           "title": {
            "standoff": 15
           },
           "zerolinecolor": "white",
           "zerolinewidth": 2
          }
         }
        },
        "title": {
         "text": "Correlation Matrix"
        },
        "xaxis": {
         "dtick": 1,
         "gridcolor": "rgb(0, 0, 0)",
         "nticks": 36,
         "side": "top",
         "ticks": ""
        },
        "yaxis": {
         "dtick": 1,
         "ticks": "",
         "ticksuffix": "  "
        }
       }
      }
     },
     "metadata": {},
     "output_type": "display_data"
    }
   ],
   "source": [
    "import plotly.figure_factory as ff\n",
    "# Select only numeric columns\n",
    "numeric_data = data_copy.select_dtypes(include=[float, int])\n",
    "\n",
    "# Calculate the correlation matrix using the corr() method\n",
    "correlation_matrix = numeric_data.corr()\n",
    "\n",
    "# Create a heatmap using Plotly\n",
    "fig = ff.create_annotated_heatmap(\n",
    "    z=correlation_matrix.values,\n",
    "    x=list(correlation_matrix.columns),\n",
    "    y=list(correlation_matrix.index),\n",
    "    annotation_text=correlation_matrix.round(2).values,\n",
    "    colorscale='Reds'\n",
    ")\n",
    "\n",
    "# Update layout for better readability\n",
    "fig.update_layout(title='Correlation Matrix', xaxis_nticks=36)\n",
    "\n",
    "# Show the plot\n",
    "fig.show()"
   ]
  },
  {
   "cell_type": "markdown",
   "metadata": {},
   "source": [
    "Multicollinerity occurs when two or more features in the dataset are highly correlated with each other which can cause issues during modeling such as instability , overfiting  or inaccurate coefficient estimates."
   ]
  },
  {
   "cell_type": "markdown",
   "metadata": {},
   "source": [
    "## MODELLING"
   ]
  },
  {
   "cell_type": "code",
   "execution_count": 22,
   "metadata": {},
   "outputs": [],
   "source": [
    "#Onehote encoding for our categorcial features\n",
    "data_copy = pd.get_dummies(data_copy, columns=['state','area code'], drop_first=True)"
   ]
  },
  {
   "cell_type": "code",
   "execution_count": 23,
   "metadata": {},
   "outputs": [
    {
     "data": {
      "text/html": [
       "<div>\n",
       "<style scoped>\n",
       "    .dataframe tbody tr th:only-of-type {\n",
       "        vertical-align: middle;\n",
       "    }\n",
       "\n",
       "    .dataframe tbody tr th {\n",
       "        vertical-align: top;\n",
       "    }\n",
       "\n",
       "    .dataframe thead th {\n",
       "        text-align: right;\n",
       "    }\n",
       "</style>\n",
       "<table border=\"1\" class=\"dataframe\">\n",
       "  <thead>\n",
       "    <tr style=\"text-align: right;\">\n",
       "      <th></th>\n",
       "      <th>account length</th>\n",
       "      <th>international plan</th>\n",
       "      <th>voice mail plan</th>\n",
       "      <th>number vmail messages</th>\n",
       "      <th>customer service calls</th>\n",
       "      <th>churn</th>\n",
       "      <th>total_charges</th>\n",
       "      <th>total_calls</th>\n",
       "      <th>total_minutes</th>\n",
       "      <th>state_AL</th>\n",
       "      <th>...</th>\n",
       "      <th>state_TX</th>\n",
       "      <th>state_UT</th>\n",
       "      <th>state_VA</th>\n",
       "      <th>state_VT</th>\n",
       "      <th>state_WA</th>\n",
       "      <th>state_WI</th>\n",
       "      <th>state_WV</th>\n",
       "      <th>state_WY</th>\n",
       "      <th>area code_415</th>\n",
       "      <th>area code_510</th>\n",
       "    </tr>\n",
       "  </thead>\n",
       "  <tbody>\n",
       "    <tr>\n",
       "      <th>121</th>\n",
       "      <td>41</td>\n",
       "      <td>0</td>\n",
       "      <td>1</td>\n",
       "      <td>22</td>\n",
       "      <td>0</td>\n",
       "      <td>0</td>\n",
       "      <td>57.0</td>\n",
       "      <td>314</td>\n",
       "      <td>505.0</td>\n",
       "      <td>False</td>\n",
       "      <td>...</td>\n",
       "      <td>True</td>\n",
       "      <td>False</td>\n",
       "      <td>False</td>\n",
       "      <td>False</td>\n",
       "      <td>False</td>\n",
       "      <td>False</td>\n",
       "      <td>False</td>\n",
       "      <td>False</td>\n",
       "      <td>False</td>\n",
       "      <td>False</td>\n",
       "    </tr>\n",
       "    <tr>\n",
       "      <th>2480</th>\n",
       "      <td>105</td>\n",
       "      <td>1</td>\n",
       "      <td>0</td>\n",
       "      <td>0</td>\n",
       "      <td>3</td>\n",
       "      <td>0</td>\n",
       "      <td>65.0</td>\n",
       "      <td>301</td>\n",
       "      <td>705.0</td>\n",
       "      <td>False</td>\n",
       "      <td>...</td>\n",
       "      <td>False</td>\n",
       "      <td>False</td>\n",
       "      <td>False</td>\n",
       "      <td>False</td>\n",
       "      <td>False</td>\n",
       "      <td>False</td>\n",
       "      <td>False</td>\n",
       "      <td>False</td>\n",
       "      <td>True</td>\n",
       "      <td>False</td>\n",
       "    </tr>\n",
       "    <tr>\n",
       "      <th>2847</th>\n",
       "      <td>119</td>\n",
       "      <td>1</td>\n",
       "      <td>1</td>\n",
       "      <td>32</td>\n",
       "      <td>0</td>\n",
       "      <td>0</td>\n",
       "      <td>61.0</td>\n",
       "      <td>289</td>\n",
       "      <td>626.0</td>\n",
       "      <td>False</td>\n",
       "      <td>...</td>\n",
       "      <td>False</td>\n",
       "      <td>False</td>\n",
       "      <td>False</td>\n",
       "      <td>False</td>\n",
       "      <td>False</td>\n",
       "      <td>False</td>\n",
       "      <td>False</td>\n",
       "      <td>False</td>\n",
       "      <td>True</td>\n",
       "      <td>False</td>\n",
       "    </tr>\n",
       "    <tr>\n",
       "      <th>3093</th>\n",
       "      <td>27</td>\n",
       "      <td>0</td>\n",
       "      <td>0</td>\n",
       "      <td>0</td>\n",
       "      <td>2</td>\n",
       "      <td>1</td>\n",
       "      <td>75.0</td>\n",
       "      <td>326</td>\n",
       "      <td>752.0</td>\n",
       "      <td>False</td>\n",
       "      <td>...</td>\n",
       "      <td>False</td>\n",
       "      <td>False</td>\n",
       "      <td>False</td>\n",
       "      <td>False</td>\n",
       "      <td>False</td>\n",
       "      <td>False</td>\n",
       "      <td>False</td>\n",
       "      <td>False</td>\n",
       "      <td>False</td>\n",
       "      <td>True</td>\n",
       "    </tr>\n",
       "    <tr>\n",
       "      <th>870</th>\n",
       "      <td>123</td>\n",
       "      <td>0</td>\n",
       "      <td>0</td>\n",
       "      <td>0</td>\n",
       "      <td>0</td>\n",
       "      <td>0</td>\n",
       "      <td>55.0</td>\n",
       "      <td>338</td>\n",
       "      <td>630.0</td>\n",
       "      <td>False</td>\n",
       "      <td>...</td>\n",
       "      <td>False</td>\n",
       "      <td>False</td>\n",
       "      <td>False</td>\n",
       "      <td>False</td>\n",
       "      <td>False</td>\n",
       "      <td>False</td>\n",
       "      <td>False</td>\n",
       "      <td>False</td>\n",
       "      <td>False</td>\n",
       "      <td>False</td>\n",
       "    </tr>\n",
       "    <tr>\n",
       "      <th>1636</th>\n",
       "      <td>65</td>\n",
       "      <td>0</td>\n",
       "      <td>1</td>\n",
       "      <td>29</td>\n",
       "      <td>1</td>\n",
       "      <td>0</td>\n",
       "      <td>66.0</td>\n",
       "      <td>287</td>\n",
       "      <td>699.0</td>\n",
       "      <td>False</td>\n",
       "      <td>...</td>\n",
       "      <td>False</td>\n",
       "      <td>False</td>\n",
       "      <td>False</td>\n",
       "      <td>False</td>\n",
       "      <td>False</td>\n",
       "      <td>False</td>\n",
       "      <td>False</td>\n",
       "      <td>False</td>\n",
       "      <td>False</td>\n",
       "      <td>True</td>\n",
       "    </tr>\n",
       "    <tr>\n",
       "      <th>2365</th>\n",
       "      <td>112</td>\n",
       "      <td>0</td>\n",
       "      <td>1</td>\n",
       "      <td>29</td>\n",
       "      <td>1</td>\n",
       "      <td>0</td>\n",
       "      <td>70.0</td>\n",
       "      <td>310</td>\n",
       "      <td>738.0</td>\n",
       "      <td>False</td>\n",
       "      <td>...</td>\n",
       "      <td>False</td>\n",
       "      <td>False</td>\n",
       "      <td>True</td>\n",
       "      <td>False</td>\n",
       "      <td>False</td>\n",
       "      <td>False</td>\n",
       "      <td>False</td>\n",
       "      <td>False</td>\n",
       "      <td>False</td>\n",
       "      <td>False</td>\n",
       "    </tr>\n",
       "    <tr>\n",
       "      <th>2751</th>\n",
       "      <td>128</td>\n",
       "      <td>0</td>\n",
       "      <td>0</td>\n",
       "      <td>0</td>\n",
       "      <td>0</td>\n",
       "      <td>0</td>\n",
       "      <td>64.0</td>\n",
       "      <td>278</td>\n",
       "      <td>649.0</td>\n",
       "      <td>False</td>\n",
       "      <td>...</td>\n",
       "      <td>False</td>\n",
       "      <td>False</td>\n",
       "      <td>False</td>\n",
       "      <td>False</td>\n",
       "      <td>False</td>\n",
       "      <td>False</td>\n",
       "      <td>False</td>\n",
       "      <td>False</td>\n",
       "      <td>True</td>\n",
       "      <td>False</td>\n",
       "    </tr>\n",
       "    <tr>\n",
       "      <th>1498</th>\n",
       "      <td>50</td>\n",
       "      <td>0</td>\n",
       "      <td>0</td>\n",
       "      <td>0</td>\n",
       "      <td>0</td>\n",
       "      <td>0</td>\n",
       "      <td>64.0</td>\n",
       "      <td>308</td>\n",
       "      <td>674.0</td>\n",
       "      <td>False</td>\n",
       "      <td>...</td>\n",
       "      <td>False</td>\n",
       "      <td>False</td>\n",
       "      <td>False</td>\n",
       "      <td>False</td>\n",
       "      <td>False</td>\n",
       "      <td>False</td>\n",
       "      <td>False</td>\n",
       "      <td>False</td>\n",
       "      <td>False</td>\n",
       "      <td>False</td>\n",
       "    </tr>\n",
       "    <tr>\n",
       "      <th>961</th>\n",
       "      <td>97</td>\n",
       "      <td>0</td>\n",
       "      <td>0</td>\n",
       "      <td>0</td>\n",
       "      <td>0</td>\n",
       "      <td>0</td>\n",
       "      <td>72.0</td>\n",
       "      <td>245</td>\n",
       "      <td>693.0</td>\n",
       "      <td>False</td>\n",
       "      <td>...</td>\n",
       "      <td>False</td>\n",
       "      <td>False</td>\n",
       "      <td>False</td>\n",
       "      <td>False</td>\n",
       "      <td>False</td>\n",
       "      <td>False</td>\n",
       "      <td>False</td>\n",
       "      <td>False</td>\n",
       "      <td>False</td>\n",
       "      <td>False</td>\n",
       "    </tr>\n",
       "  </tbody>\n",
       "</table>\n",
       "<p>10 rows × 61 columns</p>\n",
       "</div>"
      ],
      "text/plain": [
       "      account length  international plan  voice mail plan  \\\n",
       "121               41                   0                1   \n",
       "2480             105                   1                0   \n",
       "2847             119                   1                1   \n",
       "3093              27                   0                0   \n",
       "870              123                   0                0   \n",
       "1636              65                   0                1   \n",
       "2365             112                   0                1   \n",
       "2751             128                   0                0   \n",
       "1498              50                   0                0   \n",
       "961               97                   0                0   \n",
       "\n",
       "      number vmail messages  customer service calls  churn  total_charges  \\\n",
       "121                      22                       0      0           57.0   \n",
       "2480                      0                       3      0           65.0   \n",
       "2847                     32                       0      0           61.0   \n",
       "3093                      0                       2      1           75.0   \n",
       "870                       0                       0      0           55.0   \n",
       "1636                     29                       1      0           66.0   \n",
       "2365                     29                       1      0           70.0   \n",
       "2751                      0                       0      0           64.0   \n",
       "1498                      0                       0      0           64.0   \n",
       "961                       0                       0      0           72.0   \n",
       "\n",
       "      total_calls  total_minutes  state_AL  ...  state_TX  state_UT  state_VA  \\\n",
       "121           314          505.0     False  ...      True     False     False   \n",
       "2480          301          705.0     False  ...     False     False     False   \n",
       "2847          289          626.0     False  ...     False     False     False   \n",
       "3093          326          752.0     False  ...     False     False     False   \n",
       "870           338          630.0     False  ...     False     False     False   \n",
       "1636          287          699.0     False  ...     False     False     False   \n",
       "2365          310          738.0     False  ...     False     False      True   \n",
       "2751          278          649.0     False  ...     False     False     False   \n",
       "1498          308          674.0     False  ...     False     False     False   \n",
       "961           245          693.0     False  ...     False     False     False   \n",
       "\n",
       "      state_VT  state_WA  state_WI  state_WV  state_WY  area code_415  \\\n",
       "121      False     False     False     False     False          False   \n",
       "2480     False     False     False     False     False           True   \n",
       "2847     False     False     False     False     False           True   \n",
       "3093     False     False     False     False     False          False   \n",
       "870      False     False     False     False     False          False   \n",
       "1636     False     False     False     False     False          False   \n",
       "2365     False     False     False     False     False          False   \n",
       "2751     False     False     False     False     False           True   \n",
       "1498     False     False     False     False     False          False   \n",
       "961      False     False     False     False     False          False   \n",
       "\n",
       "      area code_510  \n",
       "121           False  \n",
       "2480          False  \n",
       "2847          False  \n",
       "3093           True  \n",
       "870           False  \n",
       "1636           True  \n",
       "2365          False  \n",
       "2751          False  \n",
       "1498          False  \n",
       "961           False  \n",
       "\n",
       "[10 rows x 61 columns]"
      ]
     },
     "execution_count": 23,
     "metadata": {},
     "output_type": "execute_result"
    }
   ],
   "source": [
    "data_copy.sample(10)"
   ]
  },
  {
   "cell_type": "code",
   "execution_count": 24,
   "metadata": {},
   "outputs": [
    {
     "data": {
      "text/html": [
       "<div>\n",
       "<style scoped>\n",
       "    .dataframe tbody tr th:only-of-type {\n",
       "        vertical-align: middle;\n",
       "    }\n",
       "\n",
       "    .dataframe tbody tr th {\n",
       "        vertical-align: top;\n",
       "    }\n",
       "\n",
       "    .dataframe thead th {\n",
       "        text-align: right;\n",
       "    }\n",
       "</style>\n",
       "<table border=\"1\" class=\"dataframe\">\n",
       "  <thead>\n",
       "    <tr style=\"text-align: right;\">\n",
       "      <th></th>\n",
       "      <th>account length</th>\n",
       "      <th>international plan</th>\n",
       "      <th>voice mail plan</th>\n",
       "      <th>number vmail messages</th>\n",
       "      <th>customer service calls</th>\n",
       "      <th>churn</th>\n",
       "      <th>total_charges</th>\n",
       "      <th>total_calls</th>\n",
       "      <th>total_minutes</th>\n",
       "      <th>state_AL</th>\n",
       "      <th>...</th>\n",
       "      <th>state_TX</th>\n",
       "      <th>state_UT</th>\n",
       "      <th>state_VA</th>\n",
       "      <th>state_VT</th>\n",
       "      <th>state_WA</th>\n",
       "      <th>state_WI</th>\n",
       "      <th>state_WV</th>\n",
       "      <th>state_WY</th>\n",
       "      <th>area code_415</th>\n",
       "      <th>area code_510</th>\n",
       "    </tr>\n",
       "  </thead>\n",
       "  <tbody>\n",
       "    <tr>\n",
       "      <th>2344</th>\n",
       "      <td>0.388430</td>\n",
       "      <td>0.0</td>\n",
       "      <td>0.0</td>\n",
       "      <td>0.000000</td>\n",
       "      <td>0.111111</td>\n",
       "      <td>0.0</td>\n",
       "      <td>0.534247</td>\n",
       "      <td>0.546667</td>\n",
       "      <td>0.489185</td>\n",
       "      <td>False</td>\n",
       "      <td>...</td>\n",
       "      <td>False</td>\n",
       "      <td>False</td>\n",
       "      <td>False</td>\n",
       "      <td>False</td>\n",
       "      <td>False</td>\n",
       "      <td>False</td>\n",
       "      <td>False</td>\n",
       "      <td>False</td>\n",
       "      <td>True</td>\n",
       "      <td>False</td>\n",
       "    </tr>\n",
       "    <tr>\n",
       "      <th>1186</th>\n",
       "      <td>0.533058</td>\n",
       "      <td>0.0</td>\n",
       "      <td>1.0</td>\n",
       "      <td>0.235294</td>\n",
       "      <td>0.000000</td>\n",
       "      <td>0.0</td>\n",
       "      <td>0.438356</td>\n",
       "      <td>0.484444</td>\n",
       "      <td>0.484193</td>\n",
       "      <td>False</td>\n",
       "      <td>...</td>\n",
       "      <td>False</td>\n",
       "      <td>False</td>\n",
       "      <td>False</td>\n",
       "      <td>False</td>\n",
       "      <td>False</td>\n",
       "      <td>False</td>\n",
       "      <td>False</td>\n",
       "      <td>False</td>\n",
       "      <td>True</td>\n",
       "      <td>False</td>\n",
       "    </tr>\n",
       "    <tr>\n",
       "      <th>1308</th>\n",
       "      <td>0.355372</td>\n",
       "      <td>0.0</td>\n",
       "      <td>0.0</td>\n",
       "      <td>0.000000</td>\n",
       "      <td>0.000000</td>\n",
       "      <td>0.0</td>\n",
       "      <td>0.479452</td>\n",
       "      <td>0.680000</td>\n",
       "      <td>0.460899</td>\n",
       "      <td>False</td>\n",
       "      <td>...</td>\n",
       "      <td>False</td>\n",
       "      <td>False</td>\n",
       "      <td>True</td>\n",
       "      <td>False</td>\n",
       "      <td>False</td>\n",
       "      <td>False</td>\n",
       "      <td>False</td>\n",
       "      <td>False</td>\n",
       "      <td>True</td>\n",
       "      <td>False</td>\n",
       "    </tr>\n",
       "    <tr>\n",
       "      <th>2265</th>\n",
       "      <td>0.516529</td>\n",
       "      <td>0.0</td>\n",
       "      <td>1.0</td>\n",
       "      <td>0.607843</td>\n",
       "      <td>0.000000</td>\n",
       "      <td>0.0</td>\n",
       "      <td>0.794521</td>\n",
       "      <td>0.355556</td>\n",
       "      <td>0.797005</td>\n",
       "      <td>False</td>\n",
       "      <td>...</td>\n",
       "      <td>False</td>\n",
       "      <td>False</td>\n",
       "      <td>False</td>\n",
       "      <td>False</td>\n",
       "      <td>False</td>\n",
       "      <td>False</td>\n",
       "      <td>False</td>\n",
       "      <td>False</td>\n",
       "      <td>True</td>\n",
       "      <td>False</td>\n",
       "    </tr>\n",
       "    <tr>\n",
       "      <th>2531</th>\n",
       "      <td>0.739669</td>\n",
       "      <td>0.0</td>\n",
       "      <td>0.0</td>\n",
       "      <td>0.000000</td>\n",
       "      <td>0.111111</td>\n",
       "      <td>0.0</td>\n",
       "      <td>0.383562</td>\n",
       "      <td>0.653333</td>\n",
       "      <td>0.389351</td>\n",
       "      <td>False</td>\n",
       "      <td>...</td>\n",
       "      <td>False</td>\n",
       "      <td>False</td>\n",
       "      <td>False</td>\n",
       "      <td>False</td>\n",
       "      <td>False</td>\n",
       "      <td>False</td>\n",
       "      <td>False</td>\n",
       "      <td>False</td>\n",
       "      <td>True</td>\n",
       "      <td>False</td>\n",
       "    </tr>\n",
       "    <tr>\n",
       "      <th>1690</th>\n",
       "      <td>0.714876</td>\n",
       "      <td>0.0</td>\n",
       "      <td>1.0</td>\n",
       "      <td>0.294118</td>\n",
       "      <td>0.111111</td>\n",
       "      <td>0.0</td>\n",
       "      <td>0.630137</td>\n",
       "      <td>0.822222</td>\n",
       "      <td>0.637271</td>\n",
       "      <td>False</td>\n",
       "      <td>...</td>\n",
       "      <td>False</td>\n",
       "      <td>False</td>\n",
       "      <td>False</td>\n",
       "      <td>False</td>\n",
       "      <td>False</td>\n",
       "      <td>False</td>\n",
       "      <td>False</td>\n",
       "      <td>False</td>\n",
       "      <td>True</td>\n",
       "      <td>False</td>\n",
       "    </tr>\n",
       "    <tr>\n",
       "      <th>1569</th>\n",
       "      <td>0.297521</td>\n",
       "      <td>0.0</td>\n",
       "      <td>1.0</td>\n",
       "      <td>0.607843</td>\n",
       "      <td>0.000000</td>\n",
       "      <td>0.0</td>\n",
       "      <td>0.520548</td>\n",
       "      <td>0.488889</td>\n",
       "      <td>0.545757</td>\n",
       "      <td>False</td>\n",
       "      <td>...</td>\n",
       "      <td>False</td>\n",
       "      <td>False</td>\n",
       "      <td>False</td>\n",
       "      <td>False</td>\n",
       "      <td>False</td>\n",
       "      <td>False</td>\n",
       "      <td>False</td>\n",
       "      <td>False</td>\n",
       "      <td>True</td>\n",
       "      <td>False</td>\n",
       "    </tr>\n",
       "    <tr>\n",
       "      <th>1982</th>\n",
       "      <td>0.512397</td>\n",
       "      <td>0.0</td>\n",
       "      <td>0.0</td>\n",
       "      <td>0.000000</td>\n",
       "      <td>0.000000</td>\n",
       "      <td>0.0</td>\n",
       "      <td>0.534247</td>\n",
       "      <td>0.293333</td>\n",
       "      <td>0.572379</td>\n",
       "      <td>False</td>\n",
       "      <td>...</td>\n",
       "      <td>False</td>\n",
       "      <td>False</td>\n",
       "      <td>False</td>\n",
       "      <td>False</td>\n",
       "      <td>False</td>\n",
       "      <td>False</td>\n",
       "      <td>False</td>\n",
       "      <td>False</td>\n",
       "      <td>True</td>\n",
       "      <td>False</td>\n",
       "    </tr>\n",
       "    <tr>\n",
       "      <th>2024</th>\n",
       "      <td>0.652893</td>\n",
       "      <td>0.0</td>\n",
       "      <td>1.0</td>\n",
       "      <td>0.450980</td>\n",
       "      <td>0.222222</td>\n",
       "      <td>0.0</td>\n",
       "      <td>0.438356</td>\n",
       "      <td>0.373333</td>\n",
       "      <td>0.432612</td>\n",
       "      <td>False</td>\n",
       "      <td>...</td>\n",
       "      <td>False</td>\n",
       "      <td>False</td>\n",
       "      <td>False</td>\n",
       "      <td>False</td>\n",
       "      <td>False</td>\n",
       "      <td>False</td>\n",
       "      <td>False</td>\n",
       "      <td>False</td>\n",
       "      <td>True</td>\n",
       "      <td>False</td>\n",
       "    </tr>\n",
       "    <tr>\n",
       "      <th>2124</th>\n",
       "      <td>0.173554</td>\n",
       "      <td>0.0</td>\n",
       "      <td>0.0</td>\n",
       "      <td>0.000000</td>\n",
       "      <td>0.333333</td>\n",
       "      <td>0.0</td>\n",
       "      <td>0.150685</td>\n",
       "      <td>0.542222</td>\n",
       "      <td>0.322795</td>\n",
       "      <td>False</td>\n",
       "      <td>...</td>\n",
       "      <td>False</td>\n",
       "      <td>False</td>\n",
       "      <td>False</td>\n",
       "      <td>False</td>\n",
       "      <td>False</td>\n",
       "      <td>False</td>\n",
       "      <td>False</td>\n",
       "      <td>False</td>\n",
       "      <td>True</td>\n",
       "      <td>False</td>\n",
       "    </tr>\n",
       "  </tbody>\n",
       "</table>\n",
       "<p>10 rows × 61 columns</p>\n",
       "</div>"
      ],
      "text/plain": [
       "      account length  international plan  voice mail plan  \\\n",
       "2344        0.388430                 0.0              0.0   \n",
       "1186        0.533058                 0.0              1.0   \n",
       "1308        0.355372                 0.0              0.0   \n",
       "2265        0.516529                 0.0              1.0   \n",
       "2531        0.739669                 0.0              0.0   \n",
       "1690        0.714876                 0.0              1.0   \n",
       "1569        0.297521                 0.0              1.0   \n",
       "1982        0.512397                 0.0              0.0   \n",
       "2024        0.652893                 0.0              1.0   \n",
       "2124        0.173554                 0.0              0.0   \n",
       "\n",
       "      number vmail messages  customer service calls  churn  total_charges  \\\n",
       "2344               0.000000                0.111111    0.0       0.534247   \n",
       "1186               0.235294                0.000000    0.0       0.438356   \n",
       "1308               0.000000                0.000000    0.0       0.479452   \n",
       "2265               0.607843                0.000000    0.0       0.794521   \n",
       "2531               0.000000                0.111111    0.0       0.383562   \n",
       "1690               0.294118                0.111111    0.0       0.630137   \n",
       "1569               0.607843                0.000000    0.0       0.520548   \n",
       "1982               0.000000                0.000000    0.0       0.534247   \n",
       "2024               0.450980                0.222222    0.0       0.438356   \n",
       "2124               0.000000                0.333333    0.0       0.150685   \n",
       "\n",
       "      total_calls  total_minutes  state_AL  ...  state_TX  state_UT  state_VA  \\\n",
       "2344     0.546667       0.489185     False  ...     False     False     False   \n",
       "1186     0.484444       0.484193     False  ...     False     False     False   \n",
       "1308     0.680000       0.460899     False  ...     False     False      True   \n",
       "2265     0.355556       0.797005     False  ...     False     False     False   \n",
       "2531     0.653333       0.389351     False  ...     False     False     False   \n",
       "1690     0.822222       0.637271     False  ...     False     False     False   \n",
       "1569     0.488889       0.545757     False  ...     False     False     False   \n",
       "1982     0.293333       0.572379     False  ...     False     False     False   \n",
       "2024     0.373333       0.432612     False  ...     False     False     False   \n",
       "2124     0.542222       0.322795     False  ...     False     False     False   \n",
       "\n",
       "      state_VT  state_WA  state_WI  state_WV  state_WY  area code_415  \\\n",
       "2344     False     False     False     False     False           True   \n",
       "1186     False     False     False     False     False           True   \n",
       "1308     False     False     False     False     False           True   \n",
       "2265     False     False     False     False     False           True   \n",
       "2531     False     False     False     False     False           True   \n",
       "1690     False     False     False     False     False           True   \n",
       "1569     False     False     False     False     False           True   \n",
       "1982     False     False     False     False     False           True   \n",
       "2024     False     False     False     False     False           True   \n",
       "2124     False     False     False     False     False           True   \n",
       "\n",
       "      area code_510  \n",
       "2344          False  \n",
       "1186          False  \n",
       "1308          False  \n",
       "2265          False  \n",
       "2531          False  \n",
       "1690          False  \n",
       "1569          False  \n",
       "1982          False  \n",
       "2024          False  \n",
       "2124          False  \n",
       "\n",
       "[10 rows x 61 columns]"
      ]
     },
     "execution_count": 24,
     "metadata": {},
     "output_type": "execute_result"
    }
   ],
   "source": [
    "\n",
    "#Scale the transform the data to avoid any interference from outliers\n",
    "scaler = MinMaxScaler()\n",
    "\n",
    "#iterate over the numerical columns in the data_copy set a scale of -1 to 1\n",
    "def scaling(columns):\n",
    "    return scaler.fit_transform(data_copy[columns].values.reshape(-1,1))\n",
    "for i in data_copy.select_dtypes(include=[np.number]).columns:\n",
    "    data_copy[i] = scaling(i)\n",
    "# Display 10 samples\n",
    "data_copy.sample(10)"
   ]
  },
  {
   "cell_type": "markdown",
   "metadata": {},
   "source": [
    "##### train test split"
   ]
  },
  {
   "cell_type": "code",
   "execution_count": 25,
   "metadata": {},
   "outputs": [],
   "source": [
    "\n",
    "#Defining X(independent variables) and y(target variable)\n",
    "X = data_copy.drop(\"churn\", axis=1)\n",
    "y = data_copy[\"churn\"]"
   ]
  },
  {
   "cell_type": "code",
   "execution_count": 26,
   "metadata": {},
   "outputs": [],
   "source": [
    "#train test split\n",
    "X_train, X_test, y_train, y_test = train_test_split(X,y, test_size=0.25, random_state=42)"
   ]
  },
  {
   "cell_type": "markdown",
   "metadata": {},
   "source": [
    "##### SMOTE technique"
   ]
  },
  {
   "cell_type": "code",
   "execution_count": 27,
   "metadata": {},
   "outputs": [],
   "source": [
    "#SMOTE to fix the class imbalancemnt found during the decison tree classification\n",
    "\n",
    "#instantiate SMOTENC\n",
    "\n",
    "smote = SMOTENC(categorical_features = [1,2],random_state = 123)\n",
    "resampled_X_train, resampled_y_train = smote.fit_resample(X_train,y_train)"
   ]
  },
  {
   "cell_type": "markdown",
   "metadata": {},
   "source": [
    "##### Logistic Regression"
   ]
  },
  {
   "cell_type": "code",
   "execution_count": 28,
   "metadata": {},
   "outputs": [],
   "source": [
    "#logistic regression\n",
    "logreg =LogisticRegression(random_state=42)"
   ]
  },
  {
   "cell_type": "code",
   "execution_count": 29,
   "metadata": {},
   "outputs": [],
   "source": [
    "#fit the model\n",
    "logreg.fit(resampled_X_train, resampled_y_train)\n",
    "#predict on the labels\n",
    "y_pred_log = logreg.predict(X_test)"
   ]
  },
  {
   "cell_type": "code",
   "execution_count": 30,
   "metadata": {},
   "outputs": [
    {
     "data": {
      "image/png": "[encoded data removed]",
      "text/plain": [
       "<Figure size 640x480 with 2 Axes>"
      ]
     },
     "metadata": {},
     "output_type": "display_data"
    }
   ],
   "source": [
    "\n",
    "def plot_confusion_matrix(y_true, y_pred, classes):\n",
    "    #plots confusion matrix\n",
    "\n",
    "    cm = confusion_matrix(y_true, y_pred)\n",
    "    plt.figure()\n",
    "    sns.heatmap(cm, annot=True, fmt='d', cmap='Blues', xticklabels=classes, yticklabels=classes)\n",
    "    plt.xlabel('Predicted label')\n",
    "    plt.ylabel('True label')\n",
    "    plt.show()\n",
    "\n",
    "plot_confusion_matrix(y_test, y_pred_log, [0,1])"
   ]
  },
  {
   "cell_type": "code",
   "execution_count": 31,
   "metadata": {},
   "outputs": [
    {
     "name": "stdout",
     "output_type": "stream",
     "text": [
      "              precision    recall  f1-score   support\n",
      "\n",
      "         0.0       0.94      0.78      0.85       709\n",
      "         1.0       0.36      0.72      0.48       125\n",
      "\n",
      "    accuracy                           0.77       834\n",
      "   macro avg       0.65      0.75      0.67       834\n",
      "weighted avg       0.85      0.77      0.80       834\n",
      "\n"
     ]
    }
   ],
   "source": [
    "print(classification_report(y_test,y_pred_log))"
   ]
  },
  {
   "cell_type": "markdown",
   "metadata": {},
   "source": [
    "The classification report of the logistic model in summary:\n",
    "\n",
    " Non-Churners Class 0.0: The model performs well, indicating it can reliably identify recall of 78% non-churners and 72 for churn instances\n",
    "\n",
    "Had an accuracy of 77% which is not enough so hence we try another type of model.\n",
    "\n",
    "Churners Class 1.0: The model has room for improvement, particularly in precision, which could be crucial for business decisions aimed at retaining customers.\n",
    ">>"
   ]
  },
  {
   "cell_type": "code",
   "execution_count": 32,
   "metadata": {},
   "outputs": [
    {
     "data": {
      "image/png": "[encoded data removed]",
      "text/plain": [
       "<Figure size 1000x600 with 1 Axes>"
      ]
     },
     "metadata": {},
     "output_type": "display_data"
    }
   ],
   "source": [
    "#Feature Importance in the logistics Regression\n",
    "\n",
    "importance_logreg = logreg.coef_[0]\n",
    "Feature_names = resampled_X_train.columns\n",
    "Feature_importances = pd.Series(importance_logreg,index=Feature_names)\n",
    "Feature_importances = Feature_importances.sort_values(ascending=False)\n",
    "plt.figure(figsize=(10,6))\n",
    "top_features = Feature_importances[:10] #selecting the top 10\n",
    "top_features.sort_values().plot(kind='barh')\n",
    "plt.xlabel('Importance')\n",
    "plt.ylabel('Features')\n",
    "plt.title('TOP 10 Feature Importances')\n",
    "plt.xlim(0, max(top_features)*1.1) #setting nthe xlim to the max importance vakue\n",
    "plt.show()"
   ]
  },
  {
   "cell_type": "markdown",
   "metadata": {},
   "source": [
    "##### Decision Tree Classification"
   ]
  },
  {
   "cell_type": "code",
   "execution_count": 33,
   "metadata": {},
   "outputs": [
    {
     "name": "stdout",
     "output_type": "stream",
     "text": [
      "Accuracy:0.88\n",
      "\n",
      "Classfication Report:\n",
      "              precision    recall  f1-score   support\n",
      "\n",
      "         0.0       0.95      0.91      0.93       709\n",
      "         1.0       0.59      0.75      0.66       125\n",
      "\n",
      "    accuracy                           0.88       834\n",
      "   macro avg       0.77      0.83      0.80       834\n",
      "weighted avg       0.90      0.88      0.89       834\n",
      "\n",
      "\n",
      "Confusion Matrix:\n",
      "[[644  65]\n",
      " [ 31  94]]\n"
     ]
    },
    {
     "data": {
      "image/png": "[encoded data removed]",
      "text/plain": [
       "<Figure size 800x600 with 1 Axes>"
      ]
     },
     "metadata": {},
     "output_type": "display_data"
    }
   ],
   "source": [
    "#Decision Tree \n",
    "\n",
    "#create the decision tree\n",
    "clf = DecisionTreeClassifier(random_state=42)\n",
    "\n",
    "#Train the classifier on the training data\n",
    "clf.fit(resampled_X_train, resampled_y_train)\n",
    "\n",
    "#Make predicitons on the testing data\n",
    "y_pred = clf.predict(X_test)\n",
    "\n",
    "#Evaluate the model\n",
    "accuracy = accuracy_score(y_test, y_pred)\n",
    "print(f\"Accuracy:{accuracy:.2f}\")\n",
    "\n",
    "#Dsiplay the classification report and confusion matrix\n",
    "print('\\nClassfication Report:')\n",
    "print(classification_report(y_test, y_pred))\n",
    "\n",
    "print(\"\\nConfusion Matrix:\")\n",
    "print(confusion_matrix(y_test, y_pred))\n",
    "\n",
    "# Calculate the confusion matrix\n",
    "cm = confusion_matrix(y_test, y_pred)\n",
    "\n",
    "# Create a DataFrame from the confusion matrix for better visualization\n",
    "conf_matrix_df = pd.DataFrame(cm, index=['No Churn', 'Churn'],columns=['No Churn', 'Churn'])\n",
    "\n",
    "# Plot the heatmap\n",
    "plt.figure(figsize=(8, 6))\n",
    "sns.heatmap(conf_matrix_df, annot=True, fmt=\"d\", cmap=\"Blues\", cbar=False)\n",
    "plt.title('Confusion Matrix')\n",
    "plt.xlabel('Predicted')\n",
    "plt.ylabel('Actual')\n",
    "plt.show()"
   ]
  },
  {
   "cell_type": "markdown",
   "metadata": {},
   "source": [
    "Classification reprt of Decision TRee summary:\n",
    "\n",
    "The model performs well in preddicting No churn instances, with high precision of 95% and recall of 91%\n",
    "\n",
    "For churn predictions precision is lower 59% which  indicates a higher rate of false positives but we still have a reasonable recall of 75%\n",
    "\n",
    "The model has an overall accuracy of 88% which suggest a good performance generally"
   ]
  },
  {
   "cell_type": "code",
   "execution_count": 34,
   "metadata": {},
   "outputs": [
    {
     "data": {
      "image/png": "[encoded data removed]",
      "text/plain": [
       "<Figure size 1500x500 with 1 Axes>"
      ]
     },
     "metadata": {},
     "output_type": "display_data"
    }
   ],
   "source": [
    "#Feature Importance in the Decision Tree\n",
    "\n",
    "column_names = list(resampled_X_train.columns)\n",
    "importances = clf.feature_importances_[0:10]\n",
    "indices = np.argsort(importances)\n",
    "\n",
    "plt.figure(figsize=(15,5))\n",
    "plt.title('Feature Importances')\n",
    "plt.barh(range(len(indices)),importances[indices], align= 'center')\n",
    "plt.yticks(range(len(indices)), [column_names[i] for i in indices])\n",
    "plt.xlabel('Relative Importance')\n",
    "plt.show()"
   ]
  },
  {
   "cell_type": "markdown",
   "metadata": {},
   "source": [
    "##### Random Tree Classifier"
   ]
  },
  {
   "cell_type": "code",
   "execution_count": 35,
   "metadata": {},
   "outputs": [
    {
     "data": {
      "text/html": [
       "<style>#sk-container-id-1 {color: black;background-color: white;}#sk-container-id-1 pre{padding: 0;}#sk-container-id-1 div.sk-toggleable {background-color: white;}#sk-container-id-1 label.sk-toggleable__label {cursor: pointer;display: block;width: 100%;margin-bottom: 0;padding: 0.3em;box-sizing: border-box;text-align: center;}#sk-container-id-1 label.sk-toggleable__label-arrow:before {content: \"▸\";float: left;margin-right: 0.25em;color: #696969;}#sk-container-id-1 label.sk-toggleable__label-arrow:hover:before {color: black;}#sk-container-id-1 div.sk-estimator:hover label.sk-toggleable__label-arrow:before {color: black;}#sk-container-id-1 div.sk-toggleable__content {max-height: 0;max-width: 0;overflow: hidden;text-align: left;background-color: #f0f8ff;}#sk-container-id-1 div.sk-toggleable__content pre {margin: 0.2em;color: black;border-radius: 0.25em;background-color: #f0f8ff;}#sk-container-id-1 input.sk-toggleable__control:checked~div.sk-toggleable__content {max-height: 200px;max-width: 100%;overflow: auto;}#sk-container-id-1 input.sk-toggleable__control:checked~label.sk-toggleable__label-arrow:before {content: \"▾\";}#sk-container-id-1 div.sk-estimator input.sk-toggleable__control:checked~label.sk-toggleable__label {background-color: #d4ebff;}#sk-container-id-1 div.sk-label input.sk-toggleable__control:checked~label.sk-toggleable__label {background-color: #d4ebff;}#sk-container-id-1 input.sk-hidden--visually {border: 0;clip: rect(1px 1px 1px 1px);clip: rect(1px, 1px, 1px, 1px);height: 1px;margin: -1px;overflow: hidden;padding: 0;position: absolute;width: 1px;}#sk-container-id-1 div.sk-estimator {font-family: monospace;background-color: #f0f8ff;border: 1px dotted black;border-radius: 0.25em;box-sizing: border-box;margin-bottom: 0.5em;}#sk-container-id-1 div.sk-estimator:hover {background-color: #d4ebff;}#sk-container-id-1 div.sk-parallel-item::after {content: \"\";width: 100%;border-bottom: 1px solid gray;flex-grow: 1;}#sk-container-id-1 div.sk-label:hover label.sk-toggleable__label {background-color: #d4ebff;}#sk-container-id-1 div.sk-serial::before {content: \"\";position: absolute;border-left: 1px solid gray;box-sizing: border-box;top: 0;bottom: 0;left: 50%;z-index: 0;}#sk-container-id-1 div.sk-serial {display: flex;flex-direction: column;align-items: center;background-color: white;padding-right: 0.2em;padding-left: 0.2em;position: relative;}#sk-container-id-1 div.sk-item {position: relative;z-index: 1;}#sk-container-id-1 div.sk-parallel {display: flex;align-items: stretch;justify-content: center;background-color: white;position: relative;}#sk-container-id-1 div.sk-item::before, #sk-container-id-1 div.sk-parallel-item::before {content: \"\";position: absolute;border-left: 1px solid gray;box-sizing: border-box;top: 0;bottom: 0;left: 50%;z-index: -1;}#sk-container-id-1 div.sk-parallel-item {display: flex;flex-direction: column;z-index: 1;position: relative;background-color: white;}#sk-container-id-1 div.sk-parallel-item:first-child::after {align-self: flex-end;width: 50%;}#sk-container-id-1 div.sk-parallel-item:last-child::after {align-self: flex-start;width: 50%;}#sk-container-id-1 div.sk-parallel-item:only-child::after {width: 0;}#sk-container-id-1 div.sk-dashed-wrapped {border: 1px dashed gray;margin: 0 0.4em 0.5em 0.4em;box-sizing: border-box;padding-bottom: 0.4em;background-color: white;}#sk-container-id-1 div.sk-label label {font-family: monospace;font-weight: bold;display: inline-block;line-height: 1.2em;}#sk-container-id-1 div.sk-label-container {text-align: center;}#sk-container-id-1 div.sk-container {/* jupyter's `normalize.less` sets `[hidden] { display: none; }` but bootstrap.min.css set `[hidden] { display: none !important; }` so we also need the `!important` here to be able to override the default hidden behavior on the sphinx rendered scikit-learn.org. See: https://github.com/scikit-learn/scikit-learn/issues/21755 */display: inline-block !important;position: relative;}#sk-container-id-1 div.sk-text-repr-fallback {display: none;}</style><div id=\"sk-container-id-1\" class=\"sk-top-container\"><div class=\"sk-text-repr-fallback\"><pre>RandomForestClassifier(random_state=42)</pre><b>In a Jupyter environment, please rerun this cell to show the HTML representation or trust the notebook. <br />On GitHub, the HTML representation is unable to render, please try loading this page with nbviewer.org.</b></div><div class=\"sk-container\" hidden><div class=\"sk-item\"><div class=\"sk-estimator sk-toggleable\"><input class=\"sk-toggleable__control sk-hidden--visually\" id=\"sk-estimator-id-1\" type=\"checkbox\" checked><label for=\"sk-estimator-id-1\" class=\"sk-toggleable__label sk-toggleable__label-arrow\">RandomForestClassifier</label><div class=\"sk-toggleable__content\"><pre>RandomForestClassifier(random_state=42)</pre></div></div></div></div></div>"
      ],
      "text/plain": [
       "RandomForestClassifier(random_state=42)"
      ]
     },
     "execution_count": 35,
     "metadata": {},
     "output_type": "execute_result"
    }
   ],
   "source": [
    "#Random forest classifier\n",
    "#Instantiate the classifier\n",
    "rf = RandomForestClassifier(random_state=42)\n",
    "#Fit on the training data\n",
    "rf.fit(resampled_X_train,resampled_y_train)"
   ]
  },
  {
   "cell_type": "code",
   "execution_count": 36,
   "metadata": {},
   "outputs": [],
   "source": [
    "#predict on the test data\n",
    "y_pred_rf = rf.predict(X_test)"
   ]
  },
  {
   "cell_type": "code",
   "execution_count": 37,
   "metadata": {},
   "outputs": [
    {
     "data": {
      "image/png": "[encoded data removed]",
      "text/plain": [
       "<Figure size 640x480 with 2 Axes>"
      ]
     },
     "metadata": {},
     "output_type": "display_data"
    }
   ],
   "source": [
    "#rf confusion matrix\n",
    "\n",
    "plot_confusion_matrix(y_test, y_pred_rf,[0,1])"
   ]
  },
  {
   "cell_type": "code",
   "execution_count": 38,
   "metadata": {},
   "outputs": [
    {
     "name": "stdout",
     "output_type": "stream",
     "text": [
      "              precision    recall  f1-score   support\n",
      "\n",
      "         0.0       0.95      0.96      0.95       709\n",
      "         1.0       0.75      0.74      0.74       125\n",
      "\n",
      "    accuracy                           0.92       834\n",
      "   macro avg       0.85      0.85      0.85       834\n",
      "weighted avg       0.92      0.92      0.92       834\n",
      "\n"
     ]
    }
   ],
   "source": [
    "print(classification_report(y_test, y_pred_rf))"
   ]
  },
  {
   "cell_type": "markdown",
   "metadata": {},
   "source": [
    "Classification report of Random Tree Classifier summary:\n",
    "\n",
    "The model performs well, with high precision for both classes the no churn and churn\n",
    "\n",
    "No churn instances are well identified with high recall of 96% and percision is also high at 95%\n",
    "\n",
    "For Churn predictions recall is 74% indicating that the model identified  74% of the actual churn instances. Percision for churn is also high at 75%\n",
    "\n",
    "overall accuracy is at 92% suggest a good overall performance "
   ]
  },
  {
   "cell_type": "code",
   "execution_count": 39,
   "metadata": {},
   "outputs": [
    {
     "data": {
      "image/png": "[encoded data removed]",
      "text/plain": [
       "<Figure size 1500x500 with 1 Axes>"
      ]
     },
     "metadata": {},
     "output_type": "display_data"
    }
   ],
   "source": [
    "column_names = list(resampled_X_train.columns)\n",
    "importances = rf.feature_importances_[0:10]\n",
    "indices = np.argsort(importances)\n",
    "\n",
    "plt.figure(figsize=(15,5))\n",
    "plt.title('Feature Importances')\n",
    "plt.barh(range(len(indices)),importances[indices], align= 'center')\n",
    "plt.yticks(range(len(indices)), [column_names[i] for i in indices])\n",
    "plt.xlabel('Relative Importance')\n",
    "plt.show()"
   ]
  },
  {
   "cell_type": "markdown",
   "metadata": {},
   "source": [
    "## EVALUATION"
   ]
  },
  {
   "cell_type": "markdown",
   "metadata": {},
   "source": [
    "This part will evaluate models  on recall score and ROC_AUC to be able to tell what model is best amd tuning for better perfomance "
   ]
  },
  {
   "cell_type": "markdown",
   "metadata": {},
   "source": [
    "##### Recall Score"
   ]
  },
  {
   "cell_type": "markdown",
   "metadata": {},
   "source": [
    "To measure positive instances the model correctly identifies. The higher recall score the better the mdel."
   ]
  },
  {
   "cell_type": "code",
   "execution_count": 40,
   "metadata": {},
   "outputs": [
    {
     "name": "stdout",
     "output_type": "stream",
     "text": [
      "                        recall\n",
      "classifiers                   \n",
      "LogisticRegression       0.720\n",
      "DecisionTreeClassifier   0.752\n",
      "RandomForestClassifier   0.752\n"
     ]
    }
   ],
   "source": [
    "np.random.seed(42)\n",
    "\n",
    "classifiers = [LogisticRegression(max_iter=1000),\n",
    "               DecisionTreeClassifier(),\n",
    "               RandomForestClassifier()]\n",
    "\n",
    "result_table = pd.DataFrame(columns=['classifiers', 'recall'])\n",
    "\n",
    "results_list = []\n",
    "for cls in classifiers:\n",
    "    model = cls.fit(resampled_X_train, resampled_y_train)\n",
    "    y_pred = model.predict(X_test)\n",
    "    \n",
    "    recall = recall_score(y_test, y_pred, average='binary')\n",
    "    \n",
    "    results_list.append({'classifiers': cls.__class__.__name__,\n",
    "                         'recall': recall})\n",
    "\n",
    "result_table = pd.concat([result_table, pd.DataFrame(results_list)], ignore_index=True)\n",
    "result_table.set_index('classifiers', inplace=True)\n",
    "\n",
    "print(result_table)"
   ]
  },
  {
   "cell_type": "code",
   "execution_count": 41,
   "metadata": {},
   "outputs": [
    {
     "data": {
      "image/png": "[encoded data removed]",
      "text/plain": [
       "<Figure size 800x600 with 1 Axes>"
      ]
     },
     "metadata": {},
     "output_type": "display_data"
    }
   ],
   "source": [
    "X, y = make_classification(n_samples=1000, n_features=20, random_state=42)\n",
    "resampled_X_train, X_test, resampled_y_train, y_test = train_test_split(X, y, test_size=0.3, random_state=42)\n",
    "\n",
    "classifiers = [LogisticRegression(max_iter=1000),\n",
    "               DecisionTreeClassifier(),\n",
    "               RandomForestClassifier()]\n",
    "\n",
    "# Define a result table as a DataFrame\n",
    "results_list = []\n",
    "\n",
    "# Train the models and record the results\n",
    "for cls in classifiers:\n",
    "    model = cls.fit(resampled_X_train, resampled_y_train)\n",
    "    yproba = model.predict_proba(X_test)[:, 1]\n",
    "    \n",
    "    fpr, tpr, _ = roc_curve(y_test, yproba)\n",
    "    auc = roc_auc_score(y_test, yproba)\n",
    "    \n",
    "    results_list.append({'classifiers': cls.__class__.__name__,\n",
    "                         'fpr': fpr.tolist(), \n",
    "                         'tpr': tpr.tolist(), \n",
    "                         'auc': auc})\n",
    "\n",
    "# Convert the list of results into a DataFrame\n",
    "result_table = pd.DataFrame(results_list)\n",
    "\n",
    "# Set name of the classifiers as index labels\n",
    "result_table.set_index('classifiers', inplace=True)\n",
    "\n",
    "# Plot the ROC curves\n",
    "fig = plt.figure(figsize=(8, 6))\n",
    "\n",
    "for i in result_table.index:\n",
    "    plt.plot(result_table.loc[i]['fpr'], \n",
    "             result_table.loc[i]['tpr'], \n",
    "             label=\"{}, AUC={:.3f}\".format(i, result_table.loc[i]['auc']))\n",
    "    \n",
    "plt.plot([0, 1], [0, 1], color='orange', linestyle='--')\n",
    "\n",
    "plt.xticks(np.arange(0.0, 1.1, step=0.1))\n",
    "plt.xlabel(\"False Positive Rate\", fontsize=15)\n",
    "\n",
    "plt.yticks(np.arange(0.0, 1.1, step=0.1))\n",
    "plt.ylabel(\"True Positive Rate\", fontsize=15)\n",
    "\n",
    "plt.title('ROC Curve Analysis', fontsize=15)\n",
    "plt.legend(prop={'size':13}, loc='lower right')\n",
    "\n",
    "plt.show()"
   ]
  },
  {
   "cell_type": "markdown",
   "metadata": {},
   "source": [
    "  The RandomForestClassifer according to our ROC curve is the best performing model compared against the others  with a score of 0.927 and the lowest being a score of 0.864 that being the LogistiRegression\n",
    "\n",
    "  According to our binary classifier the ROC curve illustrates the trade-off between true positive rate (TPR) and false positive rate (FPR)\n",
    "\n",
    "  TPR for positives instances correctly classified\n",
    "\n",
    "  FPR for negative instances incorrectly classified as positives"
   ]
  },
  {
   "cell_type": "markdown",
   "metadata": {},
   "source": [
    "##### Model Tuning"
   ]
  },
  {
   "cell_type": "markdown",
   "metadata": {},
   "source": [
    "To improve on our model perfomance  we need to carry out model tuning from the evaluation section RandomForestClassification"
   ]
  },
  {
   "cell_type": "code",
   "execution_count": 42,
   "metadata": {},
   "outputs": [
    {
     "name": "stdout",
     "output_type": "stream",
     "text": [
      "Best Parameters: {'criterion': 'entropy', 'max_depth': 15, 'min_samples_leaf': 2, 'min_samples_split': 5, 'n_estimators': 50}\n",
      "\n",
      "Classification Report:\n",
      "              precision    recall  f1-score   support\n",
      "\n",
      "           0       0.83      0.89      0.86       145\n",
      "           1       0.89      0.83      0.86       155\n",
      "\n",
      "    accuracy                           0.86       300\n",
      "   macro avg       0.86      0.86      0.86       300\n",
      "weighted avg       0.86      0.86      0.86       300\n",
      "\n"
     ]
    }
   ],
   "source": [
    "#Tuning RandomForestClassification\n",
    "\n",
    "#Define the grid\n",
    "param_grid = {\n",
    "    \"n_estimators\": [50, 100],\n",
    "    \"max_depth\": [15, 20, 35],\n",
    "    \"min_samples_split\":[5, 10, 15],\n",
    "    \"min_samples_leaf\":[2, 4, 10],\n",
    "    \"criterion\":['entropy','gini']\n",
    "}\n",
    "\n",
    "#Create a RandomForestClassifier instance\n",
    "rf_classifier = RandomForestClassifier(random_state=42)\n",
    "grid_search = GridSearchCV(estimator=rf_classifier, param_grid=param_grid, scoring=\"recall\", cv=5, n_jobs=-1)\n",
    "grid_search.fit(resampled_X_train, resampled_y_train)\n",
    "best_params = grid_search.best_params_\n",
    "best_rf_classifier = grid_search.best_estimator_\n",
    "#Evaluate\n",
    "y_pred_grid = best_rf_classifier.predict(X_test)\n",
    "#Display parameters\n",
    "print(\"Best Parameters:\", best_params)\n",
    "\n",
    "#Display the classification report\n",
    "print(\"\\nClassification Report:\")\n",
    "print(classification_report(y_test, y_pred_grid))"
   ]
  },
  {
   "cell_type": "code",
   "execution_count": 43,
   "metadata": {},
   "outputs": [
    {
     "data": {
      "image/png": "[encoded data removed]",
      "text/plain": [
       "<Figure size 640x480 with 1 Axes>"
      ]
     },
     "metadata": {},
     "output_type": "display_data"
    }
   ],
   "source": [
    "# predicted probabilities for the positive class\n",
    "y_prob_grid = best_rf_classifier.predict_proba(X_test)[:, 1]\n",
    "\n",
    "#The false positive rate, true positive rate, and thresholds\n",
    "fpr, tpr, thresholds = roc_curve(y_test, y_prob_grid)\n",
    "\n",
    "# AUC score\n",
    "auc_score = roc_auc_score(y_test, y_prob_grid)\n",
    "\n",
    "# Plot the ROC curve\n",
    "plt.plot(fpr, tpr, label='ROC Curve (AUC = {:.2f})'.format(auc_score))\n",
    "plt.plot([0, 1], [0, 1], 'k--')  # Diagonal line for random classifier\n",
    "plt.xlabel('False Positive Rate')\n",
    "plt.ylabel('True Positive Rate')\n",
    "plt.title('Receiver Operating Characteristic (ROC) Curve')\n",
    "plt.legend()\n",
    "plt.show()"
   ]
  },
  {
   "cell_type": "markdown",
   "metadata": {},
   "source": [
    "our model identified  90% recall score of actual churn instance which is pretty good "
   ]
  },
  {
   "cell_type": "code",
   "execution_count": 46,
   "metadata": {},
   "outputs": [
    {
     "name": "stdout",
     "output_type": "stream",
     "text": [
      "                  Feature  Importance\n",
      "6             total_calls    0.384179\n",
      "2           total_minutes    0.210568\n",
      "8           area code_510    0.120321\n",
      "0  customer service calls    0.115930\n",
      "5          account length    0.033704\n",
      "4         voice mail plan    0.029235\n",
      "9           area code_415    0.028676\n",
      "3   number vmail messages    0.028585\n",
      "1           total_charges    0.025850\n",
      "7      international plan    0.022953\n"
     ]
    },
    {
     "data": {
      "image/png": "[encoded data removed]",
      "text/plain": [
       "<Figure size 1000x600 with 1 Axes>"
      ]
     },
     "metadata": {},
     "output_type": "display_data"
    }
   ],
   "source": [
    "\n",
    "# Fit a RandomForestClassifier\n",
    "tuned_rf_classifier = RandomForestClassifier(random_state=42)\n",
    "tuned_rf_classifier.fit(X_train, y_train)\n",
    "\n",
    "# Actual feature names \n",
    "feature_names = [\n",
    "    'customer service calls', 'total_charges', 'total_minutes',\n",
    "    'number vmail messages', 'voice mail plan', 'account length',\n",
    "    'total_calls', 'international plan', 'area code_510', 'area code_415'\n",
    "]\n",
    "\n",
    "# Get feature importance\n",
    "feature_importances = tuned_rf_classifier.feature_importances_\n",
    "\n",
    "# Create a DataFrame with feature names and their importances\n",
    "feature_importance_df = pd.DataFrame({'Feature': feature_names, 'Importance': feature_importances})\n",
    "\n",
    "# Sort the DataFrame by importance in descending order\n",
    "top_features = feature_importance_df.sort_values(by='Importance', ascending=False).head(10)\n",
    "\n",
    "# Print the top 10 features\n",
    "print(top_features)\n",
    "\n",
    "# Set figure size\n",
    "plt.figure(figsize=(10, 6))\n",
    "\n",
    "# Create a bar plot of the top 10 features\n",
    "sns.barplot(x='Importance', y='Feature', data=top_features, palette='viridis')\n",
    "\n",
    "# Add titles and labels\n",
    "plt.title('Top 10 Feature Importances')\n",
    "plt.xlabel('Importance')\n",
    "plt.ylabel('Feature')\n",
    "\n",
    "# Show the plot\n",
    "plt.show()"
   ]
  },
  {
   "cell_type": "markdown",
   "metadata": {},
   "source": [
    "our predictive model has a recall score of 90% which is good"
   ]
  },
  {
   "cell_type": "markdown",
   "metadata": {},
   "source": [
    "##### Reccomendations"
   ]
  },
  {
   "cell_type": "markdown",
   "metadata": {},
   "source": [
    "Ways on how syriatel can reduce on churning rate:\n",
    "\n",
    "They should focus on customer service calls  to improve retention\n",
    "\n",
    "They should consider promoting international plans to customers with frequent international calls\n",
    "\n",
    "They should potentially adjust pricing strategies to curb churning\n",
    "\n",
    "On account length they should reward long term customers to enhance loyality\n",
    "\n",
    "Analyze regional difference abetween area code 510 and area code 415 and customize services for these area code"
   ]
  }
 ],
 "metadata": {
  "kernelspec": {
   "display_name": "base",
   "language": "python",
   "name": "python3"
  },
  "language_info": {
   "codemirror_mode": {
    "name": "ipython",
    "version": 3
   },
   "file_extension": ".py",
   "mimetype": "text/x-python",
   "name": "python",
   "nbconvert_exporter": "python",
   "pygments_lexer": "ipython3",
   "version": "3.11.7"
  }
 },
 "nbformat": 4,
 "nbformat_minor": 2
}
